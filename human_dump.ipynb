{
 "cells": [
  {
   "cell_type": "code",
   "execution_count": 2,
   "metadata": {},
   "outputs": [],
   "source": [
    "import torch\n",
    "from l2r import Rank\n",
    "from sklearn import preprocessing\n",
    "import numpy as np\n",
    "from matplotlib import pyplot as plt\n",
    "import matplotlib\n",
    "matplotlib.rcParams['axes.unicode_minus'] =False\n",
    "import ujson\n",
    "np.set_printoptions(threshold = np.inf, suppress = True)"
   ]
  },
  {
   "cell_type": "code",
   "execution_count": 3,
   "metadata": {},
   "outputs": [],
   "source": [
    "model = \"Lambdarank\"\n",
    "train = np.load('./train.npy')\n",
    "test = np.load('./test.npy')\n",
    "benchmark = np.load('./benchmark.npy')\n",
    "n_feature = 6\n",
    "h1_units = 512\n",
    "h2_units = 256\n",
    "epoch = 10\n",
    "lr = 0.0001\n",
    "nt = 20\n",
    "k = 1"
   ]
  },
  {
   "cell_type": "code",
   "execution_count": 4,
   "metadata": {},
   "outputs": [],
   "source": [
    "rank = Rank(rank_model=model, training_data=train, n_feature=n_feature, h1_units=h1_units, \\\n",
    "            h2_units=h2_units, epoch=epoch, lr=lr, number_of_trees=nt)"
   ]
  },
  {
   "cell_type": "code",
   "execution_count": 5,
   "metadata": {},
   "outputs": [
    {
     "data": {
      "text/plain": [
       "<All keys matched successfully>"
      ]
     },
     "execution_count": 5,
     "metadata": {},
     "output_type": "execute_result"
    }
   ],
   "source": [
    "rank.handler.model.load_state_dict(torch.load('model.pth'))"
   ]
  },
  {
   "cell_type": "markdown",
   "metadata": {},
   "source": [
    "# how many relation(1 relation contains 1 entities) per paper?"
   ]
  },
  {
   "cell_type": "code",
   "execution_count": 9,
   "metadata": {},
   "outputs": [],
   "source": [
    "predict_result = rank.handler.predict(test, 1)"
   ]
  },
  {
   "cell_type": "code",
   "execution_count": 10,
   "metadata": {},
   "outputs": [],
   "source": [
    "f_pqid = open('data/pqid.txt', 'r', encoding='utf8')\n",
    "qid = {}\n",
    "idq = {}\n",
    "flag = 0\n",
    "for line in f_pqid:\n",
    "    c = line[:-1].replace(\"\\\"\",\"\").split('\\t')\n",
    "    qid[str(c[0]) + \"@\" + str(c[1])] = flag\n",
    "    idq[flag] = str(c[0]) + \"@\" + str(c[1])\n",
    "    flag += 1"
   ]
  },
  {
   "cell_type": "code",
   "execution_count": 19,
   "metadata": {},
   "outputs": [
    {
     "data": {
      "text/plain": [
       "([[(13025941, -2.954145)], [(13026087, -0.999835)]], [0, 1])"
      ]
     },
     "execution_count": 19,
     "metadata": {},
     "output_type": "execute_result"
    }
   ],
   "source": [
    "list(predict_result[0].values())[:2], list(idq.keys())[:2]"
   ]
  },
  {
   "cell_type": "code",
   "execution_count": null,
   "metadata": {},
   "outputs": [],
   "source": [
    "for key in predict_result.keys():\n",
    "    if key in idq.keys():\n",
    "        "
   ]
  }
 ],
 "metadata": {
  "kernelspec": {
   "display_name": "Python 3",
   "language": "python",
   "name": "python3"
  },
  "language_info": {
   "codemirror_mode": {
    "name": "ipython",
    "version": 3
   },
   "file_extension": ".py",
   "mimetype": "text/x-python",
   "name": "python",
   "nbconvert_exporter": "python",
   "pygments_lexer": "ipython3",
   "version": "3.7.4"
  }
 },
 "nbformat": 4,
 "nbformat_minor": 4
}
