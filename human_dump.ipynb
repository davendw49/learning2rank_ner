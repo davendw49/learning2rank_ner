{
 "cells": [
  {
   "cell_type": "code",
   "execution_count": 23,
   "metadata": {},
   "outputs": [],
   "source": [
    "import torch\n",
    "from l2r import Rank\n",
    "from sklearn import preprocessing\n",
    "import numpy as np\n",
    "import ujson\n",
    "from tqdm.notebook import tqdm\n",
    "np.set_printoptions(threshold=np.inf, suppress=True)"
   ]
  },
  {
   "cell_type": "code",
   "execution_count": 21,
   "metadata": {
    "jupyter": {
     "source_hidden": true
    }
   },
   "outputs": [],
   "source": [
    "def process_StandardScal(x):\n",
    "    standard_scaler = preprocessing.StandardScaler().fit(x)\n",
    "    x_train_mean =standard_scaler.mean_\n",
    "    x_train_std = standard_scaler.scale_\n",
    "    x_train_standard = standard_scaler.transform(x)\n",
    "    return x_train_standard, x_train_mean, x_train_std\n",
    "\n",
    "def process_StandardScal_test(x,mean,std):\n",
    "    standard_scaler = preprocessing.StandardScaler().fit(x)\n",
    "    standard_scaler.mean_ = mean\n",
    "    standard_scaler.std_ = std\n",
    "    x_test = standard_scaler.transform(x)\n",
    "    return x_test\n",
    "\n",
    "def evaluate(pred_result,true_result):\n",
    "    pred_data = {}\n",
    "    for val in pred_result.values():\n",
    "        for item in val:\n",
    "            pred_data[item[0]] = item[1]\n",
    "    true_data = {}\n",
    "    for res in true_result:\n",
    "        true_data[res[0]] = res[1]\n",
    "    return (factor(pred_data, true_data))\n",
    "\n",
    "def factor(pred_data,true_data):\n",
    "    tp = 0\n",
    "    fp = 0\n",
    "    fn = 0\n",
    "    tn = 0\n",
    "    for key in pred_data.keys():\n",
    "        if true_data[key]==1:\n",
    "            tp += 1\n",
    "        else:\n",
    "            fp += 1\n",
    "    for key in true_data.keys():\n",
    "        if key not in pred_data.keys():\n",
    "            if true_data[key]==1:\n",
    "                fn += 1\n",
    "            else:\n",
    "                tn += 1\n",
    "    precision = tp / (tp + fp)\n",
    "    recall = tp / (tp + fn)\n",
    "    f1_score = 2 * precision * recall / (precision + recall)\n",
    "    accuracy = (tp+tn)/(tp+tn+fp+fn)\n",
    "    print(\"factors in predict\")\n",
    "    print(\"precision: {},\\nrecall: {},\\nf1_score: {},\\naccuracy: {}\".format(precision, recall, f1_score, accuracy))\n",
    "    return precision, recall, f1_score, accuracy\n",
    "\n",
    "def plot(ndcg_record):\n",
    "    x = np.array(list(ndcg_record.keys()))\n",
    "    y = np.array(list(ndcg_record.values()))\n",
    "    fig = plt.figure()\n",
    "    axes = fig.add_axes([0.1, 0.1, 0.9, 0.9])\n",
    "    axes.plot(x, y, 'r')\n",
    "    plt.show()"
   ]
  },
  {
   "cell_type": "code",
   "execution_count": 2,
   "metadata": {},
   "outputs": [],
   "source": [
    "model = \"Lambdarank\"\n",
    "train = np.load('./train.npy')\n",
    "test = np.load('./test.npy')\n",
    "benchmark = np.load('./benchmark.npy')\n",
    "alldata = np.load('./alldata.npy')\n",
    "n_feature = 6\n",
    "h1_units = 512\n",
    "h2_units = 256\n",
    "epoch = 10\n",
    "lr = 0.0001\n",
    "nt = 20\n",
    "k = 1"
   ]
  },
  {
   "cell_type": "code",
   "execution_count": 3,
   "metadata": {},
   "outputs": [
    {
     "data": {
      "text/plain": [
       "113052942"
      ]
     },
     "execution_count": 3,
     "metadata": {},
     "output_type": "execute_result"
    }
   ],
   "source": [
    "alldata.size"
   ]
  },
  {
   "cell_type": "code",
   "execution_count": 27,
   "metadata": {},
   "outputs": [],
   "source": [
    "# 获取训练数据集的大小\n",
    "alldata_len = alldata.shape[0]\n",
    "# 训练集和测试集拼接\n",
    "data = np.concatenate((train,test),axis=0)\n",
    "# 获取基于总量标准化的训练数据、以及均值和标准差\n",
    "x_data, x_train_mean, x_train_std = process_StandardScal(data[:,3:])\n",
    "# 对benchmark进行标准化，并拼接\n",
    "x_alldata = process_StandardScal_test(alldata[:,3:],x_train_mean, x_train_std)\n",
    "alldata = np.hstack((alldata[:,:3],x_alldata))"
   ]
  },
  {
   "cell_type": "code",
   "execution_count": 28,
   "metadata": {},
   "outputs": [
    {
     "name": "stderr",
     "output_type": "stream",
     "text": [
      "100%|██████████| 1144441/1144441 [07:31<00:00, 2536.02it/s]\n"
     ]
    }
   ],
   "source": [
    "rank = Rank(rank_model=model, training_data=train, n_feature=n_feature, h1_units=h1_units, h2_units=h2_units, epoch=epoch, lr=lr, number_of_trees=nt)\n",
    "rank.handler.model.load_state_dict(torch.load('model.pth'))\n",
    "predict_result_score, predict_result_pair = rank.predict(alldata, 1)"
   ]
  },
  {
   "cell_type": "code",
   "execution_count": 29,
   "metadata": {},
   "outputs": [
    {
     "data": {
      "application/vnd.jupyter.widget-view+json": {
       "model_id": "16fbf76640004a7c80782a7b305e3abd",
       "version_major": 2,
       "version_minor": 0
      },
      "text/plain": [
       "HBox(children=(FloatProgress(value=0.0, max=12561438.0), HTML(value='')))"
      ]
     },
     "metadata": {},
     "output_type": "display_data"
    },
    {
     "name": "stdout",
     "output_type": "stream",
     "text": [
      "\n"
     ]
    }
   ],
   "source": [
    "f = open('res.txt', 'w')\n",
    "for k in tqdm(predict_result_pair.keys()):\n",
    "    print(k, predict_result_pair[k], file=f)\n",
    "f.close()"
   ]
  },
  {
   "cell_type": "code",
   "execution_count": 9,
   "metadata": {},
   "outputs": [
    {
     "name": "stdout",
     "output_type": "stream",
     "text": [
      "12522182 -2.83149790763855\n",
      "12522183 -4.406253337860107\n",
      "12522184 -2.715312957763672\n",
      "12522185 -1.2879914045333862\n",
      "12522186 -2.398498773574829\n",
      "12522187 -2.063746690750122\n",
      "12522188 -1.4096819162368774\n",
      "12522189 -1.107888102531433\n",
      "12522190 -2.152543783187866\n",
      "12522191 -2.223851203918457\n"
     ]
    }
   ],
   "source": [
    "!head res.txt"
   ]
  },
  {
   "cell_type": "code",
   "execution_count": 30,
   "metadata": {},
   "outputs": [
    {
     "data": {
      "application/vnd.jupyter.widget-view+json": {
       "model_id": "59b29d154662444db9f9294a525eab38",
       "version_major": 2,
       "version_minor": 0
      },
      "text/plain": [
       "HBox(children=(FloatProgress(value=0.0, max=12561438.0), HTML(value='')))"
      ]
     },
     "metadata": {},
     "output_type": "display_data"
    },
    {
     "name": "stdout",
     "output_type": "stream",
     "text": [
      "\n"
     ]
    }
   ],
   "source": [
    "tmin = 0\n",
    "for k in tqdm(predict_result_score):\n",
    "    if k < tmin:\n",
    "        tmin = k"
   ]
  },
  {
   "cell_type": "code",
   "execution_count": 31,
   "metadata": {},
   "outputs": [
    {
     "data": {
      "text/plain": [
       "-3.852494239807129"
      ]
     },
     "execution_count": 31,
     "metadata": {},
     "output_type": "execute_result"
    }
   ],
   "source": [
    "tmin"
   ]
  },
  {
   "cell_type": "code",
   "execution_count": 32,
   "metadata": {},
   "outputs": [
    {
     "data": {
      "application/vnd.jupyter.widget-view+json": {
       "model_id": "4293ffd34b2b4bee9fcf68070d9faa9e",
       "version_major": 2,
       "version_minor": 0
      },
      "text/plain": [
       "HBox(children=(FloatProgress(value=0.0, max=12561438.0), HTML(value='')))"
      ]
     },
     "metadata": {},
     "output_type": "display_data"
    },
    {
     "name": "stdout",
     "output_type": "stream",
     "text": [
      "\n",
      "-2 10879375 25.17557967325404\n"
     ]
    },
    {
     "data": {
      "application/vnd.jupyter.widget-view+json": {
       "model_id": "f26735d02e344b4c93863d9e872093b8",
       "version_major": 2,
       "version_minor": 0
      },
      "text/plain": [
       "HBox(children=(FloatProgress(value=0.0, max=12561438.0), HTML(value='')))"
      ]
     },
     "metadata": {},
     "output_type": "display_data"
    },
    {
     "name": "stdout",
     "output_type": "stream",
     "text": [
      "\n",
      "-1.5 9111574 21.084773453047625\n"
     ]
    },
    {
     "data": {
      "application/vnd.jupyter.widget-view+json": {
       "model_id": "b6fdcd8a213b407891b534d784933a9e",
       "version_major": 2,
       "version_minor": 0
      },
      "text/plain": [
       "HBox(children=(FloatProgress(value=0.0, max=12561438.0), HTML(value='')))"
      ]
     },
     "metadata": {},
     "output_type": "display_data"
    },
    {
     "name": "stdout",
     "output_type": "stream",
     "text": [
      "\n",
      "-1 7062370 16.342782431619383\n"
     ]
    },
    {
     "data": {
      "application/vnd.jupyter.widget-view+json": {
       "model_id": "4a7e2dc7bc9547f8b44c6fe59c07f91d",
       "version_major": 2,
       "version_minor": 0
      },
      "text/plain": [
       "HBox(children=(FloatProgress(value=0.0, max=12561438.0), HTML(value='')))"
      ]
     },
     "metadata": {},
     "output_type": "display_data"
    },
    {
     "name": "stdout",
     "output_type": "stream",
     "text": [
      "\n",
      "-0.5 4819718 11.153140186050816\n"
     ]
    },
    {
     "data": {
      "application/vnd.jupyter.widget-view+json": {
       "model_id": "1cc50c0bafcc4eb788771e220af35d5e",
       "version_major": 2,
       "version_minor": 0
      },
      "text/plain": [
       "HBox(children=(FloatProgress(value=0.0, max=12561438.0), HTML(value='')))"
      ]
     },
     "metadata": {},
     "output_type": "display_data"
    },
    {
     "name": "stdout",
     "output_type": "stream",
     "text": [
      "\n",
      "0 3526412 8.160346184107002\n"
     ]
    },
    {
     "data": {
      "application/vnd.jupyter.widget-view+json": {
       "model_id": "c899b1f74edc42619a39df3ac1ac38b3",
       "version_major": 2,
       "version_minor": 0
      },
      "text/plain": [
       "HBox(children=(FloatProgress(value=0.0, max=12561438.0), HTML(value='')))"
      ]
     },
     "metadata": {},
     "output_type": "display_data"
    },
    {
     "name": "stdout",
     "output_type": "stream",
     "text": [
      "\n",
      "2 772794 1.788295459804693\n"
     ]
    },
    {
     "data": {
      "application/vnd.jupyter.widget-view+json": {
       "model_id": "0e7bfb113c6f412cac158778bfc3b2e5",
       "version_major": 2,
       "version_minor": 0
      },
      "text/plain": [
       "HBox(children=(FloatProgress(value=0.0, max=12561438.0), HTML(value='')))"
      ]
     },
     "metadata": {},
     "output_type": "display_data"
    },
    {
     "name": "stdout",
     "output_type": "stream",
     "text": [
      "\n",
      "1.5 1193638 2.762155782848151\n"
     ]
    },
    {
     "data": {
      "application/vnd.jupyter.widget-view+json": {
       "model_id": "67d612c1f4a145eb934333fa68e97ef5",
       "version_major": 2,
       "version_minor": 0
      },
      "text/plain": [
       "HBox(children=(FloatProgress(value=0.0, max=12561438.0), HTML(value='')))"
      ]
     },
     "metadata": {},
     "output_type": "display_data"
    },
    {
     "name": "stdout",
     "output_type": "stream",
     "text": [
      "\n",
      "1 1815042 4.2001249595038646\n"
     ]
    },
    {
     "data": {
      "application/vnd.jupyter.widget-view+json": {
       "model_id": "5ec0afd5816d47f8a2eb66b87747c6a0",
       "version_major": 2,
       "version_minor": 0
      },
      "text/plain": [
       "HBox(children=(FloatProgress(value=0.0, max=12561438.0), HTML(value='')))"
      ]
     },
     "metadata": {},
     "output_type": "display_data"
    },
    {
     "name": "stdout",
     "output_type": "stream",
     "text": [
      "\n",
      "0.5 2605968 6.030379043828389\n"
     ]
    }
   ],
   "source": [
    "threshold = [-2,-1.5,-1,-0.5,0,2,1.5,1,0.5]\n",
    "for th in threshold:\n",
    "    th_sum = 0\n",
    "    for k in tqdm(predict_result_pair.keys()):\n",
    "        if predict_result_pair[k] > th:\n",
    "            th_sum+=1\n",
    "    print(th, th_sum, float(th_sum/432140))"
   ]
  },
  {
   "cell_type": "code",
   "execution_count": 33,
   "metadata": {},
   "outputs": [
    {
     "data": {
      "application/vnd.jupyter.widget-view+json": {
       "model_id": "24b0b5c261f040fe9928c441229456ac",
       "version_major": 2,
       "version_minor": 0
      },
      "text/plain": [
       "HBox(children=(FloatProgress(value=0.0, max=12561438.0), HTML(value='')))"
      ]
     },
     "metadata": {},
     "output_type": "display_data"
    },
    {
     "name": "stdout",
     "output_type": "stream",
     "text": [
      "\n",
      "1.92 828824 1.9179525153885315\n"
     ]
    },
    {
     "data": {
      "application/vnd.jupyter.widget-view+json": {
       "model_id": "240e9e08be0e4f1c86c829ae25cba81a",
       "version_major": 2,
       "version_minor": 0
      },
      "text/plain": [
       "HBox(children=(FloatProgress(value=0.0, max=12561438.0), HTML(value='')))"
      ]
     },
     "metadata": {},
     "output_type": "display_data"
    },
    {
     "name": "stdout",
     "output_type": "stream",
     "text": [
      "\n",
      "2.5 462295 1.0697806266487713\n"
     ]
    },
    {
     "data": {
      "application/vnd.jupyter.widget-view+json": {
       "model_id": "9b0d17b3ef074e969862830717926459",
       "version_major": 2,
       "version_minor": 0
      },
      "text/plain": [
       "HBox(children=(FloatProgress(value=0.0, max=12561438.0), HTML(value='')))"
      ]
     },
     "metadata": {},
     "output_type": "display_data"
    },
    {
     "name": "stdout",
     "output_type": "stream",
     "text": [
      "\n",
      "3 236470 0.5472069236821401\n"
     ]
    }
   ],
   "source": [
    "threshold = [1.92, 2.5, 3]\n",
    "for th in threshold:\n",
    "    th_sum = 0\n",
    "    for k in tqdm(predict_result_pair.keys()):\n",
    "        if predict_result_pair[k] > th:\n",
    "            th_sum+=1\n",
    "    print(th, th_sum, float(th_sum/432140))"
   ]
  },
  {
   "cell_type": "code",
   "execution_count": 41,
   "metadata": {},
   "outputs": [
    {
     "data": {
      "application/vnd.jupyter.widget-view+json": {
       "model_id": "677377ab3849438bb46bca805f6d9217",
       "version_major": 2,
       "version_minor": 0
      },
      "text/plain": [
       "HBox(children=(FloatProgress(value=0.0, max=12561438.0), HTML(value='')))"
      ]
     },
     "metadata": {},
     "output_type": "display_data"
    },
    {
     "name": "stdout",
     "output_type": "stream",
     "text": [
      "\n"
     ]
    }
   ],
   "source": [
    "aeid2pqid = {}\n",
    "for item in tqdm(alldata):\n",
    "    aeid2pqid[int(item[2])] = int(item[1])"
   ]
  },
  {
   "cell_type": "code",
   "execution_count": 42,
   "metadata": {},
   "outputs": [
    {
     "data": {
      "application/vnd.jupyter.widget-view+json": {
       "model_id": "ba07acb633174daca10212169915d73f",
       "version_major": 2,
       "version_minor": 0
      },
      "text/plain": [
       "HBox(children=(FloatProgress(value=0.0, max=12561438.0), HTML(value='')))"
      ]
     },
     "metadata": {},
     "output_type": "display_data"
    },
    {
     "name": "stdout",
     "output_type": "stream",
     "text": [
      "\n"
     ]
    }
   ],
   "source": [
    "pqids = []\n",
    "for k in tqdm(predict_result_pair.keys()):\n",
    "    if predict_result_pair[k] > 3:\n",
    "        pqids.append(aeid2pqid[int(k)])"
   ]
  },
  {
   "cell_type": "code",
   "execution_count": 43,
   "metadata": {},
   "outputs": [
    {
     "data": {
      "text/plain": [
       "236470"
      ]
     },
     "execution_count": 43,
     "metadata": {},
     "output_type": "execute_result"
    }
   ],
   "source": [
    "len(pqids)"
   ]
  },
  {
   "cell_type": "code",
   "execution_count": 44,
   "metadata": {},
   "outputs": [
    {
     "data": {
      "text/plain": [
       "[1, 3, 3, 5, 5, 5, 5, 9, 14, 22]"
      ]
     },
     "execution_count": 44,
     "metadata": {},
     "output_type": "execute_result"
    }
   ],
   "source": [
    "pqids[:10]"
   ]
  },
  {
   "cell_type": "code",
   "execution_count": 46,
   "metadata": {},
   "outputs": [],
   "source": [
    "relation_map = ujson.load(open('rel.json', 'r'))"
   ]
  },
  {
   "cell_type": "code",
   "execution_count": 47,
   "metadata": {},
   "outputs": [
    {
     "data": {
      "application/vnd.jupyter.widget-view+json": {
       "model_id": "b292e86b4cb04e51ae8d105a14f059bd",
       "version_major": 2,
       "version_minor": 0
      },
      "text/plain": [
       "HBox(children=(FloatProgress(value=1.0, bar_style='info', max=1.0), HTML(value='')))"
      ]
     },
     "metadata": {},
     "output_type": "display_data"
    },
    {
     "name": "stdout",
     "output_type": "stream",
     "text": [
      "\n"
     ]
    }
   ],
   "source": [
    "all_pqid = open('data/allpq.txt', 'r')\n",
    "allqid = {}\n",
    "allidq = {}\n",
    "flag = 0\n",
    "for line in tqdm(all_pqid):\n",
    "    c = line[:-1].replace(\"\\\"\",\"\").split('\\t')\n",
    "    if str(c[0]) + \"@\" + relation_map[str(c[1])] in allqid.keys():\n",
    "        continue\n",
    "    allqid[str(c[0]) + \"@\" + relation_map[str(c[1])]] = flag\n",
    "    allidq[flag] = str(c[0]) + \"@\" + relation_map[str(c[1])]\n",
    "    flag += 1"
   ]
  },
  {
   "cell_type": "code",
   "execution_count": 49,
   "metadata": {},
   "outputs": [
    {
     "name": "stdout",
     "output_type": "stream",
     "text": [
      "\"198244830\"\t\"aim\"\n",
      "\"198244830\"\t\"aim\"\n",
      "\"198244830\"\t\"aim\"\n",
      "\"198244830\"\t\"aim\"\n",
      "\"198244830\"\t\"aim\"\n",
      "\"198244830\"\t\"aim\"\n",
      "\"198244830\"\t\"aim\"\n",
      "\"198244830\"\t\"method\"\n",
      "\"198244830\"\t\"method\"\n",
      "\"198244830\"\t\"method\"\n"
     ]
    }
   ],
   "source": [
    "!head data/allpq.txt"
   ]
  },
  {
   "cell_type": "code",
   "execution_count": 50,
   "metadata": {},
   "outputs": [
    {
     "data": {
      "application/vnd.jupyter.widget-view+json": {
       "model_id": "74a7c30866ea454d9eb0ae874edecbcf",
       "version_major": 2,
       "version_minor": 0
      },
      "text/plain": [
       "HBox(children=(FloatProgress(value=0.0, max=236470.0), HTML(value='')))"
      ]
     },
     "metadata": {},
     "output_type": "display_data"
    },
    {
     "name": "stdout",
     "output_type": "stream",
     "text": [
      "\n"
     ]
    }
   ],
   "source": [
    "ana = {} \n",
    "for one_pqid in tqdm(pqids):\n",
    "    paper_id = allidq[one_pqid].split('@')[0]\n",
    "    question = allidq[one_pqid].split('@')[1]\n",
    "    if paper_id not in ana.keys():\n",
    "        ana[paper_id] = 1\n",
    "    else:\n",
    "        ana[paper_id] += 1"
   ]
  },
  {
   "cell_type": "code",
   "execution_count": 51,
   "metadata": {},
   "outputs": [],
   "source": [
    "tmax = 0\n",
    "for k in ana.keys():\n",
    "    if ana[k] > tmax:\n",
    "        tmax = ana[k]"
   ]
  },
  {
   "cell_type": "code",
   "execution_count": 52,
   "metadata": {},
   "outputs": [
    {
     "data": {
      "text/plain": [
       "24"
      ]
     },
     "execution_count": 52,
     "metadata": {},
     "output_type": "execute_result"
    }
   ],
   "source": [
    "tmax"
   ]
  },
  {
   "cell_type": "code",
   "execution_count": 54,
   "metadata": {},
   "outputs": [
    {
     "data": {
      "text/plain": [
       "119151"
      ]
     },
     "execution_count": 54,
     "metadata": {},
     "output_type": "execute_result"
    }
   ],
   "source": [
    "len(ana.keys())"
   ]
  },
  {
   "cell_type": "code",
   "execution_count": 55,
   "metadata": {},
   "outputs": [
    {
     "name": "stdout",
     "output_type": "stream",
     "text": [
      "39202247\n"
     ]
    }
   ],
   "source": [
    "for k in ana.keys():\n",
    "    if ana[k] == 24:\n",
    "        print(k)"
   ]
  },
  {
   "cell_type": "code",
   "execution_count": null,
   "metadata": {},
   "outputs": [],
   "source": []
  }
 ],
 "metadata": {
  "kernelspec": {
   "display_name": "Python 3",
   "language": "python",
   "name": "python3"
  },
  "language_info": {
   "codemirror_mode": {
    "name": "ipython",
    "version": 3
   },
   "file_extension": ".py",
   "mimetype": "text/x-python",
   "name": "python",
   "nbconvert_exporter": "python",
   "pygments_lexer": "ipython3",
   "version": "3.8.5"
  }
 },
 "nbformat": 4,
 "nbformat_minor": 4
}
