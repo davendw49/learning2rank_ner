{
 "cells": [
  {
   "cell_type": "markdown",
   "metadata": {},
   "source": [
    "# L2R in AceKG\n",
    "---\n",
    "- with the example in DDEKG"
   ]
  },
  {
   "cell_type": "code",
   "execution_count": 94,
   "metadata": {},
   "outputs": [],
   "source": [
    "import pymysql\n",
    "import ujson\n",
    "import pandas as pd\n",
    "from tqdm.notebook import tqdm\n",
    "import numpy as np\n",
    "import torch\n",
    "np.set_printoptions(threshold = np.inf, suppress = True)"
   ]
  },
  {
   "cell_type": "code",
   "execution_count": 95,
   "metadata": {},
   "outputs": [],
   "source": [
    "db = pymysql.connect(host=\"10.10.10.10\", port=3306, user=\"readonly\", password=\"readonly\", db=\"acekg\", charset=\"utf8\")"
   ]
  },
  {
   "cell_type": "markdown",
   "metadata": {},
   "source": [
    "## Data\n",
    "---\n",
    "- paper question id => qid (query id)"
   ]
  },
  {
   "cell_type": "code",
   "execution_count": 96,
   "metadata": {},
   "outputs": [],
   "source": [
    "f_pqid = open('data/pqid.txt', 'r', encoding='utf8')\n",
    "qid = {}\n",
    "idq = {}\n",
    "flag = 0\n",
    "for line in f_pqid:\n",
    "    c = line[:-1].replace(\"\\\"\",\"\").split('\\t')\n",
    "    qid[str(c[0]) + \"@\" + str(c[1])] = flag\n",
    "    idq[flag] = str(c[0]) + \"@\" + str(c[1])\n",
    "    flag += 1"
   ]
  },
  {
   "cell_type": "markdown",
   "metadata": {},
   "source": [
    "### Benchmark\n",
    "---\n",
    "- 52 absolutely correct top3 entity"
   ]
  },
  {
   "cell_type": "code",
   "execution_count": 173,
   "metadata": {},
   "outputs": [],
   "source": [
    "f_benchmark_paper_id = open('data/benchmark_paper.txt', 'r', encoding='utf8')\n",
    "f_benchmark_res_top3 = open('data/benchmark_result.txt', 'r', encoding='utf8')\n",
    "\n",
    "bm_paper = []\n",
    "for line in f_benchmark_paper_id:\n",
    "    bm_paper.append(line[:-1])\n",
    "\n",
    "bm_answer = []\n",
    "for line in f_benchmark_res_top3:\n",
    "    bm_answer.append(line[:-1])"
   ]
  },
  {
   "cell_type": "code",
   "execution_count": 174,
   "metadata": {},
   "outputs": [
    {
     "data": {
      "text/plain": [
       "(['420342715', '87250949'], ['21042067', '21042097'])"
      ]
     },
     "execution_count": 174,
     "metadata": {},
     "output_type": "execute_result"
    }
   ],
   "source": [
    "bm_paper[:2], bm_answer[:2]"
   ]
  },
  {
   "cell_type": "markdown",
   "metadata": {},
   "source": [
    "> bm_answer dpaqn_id --> ae_id"
   ]
  },
  {
   "cell_type": "markdown",
   "metadata": {
    "pycharm": {
     "name": "#%% md\n"
    }
   },
   "source": [
    "> abs_score, title_score, qa_score, word_len, letter_len, complex_len"
   ]
  },
  {
   "cell_type": "code",
   "execution_count": 175,
   "metadata": {},
   "outputs": [],
   "source": [
    "def get_benchmark(paper_id):\n",
    "    cur = db.cursor()\n",
    "    sql='SELECT paper_id, question, abs_score, title_score, qa_score, word_len, letter_len, complex_len, ae_id FROM dde_paper_abstract_QA_ner WHERE paper_id = ' + str(paper_id)\n",
    "    cur.execute(sql)\n",
    "    one_paper_bm = []\n",
    "    try:\n",
    "        result = cur.fetchall()\n",
    "        for res in result:\n",
    "            para = []\n",
    "            for i in range(2, 8):\n",
    "                para.append(round(float(res[i]),5))\n",
    "            one_line_bm = \"qid:\"+str(qid[str(res[0])+\"@\"+str(res[1])])+\" aeid:\"+str(res[8])+\" 1:\"+str(round(para[0], 5))+\" 2:\"+str(round(para[1], 5))+\" 3:\"+str(round(para[2], 5))+\" 4:\"+str(round(para[3], 5))+\" 5:\"+str(round(para[4], 5))+\" 6:\"+str(round(para[5], 5))\n",
    "            one_paper_bm.append((one_line_bm, res[8]))\n",
    "        return one_paper_bm\n",
    "    except Exception as e:\n",
    "        print(e)\n",
    "        return one_paper_bm"
   ]
  },
  {
   "cell_type": "code",
   "execution_count": 176,
   "metadata": {},
   "outputs": [
    {
     "data": {
      "text/plain": [
       "[('qid:5123 aeid:17739994 1:0.16046 2:0.22299 3:0.36968 4:2.0 5:17.0 6:1.0',\n",
       "  17739994),\n",
       " ('qid:5123 aeid:17740016 1:0.13081 2:0.14377 3:0.32 4:2.0 5:17.0 6:1.0',\n",
       "  17740016),\n",
       " ('qid:5123 aeid:17740034 1:0.09939 2:0.26934 3:0.18308 4:1.0 5:10.0 6:0.0',\n",
       "  17740034),\n",
       " ('qid:5123 aeid:17740052 1:0.12657 2:0.10073 3:0.3283 4:1.0 5:7.0 6:0.0',\n",
       "  17740052),\n",
       " ('qid:5123 aeid:17740067 1:0.12446 2:0.25913 3:0.17614 4:1.0 5:9.0 6:0.0',\n",
       "  17740067),\n",
       " ('qid:5123 aeid:17740093 1:0.10691 2:0.2087 3:0.14186 4:1.0 5:9.0 6:0.0',\n",
       "  17740093),\n",
       " ('qid:5123 aeid:17740110 1:0.11803 2:0.15885 3:0.10798 4:1.0 5:11.0 6:0.0',\n",
       "  17740110),\n",
       " ('qid:5123 aeid:17740126 1:0.11565 2:0.03756 3:0.2475 4:1.0 5:6.0 6:0.0',\n",
       "  17740126),\n",
       " ('qid:5123 aeid:17740142 1:0.06985 2:0.02143 3:0.15978 4:1.0 5:10.0 6:0.0',\n",
       "  17740142),\n",
       " ('qid:5123 aeid:17740156 1:0.0476 2:0.15894 3:0.10804 4:1.0 5:6.0 6:0.0',\n",
       "  17740156)]"
      ]
     },
     "execution_count": 176,
     "metadata": {},
     "output_type": "execute_result"
    }
   ],
   "source": [
    "get_benchmark(420342715)[:10]"
   ]
  },
  {
   "cell_type": "code",
   "execution_count": 177,
   "metadata": {},
   "outputs": [
    {
     "data": {
      "application/vnd.jupyter.widget-view+json": {
       "model_id": "ed80fb64f8644fd28af5425bb045a1da",
       "version_major": 2,
       "version_minor": 0
      },
      "text/plain": [
       "HBox(children=(FloatProgress(value=0.0, max=52.0), HTML(value='')))"
      ]
     },
     "metadata": {},
     "output_type": "display_data"
    },
    {
     "name": "stdout",
     "output_type": "stream",
     "text": [
      "\n"
     ]
    }
   ],
   "source": [
    "benchmark_tmp = []\n",
    "for pid in tqdm(bm_paper):\n",
    "    benchmark_tmp += get_benchmark(paper_id=pid)"
   ]
  },
  {
   "cell_type": "code",
   "execution_count": 178,
   "metadata": {},
   "outputs": [],
   "source": [
    "benchmark = []\n",
    "dp_bench = []\n",
    "for tmp in benchmark_tmp:\n",
    "    if str(tmp[1]) in bm_answer:\n",
    "        bm_tmp = '1 ' + tmp[0]\n",
    "    else:\n",
    "        bm_tmp = '0 ' + tmp[0]\n",
    "    benchmark.append(bm_tmp)\n",
    "    dp_bench.append(tmp[1])"
   ]
  },
  {
   "cell_type": "code",
   "execution_count": 180,
   "metadata": {},
   "outputs": [
    {
     "data": {
      "text/plain": [
       "(['1 qid:5123 aeid:17739994 1:0.16046 2:0.22299 3:0.36968 4:2.0 5:17.0 6:1.0',\n",
       "  '1 qid:5123 aeid:17740016 1:0.13081 2:0.14377 3:0.32 4:2.0 5:17.0 6:1.0',\n",
       "  '0 qid:5123 aeid:17740034 1:0.09939 2:0.26934 3:0.18308 4:1.0 5:10.0 6:0.0',\n",
       "  '0 qid:5123 aeid:17740052 1:0.12657 2:0.10073 3:0.3283 4:1.0 5:7.0 6:0.0',\n",
       "  '0 qid:5123 aeid:17740067 1:0.12446 2:0.25913 3:0.17614 4:1.0 5:9.0 6:0.0',\n",
       "  '0 qid:5123 aeid:17740093 1:0.10691 2:0.2087 3:0.14186 4:1.0 5:9.0 6:0.0',\n",
       "  '0 qid:5123 aeid:17740110 1:0.11803 2:0.15885 3:0.10798 4:1.0 5:11.0 6:0.0',\n",
       "  '0 qid:5123 aeid:17740126 1:0.11565 2:0.03756 3:0.2475 4:1.0 5:6.0 6:0.0',\n",
       "  '0 qid:5123 aeid:17740142 1:0.06985 2:0.02143 3:0.15978 4:1.0 5:10.0 6:0.0',\n",
       "  '0 qid:5123 aeid:17740156 1:0.0476 2:0.15894 3:0.10804 4:1.0 5:6.0 6:0.0'],\n",
       " [17739994,\n",
       "  17740016,\n",
       "  17740034,\n",
       "  17740052,\n",
       "  17740067,\n",
       "  17740093,\n",
       "  17740110,\n",
       "  17740126,\n",
       "  17740142,\n",
       "  17740156])"
      ]
     },
     "execution_count": 180,
     "metadata": {},
     "output_type": "execute_result"
    }
   ],
   "source": [
    "benchmark[:10], dp_bench[:10]"
   ]
  },
  {
   "cell_type": "code",
   "execution_count": 181,
   "metadata": {},
   "outputs": [],
   "source": [
    "bm = open('data/benchmark.txt', 'w', encoding='utf8')\n",
    "for line in benchmark:\n",
    "    print(line[:-1], file=bm)"
   ]
  },
  {
   "cell_type": "code",
   "execution_count": 182,
   "metadata": {
    "pycharm": {
     "name": "#%%\n"
    }
   },
   "outputs": [],
   "source": [
    "bm.close()\n",
    "f_benchmark_paper_id.close()\n",
    "f_benchmark_res_top3.close()\n",
    "f_pqid.close()"
   ]
  },
  {
   "cell_type": "markdown",
   "metadata": {
    "pycharm": {
     "name": "#%% md\n"
    }
   },
   "source": [
    "### train&test set\n",
    "---\n",
    "- collect by [mark.acemap.cn](mark.acemap.cn)\n",
    "- **including the benchamark**, The first column is label, the second column is qid, and the following columns are features (total 6 features)."
   ]
  },
  {
   "cell_type": "code",
   "execution_count": 183,
   "metadata": {},
   "outputs": [],
   "source": [
    "def get_dataset():\n",
    "    dataset = []\n",
    "    dp_list = []\n",
    "    cur = db.cursor()\n",
    "    sql='SELECT paper_id, question, abs_score, title_score,qa_score, word_len, letter_len, complex_len, mark, ae_id FROM dde_paper_abstract_QA_ner where mark is not null'\n",
    "    cur.execute(sql)\n",
    "    result = cur.fetchall()\n",
    "    for res in result:\n",
    "        para = []\n",
    "        for i in range(2, 8):\n",
    "            para.append(round(float(res[i]),5))\n",
    "        one_line = str(res[8])+\" qid:\"+str(qid[str(res[0])+\"@\"+str(res[1])])+\" aeid:\"+str(res[9])+\" 1:\"+str(round(para[0], 5))+\" 2:\"+str(round(para[1], 5))+\" 3:\"+str(round(para[2], 5))+\" 4:\"+str(round(para[3], 5))+\" 5:\"+str(round(para[4], 5))+\" 6:\"+str(round(para[5], 5))\n",
    "        dataset.append(one_line)\n",
    "        dp_list.append(int(res[9]))\n",
    "    return dataset, dp_list"
   ]
  },
  {
   "cell_type": "code",
   "execution_count": 184,
   "metadata": {},
   "outputs": [
    {
     "data": {
      "text/plain": [
       "8247"
      ]
     },
     "execution_count": 184,
     "metadata": {},
     "output_type": "execute_result"
    }
   ],
   "source": [
    "dataset, dp_list = get_dataset()\n",
    "len(dataset)"
   ]
  },
  {
   "cell_type": "code",
   "execution_count": 185,
   "metadata": {},
   "outputs": [],
   "source": [
    "ds = open('data/all.txt', 'w', encoding='utf8')\n",
    "\n",
    "for line in dataset:\n",
    "    print(line[:-1], file=ds)\n",
    "ds.close()"
   ]
  },
  {
   "cell_type": "code",
   "execution_count": 186,
   "metadata": {
    "pycharm": {
     "name": "#%%\n"
    }
   },
   "outputs": [],
   "source": [
    "# db.close()"
   ]
  },
  {
   "cell_type": "markdown",
   "metadata": {
    "pycharm": {
     "name": "#%% md\n"
    }
   },
   "source": [
    "- divide into train:test = 4:1"
   ]
  },
  {
   "cell_type": "code",
   "execution_count": 199,
   "metadata": {},
   "outputs": [
    {
     "data": {
      "text/plain": [
       "'0 qid:4059 aeid:14753826 1:0.02323 2:0.02874 3:0.04246 4:1.0 5:10.0 6:0.0'"
      ]
     },
     "execution_count": 199,
     "metadata": {},
     "output_type": "execute_result"
    }
   ],
   "source": [
    "dataset[1]"
   ]
  },
  {
   "cell_type": "code",
   "execution_count": 193,
   "metadata": {},
   "outputs": [],
   "source": [
    "def build_dateset(dataset, dp_list):\n",
    "    training_set = []\n",
    "    testing_set = []\n",
    "    dp_train = []\n",
    "    dp_test = []\n",
    "    for index in range(0, len(dataset)):\n",
    "        c = dataset[index].split(\" \")\n",
    "        record = [int(c[0]), int(c[1].split(\":\")[1]), int(c[2].split(\":\")[1]), float(c[3].split(\":\")[1]), float(c[4].split(\":\")[1]), float(c[5].split(\":\")[1]), float(c[6].split(\":\")[1]), float(c[7].split(\":\")[1]),float(c[8].split(\":\")[1])]    \n",
    "        if index < 4/5*len(dataset):\n",
    "            training_set.append(record)\n",
    "            dp_train.append(dp_list[index])\n",
    "        else:\n",
    "            testing_set.append(record)\n",
    "            dp_test.append(dp_list[index])\n",
    "    return training_set, testing_set, dp_train, dp_test\n",
    "\n",
    "def build_benchmark(benchmark):\n",
    "    benchmark_set = []\n",
    "    for index in range(0, len(benchmark)):\n",
    "        c = benchmark[index].split(\" \")\n",
    "        record = [int(c[0]), int(c[1].split(\":\")[1]), int(c[2].split(\":\")[1]), float(c[3].split(\":\")[1]), float(c[4].split(\":\")[1]), float(c[5].split(\":\")[1]), float(c[6].split(\":\")[1]), float(c[7].split(\":\")[1]),float(c[8].split(\":\")[1])]    \n",
    "        benchmark_set.append(record)\n",
    "    return benchmark_set"
   ]
  },
  {
   "cell_type": "code",
   "execution_count": 195,
   "metadata": {},
   "outputs": [],
   "source": [
    "training_set, testing_set, dp_train, dp_test = build_dateset(dataset, dp_list)\n",
    "benchmark_set = build_benchmark(benchmark)\n"
   ]
  },
  {
   "cell_type": "code",
   "execution_count": 196,
   "metadata": {},
   "outputs": [
    {
     "data": {
      "text/plain": [
       "2619"
      ]
     },
     "execution_count": 196,
     "metadata": {},
     "output_type": "execute_result"
    }
   ],
   "source": [
    "len(benchmark_set)"
   ]
  },
  {
   "cell_type": "code",
   "execution_count": 197,
   "metadata": {},
   "outputs": [
    {
     "data": {
      "text/plain": [
       "(array([[       1.     ,     4059.     , 14753805.     ,        0.07169,\n",
       "                0.11169,        0.16501,        1.     ,        8.     ,\n",
       "                0.     ],\n",
       "        [       0.     ,     4059.     , 14753826.     ,        0.02323,\n",
       "                0.02874,        0.04246,        1.     ,       10.     ,\n",
       "                0.     ],\n",
       "        [       0.     ,     4059.     , 14753946.     ,        0.03952,\n",
       "                0.0438 ,        0.06472,        1.     ,        9.     ,\n",
       "                0.     ]]),\n",
       " array([[       0.     ,      429.     , 13025941.     ,        0.03194,\n",
       "                0.0435 ,        0.05837,        1.     ,        8.     ,\n",
       "                0.     ],\n",
       "        [       0.     ,      433.     , 13025952.     ,        0.12283,\n",
       "                0.008  ,        0.23426,        2.     ,       19.     ,\n",
       "                1.     ],\n",
       "        [       0.     ,      433.     , 13025990.     ,        0.17215,\n",
       "                0.     ,        0.1505 ,        1.     ,       13.     ,\n",
       "                0.     ]]))"
      ]
     },
     "execution_count": 197,
     "metadata": {},
     "output_type": "execute_result"
    }
   ],
   "source": [
    "training_set[:3]\n",
    "trs = np.array(training_set)\n",
    "tes = np.array(testing_set)\n",
    "trs[:3], tes[:3]"
   ]
  },
  {
   "cell_type": "code",
   "execution_count": 200,
   "metadata": {},
   "outputs": [
    {
     "data": {
      "text/plain": [
       "array([[       1.     ,     5123.     , 17739994.     ,        0.16046,\n",
       "               0.22299,        0.36968,        2.     ,       17.     ,\n",
       "               1.     ],\n",
       "       [       1.     ,     5123.     , 17740016.     ,        0.13081,\n",
       "               0.14377,        0.32   ,        2.     ,       17.     ,\n",
       "               1.     ],\n",
       "       [       0.     ,     5123.     , 17740034.     ,        0.09939,\n",
       "               0.26934,        0.18308,        1.     ,       10.     ,\n",
       "               0.     ]])"
      ]
     },
     "execution_count": 200,
     "metadata": {},
     "output_type": "execute_result"
    }
   ],
   "source": [
    "bms = np.array(benchmark_set)\n",
    "bms[:3]"
   ]
  },
  {
   "cell_type": "code",
   "execution_count": 201,
   "metadata": {
    "pycharm": {
     "name": "#%%\n"
    }
   },
   "outputs": [],
   "source": [
    "np.save('train.npy', trs)\n",
    "np.save('test.npy', tes)\n",
    "np.save('benchmark.npy', bms)"
   ]
  },
  {
   "cell_type": "markdown",
   "metadata": {
    "pycharm": {
     "name": "#%% md\n"
    }
   },
   "source": [
    "## Before Training"
   ]
  },
  {
   "cell_type": "code",
   "execution_count": 68,
   "metadata": {},
   "outputs": [],
   "source": [
    "def get_benchmark_top3(paper_id):\n",
    "    cur = db.cursor()\n",
    "    sql='SELECT question, res_entity FROM dde_paper_ner where paper_id = ' + str(paper_id)\n",
    "    cur.execute(sql)\n",
    "    result = cur.fetchall()\n",
    "    top3list = {}\n",
    "    for res in result:\n",
    "        if res[0] not in top3list.keys():\n",
    "            top3list[res[0]] = []\n",
    "            top3list[res[0]].append(res[1])\n",
    "        else:\n",
    "            top3list[res[0]].append(res[1])\n",
    "    return top3list"
   ]
  },
  {
   "cell_type": "code",
   "execution_count": 69,
   "metadata": {},
   "outputs": [],
   "source": [
    "def get_bm_answer_entity(dpaqn_id):\n",
    "    cur = db.cursor()\n",
    "    sql='SELECT res_entity, entity_name FROM dde_paper_abstract_QA_ner WHERE dpaqn_id = ' + str(dpaqn_id)\n",
    "    cur.execute(sql)\n",
    "    result = cur.fetchall()[0]\n",
    "    return result[0]"
   ]
  },
  {
   "cell_type": "code",
   "execution_count": null,
   "metadata": {
    "pycharm": {
     "name": "#%%\n"
    }
   },
   "outputs": [],
   "source": []
  },
  {
   "cell_type": "markdown",
   "metadata": {
    "pycharm": {
     "name": "#%% md\n"
    }
   },
   "source": [
    "- bm_answer => 实际\n",
    "- get_benchmark_top3 => predict"
   ]
  },
  {
   "cell_type": "code",
   "execution_count": 70,
   "metadata": {},
   "outputs": [
    {
     "data": {
      "application/vnd.jupyter.widget-view+json": {
       "model_id": "c14283aa363541d2a291e7a56b07a973",
       "version_major": 2,
       "version_minor": 0
      },
      "text/plain": [
       "HBox(children=(FloatProgress(value=0.0, max=52.0), HTML(value='')))"
      ]
     },
     "metadata": {},
     "output_type": "display_data"
    },
    {
     "name": "stdout",
     "output_type": "stream",
     "text": [
      "\n"
     ]
    },
    {
     "ename": "KeyboardInterrupt",
     "evalue": "",
     "output_type": "error",
     "traceback": [
      "\u001B[0;31m---------------------------------------------------------------------------\u001B[0m",
      "\u001B[0;31mKeyboardInterrupt\u001B[0m                         Traceback (most recent call last)",
      "\u001B[0;32m<ipython-input-70-04e4c194af55>\u001B[0m in \u001B[0;36m<module>\u001B[0;34m\u001B[0m\n\u001B[1;32m      1\u001B[0m \u001B[0mbf_train_predict\u001B[0m \u001B[0;34m=\u001B[0m \u001B[0;34m{\u001B[0m\u001B[0;34m}\u001B[0m\u001B[0;34m\u001B[0m\u001B[0;34m\u001B[0m\u001B[0m\n\u001B[1;32m      2\u001B[0m \u001B[0;32mfor\u001B[0m \u001B[0mpaper_id\u001B[0m \u001B[0;32min\u001B[0m \u001B[0mtqdm\u001B[0m\u001B[0;34m(\u001B[0m\u001B[0mbm_paper\u001B[0m\u001B[0;34m)\u001B[0m\u001B[0;34m:\u001B[0m\u001B[0;34m\u001B[0m\u001B[0;34m\u001B[0m\u001B[0m\n\u001B[0;32m----> 3\u001B[0;31m     \u001B[0mbf_train_predict\u001B[0m\u001B[0;34m[\u001B[0m\u001B[0mpaper_id\u001B[0m\u001B[0;34m]\u001B[0m \u001B[0;34m=\u001B[0m \u001B[0mget_benchmark_top3\u001B[0m\u001B[0;34m(\u001B[0m\u001B[0mpaper_id\u001B[0m\u001B[0;34m)\u001B[0m\u001B[0;34m\u001B[0m\u001B[0;34m\u001B[0m\u001B[0m\n\u001B[0m",
      "\u001B[0;32m<ipython-input-68-beeeb1dbb148>\u001B[0m in \u001B[0;36mget_benchmark_top3\u001B[0;34m(paper_id)\u001B[0m\n\u001B[1;32m      2\u001B[0m     \u001B[0mcur\u001B[0m \u001B[0;34m=\u001B[0m \u001B[0mdb\u001B[0m\u001B[0;34m.\u001B[0m\u001B[0mcursor\u001B[0m\u001B[0;34m(\u001B[0m\u001B[0;34m)\u001B[0m\u001B[0;34m\u001B[0m\u001B[0;34m\u001B[0m\u001B[0m\n\u001B[1;32m      3\u001B[0m     \u001B[0msql\u001B[0m\u001B[0;34m=\u001B[0m\u001B[0;34m'SELECT question, res_entity FROM dde_paper_ner where paper_id = '\u001B[0m \u001B[0;34m+\u001B[0m \u001B[0mstr\u001B[0m\u001B[0;34m(\u001B[0m\u001B[0mpaper_id\u001B[0m\u001B[0;34m)\u001B[0m\u001B[0;34m\u001B[0m\u001B[0;34m\u001B[0m\u001B[0m\n\u001B[0;32m----> 4\u001B[0;31m     \u001B[0mcur\u001B[0m\u001B[0;34m.\u001B[0m\u001B[0mexecute\u001B[0m\u001B[0;34m(\u001B[0m\u001B[0msql\u001B[0m\u001B[0;34m)\u001B[0m\u001B[0;34m\u001B[0m\u001B[0;34m\u001B[0m\u001B[0m\n\u001B[0m\u001B[1;32m      5\u001B[0m     \u001B[0mresult\u001B[0m \u001B[0;34m=\u001B[0m \u001B[0mcur\u001B[0m\u001B[0;34m.\u001B[0m\u001B[0mfetchall\u001B[0m\u001B[0;34m(\u001B[0m\u001B[0;34m)\u001B[0m\u001B[0;34m\u001B[0m\u001B[0;34m\u001B[0m\u001B[0m\n\u001B[1;32m      6\u001B[0m     \u001B[0mtop3list\u001B[0m \u001B[0;34m=\u001B[0m \u001B[0;34m{\u001B[0m\u001B[0;34m}\u001B[0m\u001B[0;34m\u001B[0m\u001B[0;34m\u001B[0m\u001B[0m\n",
      "\u001B[0;32m~/anaconda3/lib/python3.7/site-packages/pymysql/cursors.py\u001B[0m in \u001B[0;36mexecute\u001B[0;34m(self, query, args)\u001B[0m\n\u001B[1;32m    168\u001B[0m         \u001B[0mquery\u001B[0m \u001B[0;34m=\u001B[0m \u001B[0mself\u001B[0m\u001B[0;34m.\u001B[0m\u001B[0mmogrify\u001B[0m\u001B[0;34m(\u001B[0m\u001B[0mquery\u001B[0m\u001B[0;34m,\u001B[0m \u001B[0margs\u001B[0m\u001B[0;34m)\u001B[0m\u001B[0;34m\u001B[0m\u001B[0;34m\u001B[0m\u001B[0m\n\u001B[1;32m    169\u001B[0m \u001B[0;34m\u001B[0m\u001B[0m\n\u001B[0;32m--> 170\u001B[0;31m         \u001B[0mresult\u001B[0m \u001B[0;34m=\u001B[0m \u001B[0mself\u001B[0m\u001B[0;34m.\u001B[0m\u001B[0m_query\u001B[0m\u001B[0;34m(\u001B[0m\u001B[0mquery\u001B[0m\u001B[0;34m)\u001B[0m\u001B[0;34m\u001B[0m\u001B[0;34m\u001B[0m\u001B[0m\n\u001B[0m\u001B[1;32m    171\u001B[0m         \u001B[0mself\u001B[0m\u001B[0;34m.\u001B[0m\u001B[0m_executed\u001B[0m \u001B[0;34m=\u001B[0m \u001B[0mquery\u001B[0m\u001B[0;34m\u001B[0m\u001B[0;34m\u001B[0m\u001B[0m\n\u001B[1;32m    172\u001B[0m         \u001B[0;32mreturn\u001B[0m \u001B[0mresult\u001B[0m\u001B[0;34m\u001B[0m\u001B[0;34m\u001B[0m\u001B[0m\n",
      "\u001B[0;32m~/anaconda3/lib/python3.7/site-packages/pymysql/cursors.py\u001B[0m in \u001B[0;36m_query\u001B[0;34m(self, q)\u001B[0m\n\u001B[1;32m    326\u001B[0m         \u001B[0mself\u001B[0m\u001B[0;34m.\u001B[0m\u001B[0m_last_executed\u001B[0m \u001B[0;34m=\u001B[0m \u001B[0mq\u001B[0m\u001B[0;34m\u001B[0m\u001B[0;34m\u001B[0m\u001B[0m\n\u001B[1;32m    327\u001B[0m         \u001B[0mself\u001B[0m\u001B[0;34m.\u001B[0m\u001B[0m_clear_result\u001B[0m\u001B[0;34m(\u001B[0m\u001B[0;34m)\u001B[0m\u001B[0;34m\u001B[0m\u001B[0;34m\u001B[0m\u001B[0m\n\u001B[0;32m--> 328\u001B[0;31m         \u001B[0mconn\u001B[0m\u001B[0;34m.\u001B[0m\u001B[0mquery\u001B[0m\u001B[0;34m(\u001B[0m\u001B[0mq\u001B[0m\u001B[0;34m)\u001B[0m\u001B[0;34m\u001B[0m\u001B[0;34m\u001B[0m\u001B[0m\n\u001B[0m\u001B[1;32m    329\u001B[0m         \u001B[0mself\u001B[0m\u001B[0;34m.\u001B[0m\u001B[0m_do_get_result\u001B[0m\u001B[0;34m(\u001B[0m\u001B[0;34m)\u001B[0m\u001B[0;34m\u001B[0m\u001B[0;34m\u001B[0m\u001B[0m\n\u001B[1;32m    330\u001B[0m         \u001B[0;32mreturn\u001B[0m \u001B[0mself\u001B[0m\u001B[0;34m.\u001B[0m\u001B[0mrowcount\u001B[0m\u001B[0;34m\u001B[0m\u001B[0;34m\u001B[0m\u001B[0m\n",
      "\u001B[0;32m~/anaconda3/lib/python3.7/site-packages/pymysql/connections.py\u001B[0m in \u001B[0;36mquery\u001B[0;34m(self, sql, unbuffered)\u001B[0m\n\u001B[1;32m    515\u001B[0m                 \u001B[0msql\u001B[0m \u001B[0;34m=\u001B[0m \u001B[0msql\u001B[0m\u001B[0;34m.\u001B[0m\u001B[0mencode\u001B[0m\u001B[0;34m(\u001B[0m\u001B[0mself\u001B[0m\u001B[0;34m.\u001B[0m\u001B[0mencoding\u001B[0m\u001B[0;34m,\u001B[0m \u001B[0;34m'surrogateescape'\u001B[0m\u001B[0;34m)\u001B[0m\u001B[0;34m\u001B[0m\u001B[0;34m\u001B[0m\u001B[0m\n\u001B[1;32m    516\u001B[0m         \u001B[0mself\u001B[0m\u001B[0;34m.\u001B[0m\u001B[0m_execute_command\u001B[0m\u001B[0;34m(\u001B[0m\u001B[0mCOMMAND\u001B[0m\u001B[0;34m.\u001B[0m\u001B[0mCOM_QUERY\u001B[0m\u001B[0;34m,\u001B[0m \u001B[0msql\u001B[0m\u001B[0;34m)\u001B[0m\u001B[0;34m\u001B[0m\u001B[0;34m\u001B[0m\u001B[0m\n\u001B[0;32m--> 517\u001B[0;31m         \u001B[0mself\u001B[0m\u001B[0;34m.\u001B[0m\u001B[0m_affected_rows\u001B[0m \u001B[0;34m=\u001B[0m \u001B[0mself\u001B[0m\u001B[0;34m.\u001B[0m\u001B[0m_read_query_result\u001B[0m\u001B[0;34m(\u001B[0m\u001B[0munbuffered\u001B[0m\u001B[0;34m=\u001B[0m\u001B[0munbuffered\u001B[0m\u001B[0;34m)\u001B[0m\u001B[0;34m\u001B[0m\u001B[0;34m\u001B[0m\u001B[0m\n\u001B[0m\u001B[1;32m    518\u001B[0m         \u001B[0;32mreturn\u001B[0m \u001B[0mself\u001B[0m\u001B[0;34m.\u001B[0m\u001B[0m_affected_rows\u001B[0m\u001B[0;34m\u001B[0m\u001B[0;34m\u001B[0m\u001B[0m\n\u001B[1;32m    519\u001B[0m \u001B[0;34m\u001B[0m\u001B[0m\n",
      "\u001B[0;32m~/anaconda3/lib/python3.7/site-packages/pymysql/connections.py\u001B[0m in \u001B[0;36m_read_query_result\u001B[0;34m(self, unbuffered)\u001B[0m\n\u001B[1;32m    730\u001B[0m         \u001B[0;32melse\u001B[0m\u001B[0;34m:\u001B[0m\u001B[0;34m\u001B[0m\u001B[0;34m\u001B[0m\u001B[0m\n\u001B[1;32m    731\u001B[0m             \u001B[0mresult\u001B[0m \u001B[0;34m=\u001B[0m \u001B[0mMySQLResult\u001B[0m\u001B[0;34m(\u001B[0m\u001B[0mself\u001B[0m\u001B[0;34m)\u001B[0m\u001B[0;34m\u001B[0m\u001B[0;34m\u001B[0m\u001B[0m\n\u001B[0;32m--> 732\u001B[0;31m             \u001B[0mresult\u001B[0m\u001B[0;34m.\u001B[0m\u001B[0mread\u001B[0m\u001B[0;34m(\u001B[0m\u001B[0;34m)\u001B[0m\u001B[0;34m\u001B[0m\u001B[0;34m\u001B[0m\u001B[0m\n\u001B[0m\u001B[1;32m    733\u001B[0m         \u001B[0mself\u001B[0m\u001B[0;34m.\u001B[0m\u001B[0m_result\u001B[0m \u001B[0;34m=\u001B[0m \u001B[0mresult\u001B[0m\u001B[0;34m\u001B[0m\u001B[0;34m\u001B[0m\u001B[0m\n\u001B[1;32m    734\u001B[0m         \u001B[0;32mif\u001B[0m \u001B[0mresult\u001B[0m\u001B[0;34m.\u001B[0m\u001B[0mserver_status\u001B[0m \u001B[0;32mis\u001B[0m \u001B[0;32mnot\u001B[0m \u001B[0;32mNone\u001B[0m\u001B[0;34m:\u001B[0m\u001B[0;34m\u001B[0m\u001B[0;34m\u001B[0m\u001B[0m\n",
      "\u001B[0;32m~/anaconda3/lib/python3.7/site-packages/pymysql/connections.py\u001B[0m in \u001B[0;36mread\u001B[0;34m(self)\u001B[0m\n\u001B[1;32m   1073\u001B[0m     \u001B[0;32mdef\u001B[0m \u001B[0mread\u001B[0m\u001B[0;34m(\u001B[0m\u001B[0mself\u001B[0m\u001B[0;34m)\u001B[0m\u001B[0;34m:\u001B[0m\u001B[0;34m\u001B[0m\u001B[0;34m\u001B[0m\u001B[0m\n\u001B[1;32m   1074\u001B[0m         \u001B[0;32mtry\u001B[0m\u001B[0;34m:\u001B[0m\u001B[0;34m\u001B[0m\u001B[0;34m\u001B[0m\u001B[0m\n\u001B[0;32m-> 1075\u001B[0;31m             \u001B[0mfirst_packet\u001B[0m \u001B[0;34m=\u001B[0m \u001B[0mself\u001B[0m\u001B[0;34m.\u001B[0m\u001B[0mconnection\u001B[0m\u001B[0;34m.\u001B[0m\u001B[0m_read_packet\u001B[0m\u001B[0;34m(\u001B[0m\u001B[0;34m)\u001B[0m\u001B[0;34m\u001B[0m\u001B[0;34m\u001B[0m\u001B[0m\n\u001B[0m\u001B[1;32m   1076\u001B[0m \u001B[0;34m\u001B[0m\u001B[0m\n\u001B[1;32m   1077\u001B[0m             \u001B[0;32mif\u001B[0m \u001B[0mfirst_packet\u001B[0m\u001B[0;34m.\u001B[0m\u001B[0mis_ok_packet\u001B[0m\u001B[0;34m(\u001B[0m\u001B[0;34m)\u001B[0m\u001B[0;34m:\u001B[0m\u001B[0;34m\u001B[0m\u001B[0;34m\u001B[0m\u001B[0m\n",
      "\u001B[0;32m~/anaconda3/lib/python3.7/site-packages/pymysql/connections.py\u001B[0m in \u001B[0;36m_read_packet\u001B[0;34m(self, packet_type)\u001B[0m\n\u001B[1;32m    655\u001B[0m         \u001B[0mbuff\u001B[0m \u001B[0;34m=\u001B[0m \u001B[0;34mb''\u001B[0m\u001B[0;34m\u001B[0m\u001B[0;34m\u001B[0m\u001B[0m\n\u001B[1;32m    656\u001B[0m         \u001B[0;32mwhile\u001B[0m \u001B[0;32mTrue\u001B[0m\u001B[0;34m:\u001B[0m\u001B[0;34m\u001B[0m\u001B[0;34m\u001B[0m\u001B[0m\n\u001B[0;32m--> 657\u001B[0;31m             \u001B[0mpacket_header\u001B[0m \u001B[0;34m=\u001B[0m \u001B[0mself\u001B[0m\u001B[0;34m.\u001B[0m\u001B[0m_read_bytes\u001B[0m\u001B[0;34m(\u001B[0m\u001B[0;36m4\u001B[0m\u001B[0;34m)\u001B[0m\u001B[0;34m\u001B[0m\u001B[0;34m\u001B[0m\u001B[0m\n\u001B[0m\u001B[1;32m    658\u001B[0m             \u001B[0;31m#if DEBUG: dump_packet(packet_header)\u001B[0m\u001B[0;34m\u001B[0m\u001B[0;34m\u001B[0m\u001B[0;34m\u001B[0m\u001B[0m\n\u001B[1;32m    659\u001B[0m \u001B[0;34m\u001B[0m\u001B[0m\n",
      "\u001B[0;32m~/anaconda3/lib/python3.7/site-packages/pymysql/connections.py\u001B[0m in \u001B[0;36m_read_bytes\u001B[0;34m(self, num_bytes)\u001B[0m\n\u001B[1;32m    689\u001B[0m         \u001B[0;32mwhile\u001B[0m \u001B[0;32mTrue\u001B[0m\u001B[0;34m:\u001B[0m\u001B[0;34m\u001B[0m\u001B[0;34m\u001B[0m\u001B[0m\n\u001B[1;32m    690\u001B[0m             \u001B[0;32mtry\u001B[0m\u001B[0;34m:\u001B[0m\u001B[0;34m\u001B[0m\u001B[0;34m\u001B[0m\u001B[0m\n\u001B[0;32m--> 691\u001B[0;31m                 \u001B[0mdata\u001B[0m \u001B[0;34m=\u001B[0m \u001B[0mself\u001B[0m\u001B[0;34m.\u001B[0m\u001B[0m_rfile\u001B[0m\u001B[0;34m.\u001B[0m\u001B[0mread\u001B[0m\u001B[0;34m(\u001B[0m\u001B[0mnum_bytes\u001B[0m\u001B[0;34m)\u001B[0m\u001B[0;34m\u001B[0m\u001B[0;34m\u001B[0m\u001B[0m\n\u001B[0m\u001B[1;32m    692\u001B[0m                 \u001B[0;32mbreak\u001B[0m\u001B[0;34m\u001B[0m\u001B[0;34m\u001B[0m\u001B[0m\n\u001B[1;32m    693\u001B[0m             \u001B[0;32mexcept\u001B[0m \u001B[0;34m(\u001B[0m\u001B[0mIOError\u001B[0m\u001B[0;34m,\u001B[0m \u001B[0mOSError\u001B[0m\u001B[0;34m)\u001B[0m \u001B[0;32mas\u001B[0m \u001B[0me\u001B[0m\u001B[0;34m:\u001B[0m\u001B[0;34m\u001B[0m\u001B[0;34m\u001B[0m\u001B[0m\n",
      "\u001B[0;32m~/anaconda3/lib/python3.7/socket.py\u001B[0m in \u001B[0;36mreadinto\u001B[0;34m(self, b)\u001B[0m\n\u001B[1;32m    587\u001B[0m         \u001B[0;32mwhile\u001B[0m \u001B[0;32mTrue\u001B[0m\u001B[0;34m:\u001B[0m\u001B[0;34m\u001B[0m\u001B[0;34m\u001B[0m\u001B[0m\n\u001B[1;32m    588\u001B[0m             \u001B[0;32mtry\u001B[0m\u001B[0;34m:\u001B[0m\u001B[0;34m\u001B[0m\u001B[0;34m\u001B[0m\u001B[0m\n\u001B[0;32m--> 589\u001B[0;31m                 \u001B[0;32mreturn\u001B[0m \u001B[0mself\u001B[0m\u001B[0;34m.\u001B[0m\u001B[0m_sock\u001B[0m\u001B[0;34m.\u001B[0m\u001B[0mrecv_into\u001B[0m\u001B[0;34m(\u001B[0m\u001B[0mb\u001B[0m\u001B[0;34m)\u001B[0m\u001B[0;34m\u001B[0m\u001B[0;34m\u001B[0m\u001B[0m\n\u001B[0m\u001B[1;32m    590\u001B[0m             \u001B[0;32mexcept\u001B[0m \u001B[0mtimeout\u001B[0m\u001B[0;34m:\u001B[0m\u001B[0;34m\u001B[0m\u001B[0;34m\u001B[0m\u001B[0m\n\u001B[1;32m    591\u001B[0m                 \u001B[0mself\u001B[0m\u001B[0;34m.\u001B[0m\u001B[0m_timeout_occurred\u001B[0m \u001B[0;34m=\u001B[0m \u001B[0;32mTrue\u001B[0m\u001B[0;34m\u001B[0m\u001B[0;34m\u001B[0m\u001B[0m\n",
      "\u001B[0;31mKeyboardInterrupt\u001B[0m: "
     ]
    }
   ],
   "source": [
    "bf_train_predict = {}\n",
    "for paper_id in tqdm(bm_paper):\n",
    "    bf_train_predict[paper_id] = get_benchmark_top3(paper_id)"
   ]
  },
  {
   "cell_type": "code",
   "execution_count": null,
   "metadata": {
    "pycharm": {
     "name": "#%%\n"
    }
   },
   "outputs": [],
   "source": []
  },
  {
   "cell_type": "markdown",
   "metadata": {
    "pycharm": {
     "name": "#%% md\n"
    }
   },
   "source": [
    "## L2R Model"
   ]
  },
  {
   "cell_type": "code",
   "execution_count": 24,
   "metadata": {},
   "outputs": [],
   "source": [
    "import LambdaRank as LR\n",
    "import LambdaMART as LM\n",
    "import RankNet as RN"
   ]
  },
  {
   "cell_type": "code",
   "execution_count": 25,
   "metadata": {},
   "outputs": [],
   "source": [
    "# train_data = np.load(\"data/train.npy\")\n",
    "# test_data = np.load(\"data/test.npy\")"
   ]
  },
  {
   "cell_type": "code",
   "execution_count": 26,
   "metadata": {
    "pycharm": {
     "name": "#%%\n"
    }
   },
   "outputs": [
    {
     "ename": "NameError",
     "evalue": "name 'train_data' is not defined",
     "output_type": "error",
     "traceback": [
      "\u001B[0;31m---------------------------------------------------------------------------\u001B[0m",
      "\u001B[0;31mNameError\u001B[0m                                 Traceback (most recent call last)",
      "\u001B[0;32m<ipython-input-26-8852729f0f48>\u001B[0m in \u001B[0;36m<module>\u001B[0;34m\u001B[0m\n\u001B[0;32m----> 1\u001B[0;31m \u001B[0mtrain_data\u001B[0m\u001B[0;34m.\u001B[0m\u001B[0mshape\u001B[0m\u001B[0;34m\u001B[0m\u001B[0;34m\u001B[0m\u001B[0m\n\u001B[0m",
      "\u001B[0;31mNameError\u001B[0m: name 'train_data' is not defined"
     ]
    }
   ],
   "source": [
    "train_data.shape"
   ]
  },
  {
   "cell_type": "markdown",
   "metadata": {
    "pycharm": {
     "name": "#%% md\n"
    }
   },
   "source": [
    "### RankNet"
   ]
  },
  {
   "cell_type": "code",
   "execution_count": 32,
   "metadata": {
    "pycharm": {
     "name": "#%%\n"
    }
   },
   "outputs": [],
   "source": [
    "n_feature = 46\n",
    "h1_units = 512\n",
    "h2_units = 256\n",
    "epoch = 100\n",
    "learning_rate = 0.01\n",
    "plot=False"
   ]
  },
  {
   "cell_type": "markdown",
   "metadata": {
    "pycharm": {
     "name": "#%% md\n"
    }
   },
   "source": [
    "- **train**"
   ]
  },
  {
   "cell_type": "code",
   "execution_count": 64,
   "metadata": {
    "pycharm": {
     "name": "#%%\n"
    }
   },
   "outputs": [
    {
     "name": "stdout",
     "output_type": "stream",
     "text": [
      "Traning………………\n",
      "\n",
      "Epoch:0, loss : 0.6975727677345276\n",
      "Epoch:10, loss : 0.44026926159858704\n",
      "Epoch:20, loss : 0.391196608543396\n",
      "Epoch:30, loss : 0.35077837109565735\n",
      "Epoch:40, loss : 0.3178143799304962\n",
      "Epoch:50, loss : 0.28842833638191223\n",
      "Epoch:60, loss : 0.2596825063228607\n",
      "Epoch:70, loss : 0.24030372500419617\n",
      "Epoch:80, loss : 0.21682649850845337\n",
      "Epoch:90, loss : 0.19929306209087372\n"
     ]
    }
   ],
   "source": [
    "model = RN.RankNet(n_feature, h1_units, h2_units, epoch, learning_rate, plot)\n",
    "model.fit(train_data)"
   ]
  },
  {
   "cell_type": "markdown",
   "metadata": {
    "pycharm": {
     "name": "#%% md\n"
    }
   },
   "source": [
    "- **test**"
   ]
  },
  {
   "cell_type": "code",
   "execution_count": 68,
   "metadata": {
    "collapsed": true,
    "jupyter": {
     "outputs_hidden": true
    },
    "pycharm": {
     "name": "#%%\n"
    }
   },
   "outputs": [
    {
     "name": "stdout",
     "output_type": "stream",
     "text": [
      "Average NDCG@4 is 0.5531070145386872\n"
     ]
    }
   ],
   "source": [
    "k = 4\n",
    "model.validate(test_data, k)"
   ]
  },
  {
   "cell_type": "markdown",
   "metadata": {
    "pycharm": {
     "name": "#%% md\n"
    }
   },
   "source": [
    "### LambdaRank"
   ]
  },
  {
   "cell_type": "code",
   "execution_count": 35,
   "metadata": {
    "pycharm": {
     "name": "#%%\n"
    }
   },
   "outputs": [],
   "source": [
    "n_feature = trs.shape[1] - 2\n",
    "h1_units = 512\n",
    "h2_units = 256\n",
    "epoch = 100\n",
    "learning_rate = 0.0001\n",
    "k = 3"
   ]
  },
  {
   "cell_type": "markdown",
   "metadata": {
    "pycharm": {
     "name": "#%% md\n"
    }
   },
   "source": [
    "**train**"
   ]
  },
  {
   "cell_type": "code",
   "execution_count": 36,
   "metadata": {
    "collapsed": true,
    "jupyter": {
     "outputs_hidden": true
    },
    "pycharm": {
     "name": "#%%\n"
    }
   },
   "outputs": [
    {
     "name": "stdout",
     "output_type": "stream",
     "text": [
      "Training .....\n",
      "\n",
      "Epoch:0, Average NDCG@3 : 0.4707094330847726\n",
      "Epoch:1, Average NDCG@3 : 0.466638294052735\n",
      "Epoch:2, Average NDCG@3 : 0.4779455669038785\n",
      "Epoch:3, Average NDCG@3 : 0.48413760048711146\n",
      "Epoch:4, Average NDCG@3 : 0.4810460805631436\n",
      "Epoch:5, Average NDCG@3 : 0.48842148200476854\n",
      "Epoch:6, Average NDCG@3 : 0.48747478829587704\n",
      "Epoch:7, Average NDCG@3 : 0.4876970798978659\n",
      "Epoch:8, Average NDCG@3 : 0.49224155858191115\n",
      "Epoch:9, Average NDCG@3 : 0.4940271352284492\n",
      "Epoch:10, Average NDCG@3 : 0.4937330829108655\n",
      "Epoch:11, Average NDCG@3 : 0.4950068948223781\n",
      "Epoch:12, Average NDCG@3 : 0.4950068948223781\n",
      "Epoch:13, Average NDCG@3 : 0.49803430262848103\n",
      "Epoch:14, Average NDCG@3 : 0.4988310407032225\n",
      "Epoch:15, Average NDCG@3 : 0.5059246389618294\n",
      "Epoch:16, Average NDCG@3 : 0.5045410760180887\n",
      "Epoch:17, Average NDCG@3 : 0.5264258478767811\n",
      "Epoch:18, Average NDCG@3 : 0.5047816902096105\n",
      "Epoch:19, Average NDCG@3 : 0.632478110749474\n",
      "Epoch:20, Average NDCG@3 : 0.4953769277732278\n",
      "Epoch:21, Average NDCG@3 : 0.47676091927931785\n",
      "Epoch:22, Average NDCG@3 : 0.48200344826383784\n",
      "Epoch:23, Average NDCG@3 : 0.5079906097635363\n",
      "Epoch:24, Average NDCG@3 : 0.49464108178919924\n",
      "Epoch:25, Average NDCG@3 : 0.49737750669090125\n",
      "Epoch:26, Average NDCG@3 : 0.5010315193296502\n",
      "Epoch:27, Average NDCG@3 : 0.5067789697089053\n",
      "Epoch:28, Average NDCG@3 : 0.5133945736314487\n",
      "Epoch:29, Average NDCG@3 : 0.5208593993645034\n",
      "Epoch:30, Average NDCG@3 : 0.5362751935171417\n",
      "Epoch:31, Average NDCG@3 : 0.5458334908817025\n",
      "Epoch:32, Average NDCG@3 : 0.5558787763176242\n",
      "Epoch:33, Average NDCG@3 : 0.5752497087720814\n",
      "Epoch:34, Average NDCG@3 : 0.6040508848405108\n",
      "Epoch:35, Average NDCG@3 : 0.5607402090933333\n",
      "Epoch:36, Average NDCG@3 : 0.6600428347274911\n",
      "Epoch:37, Average NDCG@3 : 0.496803570098994\n",
      "Epoch:38, Average NDCG@3 : 0.4901306248616004\n",
      "Epoch:39, Average NDCG@3 : 0.4897214810889117\n",
      "Epoch:40, Average NDCG@3 : 0.6424995739120233\n",
      "Epoch:41, Average NDCG@3 : 0.4987990599512746\n",
      "Epoch:42, Average NDCG@3 : 0.60023847673227\n",
      "Epoch:43, Average NDCG@3 : 0.5226104357267563\n",
      "Epoch:44, Average NDCG@3 : 0.6532911193192985\n",
      "Epoch:45, Average NDCG@3 : 0.5236248208475408\n",
      "Epoch:46, Average NDCG@3 : 0.6406804553906025\n",
      "Epoch:47, Average NDCG@3 : 0.4978801924480588\n",
      "Epoch:48, Average NDCG@3 : 0.5005272952829626\n",
      "Epoch:49, Average NDCG@3 : 0.4925859796123743\n",
      "Epoch:50, Average NDCG@3 : 0.6440543537498324\n",
      "Epoch:51, Average NDCG@3 : 0.5159792532519865\n",
      "Epoch:52, Average NDCG@3 : 0.6335835238226168\n",
      "Epoch:53, Average NDCG@3 : 0.5817268449567111\n",
      "Epoch:54, Average NDCG@3 : 0.6745693332104931\n",
      "Epoch:55, Average NDCG@3 : 0.5801168358647092\n",
      "Epoch:56, Average NDCG@3 : 0.6572899761456692\n",
      "Epoch:57, Average NDCG@3 : 0.5235928400955928\n",
      "Epoch:58, Average NDCG@3 : 0.5200687062265635\n",
      "Epoch:59, Average NDCG@3 : 0.4932125844450204\n",
      "Epoch:60, Average NDCG@3 : 0.5581668140889589\n",
      "Epoch:61, Average NDCG@3 : 0.49827856148542954\n",
      "Epoch:62, Average NDCG@3 : 0.6826192779269866\n",
      "Epoch:63, Average NDCG@3 : 0.5522151946913338\n",
      "Epoch:64, Average NDCG@3 : 0.6793847464526744\n",
      "Epoch:65, Average NDCG@3 : 0.5738431133114636\n",
      "Epoch:66, Average NDCG@3 : 0.6526452699167108\n",
      "Epoch:67, Average NDCG@3 : 0.53646486374354\n",
      "Epoch:68, Average NDCG@3 : 0.5716649525598785\n",
      "Epoch:69, Average NDCG@3 : 0.49823605735564797\n",
      "Epoch:70, Average NDCG@3 : 0.5045910355936378\n",
      "Epoch:71, Average NDCG@3 : 0.496049746772481\n",
      "Epoch:72, Average NDCG@3 : 0.6497749778139309\n",
      "Epoch:73, Average NDCG@3 : 0.5716545884430074\n",
      "Epoch:74, Average NDCG@3 : 0.7116161352676159\n",
      "Epoch:75, Average NDCG@3 : 0.6424727122247501\n",
      "Epoch:76, Average NDCG@3 : 0.6920281295382432\n",
      "Epoch:77, Average NDCG@3 : 0.64467734539745\n",
      "Epoch:78, Average NDCG@3 : 0.6472062558836676\n",
      "Epoch:79, Average NDCG@3 : 0.5572617838802927\n",
      "Epoch:80, Average NDCG@3 : 0.5317437023725871\n",
      "Epoch:81, Average NDCG@3 : 0.4979420050380641\n",
      "Epoch:82, Average NDCG@3 : 0.5459076958877824\n",
      "Epoch:83, Average NDCG@3 : 0.5054864899608116\n",
      "Epoch:84, Average NDCG@3 : 0.6725317623855893\n",
      "Epoch:85, Average NDCG@3 : 0.6080426145592233\n",
      "Epoch:86, Average NDCG@3 : 0.7045996666656464\n",
      "Epoch:87, Average NDCG@3 : 0.6543798048168434\n",
      "Epoch:88, Average NDCG@3 : 0.6653226195154374\n",
      "Epoch:89, Average NDCG@3 : 0.6116112083199623\n",
      "Epoch:90, Average NDCG@3 : 0.6184235215383419\n",
      "Epoch:91, Average NDCG@3 : 0.5121584721609193\n",
      "Epoch:92, Average NDCG@3 : 0.501706738600278\n",
      "Epoch:93, Average NDCG@3 : 0.49579131987227176\n",
      "Epoch:94, Average NDCG@3 : 0.6386212185386771\n",
      "Epoch:95, Average NDCG@3 : 0.5682388250965219\n",
      "Epoch:96, Average NDCG@3 : 0.7135201511769749\n",
      "Epoch:97, Average NDCG@3 : 0.7007569396719079\n",
      "Epoch:98, Average NDCG@3 : 0.7132229442036376\n",
      "Epoch:99, Average NDCG@3 : 0.7190793118395153\n"
     ]
    }
   ],
   "source": [
    "model = LR.LambdaRank(trs, n_feature, h1_units, h2_units, epoch, learning_rate)\n",
    "model.fit(k)"
   ]
  },
  {
   "cell_type": "markdown",
   "metadata": {
    "pycharm": {
     "name": "#%% md\n"
    }
   },
   "source": [
    "**test**"
   ]
  },
  {
   "cell_type": "code",
   "execution_count": 37,
   "metadata": {},
   "outputs": [
    {
     "name": "stdout",
     "output_type": "stream",
     "text": [
      "[nan, 1.0, 1.0, 1.0, 0.7039180890341347, 1.0, 0.7653606369886217, 0.7653606369886217, 1.0, 0.5, nan, 0.6131471927654584, 1.0, 1.0, 0.6934264036172708, 1.0, nan, 1.0, nan, 1.0, 1.0, 0.9197207891481876, nan, 1.0, nan, nan, 1.0, nan, 1.0, 0.7653606369886217, 0.7653606369886217, 0.6934264036172708, 1.0, 0.46927872602275644, 0.9197207891481876, nan, 1.0, nan, 0.5, 0.0, 1.0, nan, 1.0, 1.0, 0.0, nan, 0.0, nan, nan, 1.0, nan, nan, nan, 1.0, 1.0, 0.3065735963827292, 0.7653606369886217, 0.23463936301137822, nan, nan, 0.5307212739772434, 1.0, 1.0, 0.6309297535714575, nan, 0.6934264036172708, 0.6131471927654584, 1.0, 1.0, 0.7039180890341347, 1.0, 0.7039180890341347, 0.7039180890341347, 0.6309297535714575, 0.7039180890341347, nan, nan, 1.0, nan, 1.0, 1.0, 0.0, 1.0, 1.0, 0.7039180890341347, 1.0, nan, 1.0, 0.3065735963827292, 1.0, 1.0, 0.7653606369886217, 0.0, 1.0, nan, 0.7653606369886217, 0.6131471927654584, 0.7653606369886217, nan, 1.0, 1.0, 1.0, 0.38685280723454163, nan, 1.0, 1.0, 1.0, 0.0, 0.6309297535714575, 0.46927872602275644, 0.0, nan, 0.46927872602275644, nan, nan, nan, nan, nan, 0.7653606369886217, 0.2960819109658652, 0.46927872602275644, 0.0, 0.5, 0.6309297535714575, 0.7039180890341347, 0.7653606369886217, 0.7653606369886217, 0.2960819109658652, nan, 1.0, 0.23463936301137822, 0.7039180890341347, 0.2960819109658652, 0.7653606369886217, 1.0, 1.0, 1.0, 1.0, 1.0, 0.9197207891481876, 0.7039180890341347, 0.6934264036172708, 0.6934264036172708, 1.0, 1.0, nan, nan, 1.0, 0.23463936301137822, 0.5307212739772434, 0.9197207891481876, 1.0, 1.0, 1.0, 1.0, nan, nan, nan, 1.0, 0.46927872602275644, 0.38685280723454163, 0.7653606369886217, 0.0, 0.38685280723454163, 0.5, 0.7653606369886217, 0.5, nan, 0.7653606369886217, 0.7653606369886217, 1.0, nan, 0.46927872602275644, nan, 0.46927872602275644, 1.0, 1.0, nan, 0.6131471927654584, nan, 1.0, nan, nan, nan, 0.7039180890341347, 1.0, 0.46927872602275644, 1.0, 0.6309297535714575, 1.0, 0.6309297535714575, 0.5307212739772434, 0.38685280723454163, nan, 0.7653606369886217, 1.0, 1.0, 0.23463936301137822, 0.6131471927654584, 0.7039180890341347, 0.7039180890341347, 0.6309297535714575, 0.7039180890341347, 0.6309297535714575, 1.0, 1.0, 0.5307212739772434]\n"
     ]
    }
   ],
   "source": [
    "k = 3\n",
    "ndcg = model.validate(tes, k)\n",
    "print(ndcg)"
   ]
  },
  {
   "cell_type": "code",
   "execution_count": 38,
   "metadata": {
    "collapsed": true,
    "jupyter": {
     "outputs_hidden": true
    },
    "pycharm": {
     "name": "#%%\n"
    }
   },
   "outputs": [
    {
     "name": "stdout",
     "output_type": "stream",
     "text": [
      "3.8419511318206787 [0, 4700.0] 51892\n",
      "3.569058656692505 [0, 4700.0] 51893\n",
      "3.567368984222412 [0, 4700.0] 51894\n",
      "3.536367416381836 [0, 4700.0] 51895\n",
      "3.5316720008850098 [0, 4700.0] 51896\n",
      "3.550218105316162 [0, 4700.0] 51897\n",
      "3.561222553253174 [0, 4700.0] 51898\n",
      "5.89975643157959 [1, 4698.0] 51899\n",
      "3.9317970275878906 [1, 4698.0] 51900\n",
      "4.006150245666504 [1, 4698.0] 51901\n",
      "3.9993035793304443 [1, 4698.0] 51902\n",
      "3.814504384994507 [0, 4698.0] 51903\n",
      "3.6899826526641846 [0, 4698.0] 51904\n",
      "3.743955373764038 [0, 4698.0] 51905\n",
      "3.77323055267334 [1, 4698.0] 51906\n",
      "3.684147596359253 [1, 4698.0] 51907\n",
      "5.312163829803467 [1, 4698.0] 51908\n",
      "3.6824114322662354 [0, 4698.0] 51909\n",
      "3.5329649448394775 [0, 4698.0] 51910\n",
      "3.529406785964966 [0, 4698.0] 51911\n",
      "3.7136125564575195 [1, 4698.0] 51912\n",
      "3.550217628479004 [0, 4698.0] 51913\n",
      "3.557464122772217 [0, 4698.0] 51914\n",
      "6.151350975036621 [1, 4699.0] 51915\n",
      "4.0669264793396 [1, 4699.0] 51916\n",
      "3.978938102722168 [1, 4699.0] 51917\n",
      "3.9290449619293213 [0, 4699.0] 51918\n",
      "3.7222812175750732 [0, 4699.0] 51919\n",
      "3.726900339126587 [0, 4699.0] 51920\n",
      "5.297135829925537 [1, 4699.0] 51921\n",
      "3.65048885345459 [0, 4699.0] 51922\n",
      "3.5504658222198486 [0, 4699.0] 51923\n",
      "3.709524631500244 [1, 4699.0] 51924\n",
      "5.909818649291992 [1, 4701.0] 51925\n",
      "3.9567222595214844 [1, 4701.0] 51926\n",
      "4.0152130126953125 [1, 4701.0] 51927\n",
      "4.003092288970947 [1, 4701.0] 51928\n",
      "3.7180726528167725 [1, 4701.0] 51929\n",
      "3.807509660720825 [0, 4701.0] 51930\n",
      "3.765962600708008 [1, 4701.0] 51931\n",
      "3.6005818843841553 [0, 4701.0] 51932\n",
      "3.618588447570801 [0, 4701.0] 51933\n",
      "3.6868155002593994 [0, 4701.0] 51934\n",
      "5.30062198638916 [1, 4701.0] 51935\n",
      "3.5840532779693604 [0, 4701.0] 51936\n",
      "3.5306077003479004 [0, 4701.0] 51937\n",
      "3.542250394821167 [0, 4701.0] 51938\n",
      "3.480640172958374 [0, 4701.0] 51939\n",
      "3.550217628479004 [0, 4701.0] 51940\n",
      "3.559467077255249 [0, 4701.0] 51941\n",
      "4.099203109741211 [1, 4406.0] 51987\n",
      "3.6733994483947754 [0, 4406.0] 51988\n",
      "3.63581919670105 [0, 4406.0] 51989\n",
      "3.6646924018859863 [1, 4406.0] 51990\n",
      "3.563405990600586 [0, 4406.0] 51991\n",
      "3.540564775466919 [0, 4406.0] 51992\n",
      "3.458951711654663 [1, 4406.0] 51993\n",
      "3.5725772380828857 [0, 4406.0] 51994\n",
      "3.8830018043518066 [1, 4409.0] 51995\n",
      "3.8143937587738037 [1, 4409.0] 51996\n",
      "3.8945579528808594 [1, 4409.0] 51997\n",
      "3.6163008213043213 [0, 4409.0] 51998\n",
      "3.6811256408691406 [1, 4409.0] 51999\n",
      "3.622527599334717 [0, 4409.0] 52000\n",
      "3.502584218978882 [0, 4409.0] 52001\n",
      "3.8273231983184814 [1, 4408.0] 52002\n",
      "3.6701276302337646 [1, 4408.0] 52003\n",
      "3.473989248275757 [0, 4408.0] 52004\n",
      "3.556262493133545 [0, 4408.0] 52005\n",
      "3.54038667678833 [0, 4408.0] 52006\n",
      "3.493090867996216 [0, 4408.0] 52007\n",
      "3.582632303237915 [0, 4408.0] 52008\n",
      "3.471276044845581 [0, 4408.0] 52009\n",
      "3.550218105316162 [1, 4408.0] 52010\n",
      "3.52504301071167 [0, 4408.0] 52011\n",
      "3.74642014503479 [1, 4412.0] 52012\n",
      "5.185434818267822 [1, 4412.0] 52013\n",
      "3.682769536972046 [1, 4412.0] 52014\n",
      "3.4765467643737793 [0, 4412.0] 52015\n",
      "3.7345752716064453 [0, 4412.0] 52016\n",
      "3.5659549236297607 [0, 4412.0] 52017\n",
      "3.5745608806610107 [0, 4412.0] 52018\n",
      "3.5166656970977783 [0, 4412.0] 52019\n",
      "3.556760549545288 [0, 4412.0] 52020\n",
      "3.477958917617798 [0, 4412.0] 52021\n",
      "3.5850961208343506 [0, 4412.0] 52022\n",
      "3.504262685775757 [0, 4412.0] 52023\n",
      "3.536118268966675 [0, 4412.0] 52024\n",
      "3.507516384124756 [0, 4412.0] 52025\n",
      "3.485724925994873 [0, 4412.0] 52026\n",
      "3.5040440559387207 [0, 4412.0] 52027\n",
      "3.5511622428894043 [0, 4412.0] 52028\n",
      "3.8366928100585938 [1, 4407.0] 52029\n",
      "3.6672403812408447 [0, 4407.0] 52030\n",
      "3.6484479904174805 [0, 4407.0] 52031\n",
      "3.5463314056396484 [0, 4407.0] 52032\n",
      "3.494203567504883 [0, 4407.0] 52033\n",
      "3.459669828414917 [0, 4407.0] 52034\n",
      "3.4617204666137695 [0, 4407.0] 52035\n",
      "3.62990665435791 [0, 4407.0] 52036\n",
      "3.6580252647399902 [0, 4411.0] 52037\n",
      "3.502664804458618 [1, 4411.0] 52038\n",
      "3.406071424484253 [0, 4411.0] 52039\n",
      "3.5181870460510254 [0, 4411.0] 52040\n",
      "3.476029872894287 [0, 4411.0] 52041\n",
      "3.5026369094848633 [0, 4411.0] 52042\n",
      "3.4619054794311523 [0, 4411.0] 52043\n",
      "3.624546527862549 [0, 4410.0] 52044\n",
      "3.639038324356079 [0, 4410.0] 52045\n",
      "3.5348331928253174 [0, 4410.0] 52046\n",
      "3.5129239559173584 [0, 4410.0] 52047\n",
      "3.547316312789917 [0, 4410.0] 52048\n",
      "3.854905128479004 [0, 5935.0] 52077\n",
      "3.8486828804016113 [0, 5935.0] 52078\n",
      "3.7057557106018066 [0, 5935.0] 52079\n",
      "3.6907503604888916 [0, 5935.0] 52080\n",
      "3.468982219696045 [0, 5935.0] 52081\n",
      "4.85314416885376 [0, 5935.0] 52082\n",
      "5.40559720993042 [1, 5935.0] 52083\n",
      "3.618433952331543 [1, 5935.0] 52084\n",
      "5.451987266540527 [1, 5937.0] 52085\n",
      "5.268263816833496 [1, 5937.0] 52086\n",
      "4.287459850311279 [1, 5937.0] 52087\n",
      "3.9230387210845947 [0, 5937.0] 52088\n",
      "3.792948007583618 [1, 5937.0] 52089\n",
      "3.785905122756958 [0, 5937.0] 52090\n",
      "3.6811959743499756 [0, 5937.0] 52091\n",
      "3.612478733062744 [1, 5937.0] 52092\n",
      "3.494284152984619 [0, 5937.0] 52093\n",
      "3.5128698348999023 [0, 5937.0] 52094\n",
      "8.558652877807617 [1, 5936.0] 52095\n",
      "5.839932441711426 [1, 5936.0] 52096\n",
      "5.763383865356445 [1, 5936.0] 52097\n",
      "5.891137599945068 [1, 5936.0] 52098\n",
      "5.452147960662842 [1, 5936.0] 52099\n",
      "3.867473840713501 [1, 5936.0] 52100\n",
      "3.7899489402770996 [0, 5936.0] 52101\n",
      "3.646047592163086 [0, 5936.0] 52102\n",
      "3.598205089569092 [0, 5936.0] 52103\n",
      "5.304692268371582 [0, 5936.0] 52104\n",
      "3.486863851547241 [0, 5936.0] 52105\n",
      "3.7175445556640625 [0, 5936.0] 52106\n",
      "3.6711254119873047 [0, 5936.0] 52107\n",
      "3.528883218765259 [0, 5936.0] 52108\n",
      "3.5244953632354736 [0, 5936.0] 52109\n",
      "3.4398794174194336 [0, 5936.0] 52110\n",
      "3.5548200607299805 [0, 5936.0] 52111\n",
      "3.5263259410858154 [0, 5936.0] 52112\n",
      "4.300546169281006 [1, 5939.0] 52113\n",
      "3.7985429763793945 [1, 5939.0] 52114\n",
      "3.789111852645874 [0, 5939.0] 52115\n",
      "3.5158071517944336 [0, 5939.0] 52116\n",
      "3.449334144592285 [0, 5939.0] 52117\n",
      "5.034648895263672 [0, 5939.0] 52118\n",
      "3.458487033843994 [0, 5939.0] 52119\n",
      "3.4865589141845703 [0, 5939.0] 52120\n",
      "5.859124183654785 [1, 5938.0] 52121\n",
      "3.846306562423706 [1, 5938.0] 52122\n",
      "3.8048648834228516 [0, 5938.0] 52123\n",
      "5.841028690338135 [1, 5938.0] 52124\n",
      "3.4827425479888916 [0, 5938.0] 52125\n",
      "3.7116143703460693 [0, 5938.0] 52126\n",
      "3.5766520500183105 [0, 5938.0] 52127\n",
      "3.674224376678467 [0, 5938.0] 52128\n",
      "3.524470329284668 [0, 5938.0] 52129\n",
      "3.556213617324829 [0, 5938.0] 52130\n",
      "3.5379068851470947 [0, 3045.0] 52258\n",
      "3.513728618621826 [0, 3045.0] 52259\n",
      "3.479094982147217 [0, 3045.0] 52260\n",
      "3.5200436115264893 [0, 3045.0] 52261\n",
      "3.5748472213745117 [0, 3045.0] 52262\n",
      "3.5091021060943604 [0, 3045.0] 52263\n",
      "3.5546040534973145 [0, 3045.0] 52264\n",
      "3.7373738288879395 [0, 3048.0] 52265\n",
      "3.774386405944824 [1, 3048.0] 52266\n",
      "3.7592735290527344 [1, 3048.0] 52267\n",
      "3.748807430267334 [1, 3048.0] 52268\n",
      "3.6911795139312744 [0, 3048.0] 52269\n",
      "3.435906171798706 [1, 3048.0] 52270\n",
      "3.694206714630127 [0, 3048.0] 52271\n",
      "3.513357162475586 [0, 3048.0] 52272\n",
      "3.624978542327881 [0, 3048.0] 52273\n",
      "3.621220827102661 [0, 3048.0] 52274\n",
      "3.617673635482788 [0, 3048.0] 52275\n",
      "3.5415163040161133 [0, 3047.0] 52276\n",
      "3.5162863731384277 [0, 3047.0] 52277\n",
      "3.480147361755371 [0, 3047.0] 52278\n",
      "3.523414134979248 [0, 3047.0] 52279\n",
      "3.5800445079803467 [0, 3047.0] 52280\n",
      "3.5138368606567383 [0, 3047.0] 52281\n",
      "3.5587151050567627 [0, 3047.0] 52282\n",
      "3.7747254371643066 [1, 3046.0] 52283\n",
      "3.601691484451294 [0, 3046.0] 52284\n",
      "3.7815887928009033 [1, 3049.0] 52285\n",
      "5.401920795440674 [1, 791.0] 52368\n",
      "3.605602741241455 [0, 791.0] 52369\n",
      "3.458951711654663 [1, 791.0] 52370\n",
      "3.745601177215576 [0, 792.0] 52371\n",
      "5.4298529624938965 [1, 793.0] 52372\n",
      "3.458951711654663 [1, 793.0] 52373\n",
      "3.9697418212890625 [0, 4745.0] 52374\n",
      "3.995515823364258 [0, 4746.0] 52375\n",
      "3.853834390640259 [0, 686.0] 52513\n",
      "4.093480110168457 [1, 686.0] 52514\n",
      "5.526659965515137 [0, 687.0] 52515\n",
      "3.550609827041626 [0, 687.0] 52516\n",
      "3.6607673168182373 [0, 688.0] 52517\n",
      "3.8958284854888916 [1, 688.0] 52518\n",
      "3.7742819786071777 [0, 688.0] 52519\n",
      "3.527994155883789 [0, 688.0] 52520\n",
      "3.6036174297332764 [0, 688.0] 52521\n",
      "3.510096549987793 [0, 688.0] 52522\n",
      "4.159040451049805 [1, 4885.0] 52586\n",
      "3.7275490760803223 [0, 4885.0] 52587\n",
      "3.721421718597412 [0, 4885.0] 52588\n",
      "3.700260877609253 [0, 4885.0] 52589\n",
      "5.228044509887695 [1, 4885.0] 52590\n",
      "3.5091753005981445 [1, 4885.0] 52591\n",
      "3.517935276031494 [1, 4885.0] 52592\n",
      "3.435906171798706 [0, 4885.0] 52593\n",
      "3.665241241455078 [0, 4885.0] 52594\n",
      "3.497093439102173 [0, 4885.0] 52595\n",
      "3.5871236324310303 [0, 4885.0] 52596\n",
      "3.5741629600524902 [0, 4885.0] 52597\n",
      "3.550218105316162 [0, 4885.0] 52598\n",
      "3.5075557231903076 [0, 4885.0] 52599\n",
      "4.1626152992248535 [1, 4889.0] 52600\n",
      "3.729245901107788 [0, 4889.0] 52601\n",
      "3.723194122314453 [0, 4889.0] 52602\n",
      "3.7018837928771973 [0, 4889.0] 52603\n",
      "5.2289862632751465 [1, 4889.0] 52604\n",
      "3.5093483924865723 [1, 4889.0] 52605\n",
      "3.5179591178894043 [1, 4889.0] 52606\n",
      "3.435906171798706 [0, 4889.0] 52607\n",
      "3.6662416458129883 [0, 4889.0] 52608\n",
      "3.4973535537719727 [0, 4889.0] 52609\n",
      "3.5880649089813232 [0, 4889.0] 52610\n",
      "3.5752336978912354 [0, 4889.0] 52611\n",
      "3.550218105316162 [0, 4889.0] 52612\n",
      "3.5079760551452637 [0, 4889.0] 52613\n",
      "4.0978522300720215 [1, 4887.0] 52614\n",
      "3.7880823612213135 [1, 4887.0] 52615\n",
      "3.704939603805542 [0, 4887.0] 52616\n",
      "3.4544103145599365 [0, 4887.0] 52617\n",
      "4.926178932189941 [0, 4887.0] 52618\n",
      "3.435906171798706 [0, 4887.0] 52619\n",
      "4.309362411499023 [1, 4888.0] 52620\n",
      "3.8094725608825684 [0, 4888.0] 52621\n",
      "3.435905933380127 [0, 4888.0] 52622\n",
      "4.112277507781982 [1, 4890.0] 52623\n",
      "3.7006163597106934 [0, 4890.0] 52624\n",
      "3.6852056980133057 [1, 4890.0] 52625\n",
      "3.6744070053100586 [1, 4890.0] 52626\n",
      "3.6084883213043213 [0, 4890.0] 52627\n",
      "3.6891303062438965 [0, 4890.0] 52628\n",
      "3.6531896591186523 [0, 4890.0] 52629\n",
      "3.760812759399414 [0, 4890.0] 52630\n",
      "3.435906171798706 [0, 4890.0] 52631\n",
      "3.720602035522461 [0, 4890.0] 52632\n",
      "3.6494598388671875 [0, 4890.0] 52633\n",
      "3.493032932281494 [0, 4890.0] 52634\n",
      "3.5721209049224854 [0, 4890.0] 52635\n",
      "3.562317132949829 [0, 4890.0] 52636\n",
      "3.4626595973968506 [0, 4890.0] 52637\n",
      "5.131551265716553 [1, 4886.0] 52638\n",
      "3.7212936878204346 [0, 4886.0] 52639\n",
      "3.674405336380005 [0, 4886.0] 52640\n",
      "3.8294382095336914 [1, 4886.0] 52641\n",
      "3.6523220539093018 [0, 4886.0] 52642\n",
      "3.786224365234375 [0, 4886.0] 52643\n",
      "3.7430779933929443 [0, 4886.0] 52644\n",
      "3.626894235610962 [0, 4886.0] 52645\n",
      "3.550217628479004 [0, 4886.0] 52646\n",
      "3.4544103145599365 [0, 4886.0] 52647\n",
      "3.4992458820343018 [0, 4886.0] 52648\n",
      "3.4967334270477295 [0, 4886.0] 52649\n",
      "3.5218687057495117 [0, 4886.0] 52650\n",
      "4.838710784912109 [0, 4886.0] 52651\n",
      "3.987370014190674 [0, 2509.0] 52676\n",
      "4.2646660804748535 [1, 2510.0] 52677\n",
      "3.7136592864990234 [1, 2510.0] 52678\n",
      "3.5238096714019775 [0, 2510.0] 52679\n",
      "3.5395560264587402 [0, 2510.0] 52680\n",
      "3.509746789932251 [0, 2511.0] 52681\n",
      "3.576838493347168 [0, 2511.0] 52682\n",
      "3.5402145385742188 [0, 2511.0] 52683\n",
      "3.4895901679992676 [0, 2511.0] 52684\n",
      "3.4486613273620605 [0, 2511.0] 52685\n",
      "3.560332775115967 [0, 2511.0] 52686\n",
      "3.534207820892334 [0, 2511.0] 52687\n",
      "3.5472631454467773 [0, 2511.0] 52688\n",
      "3.54007887840271 [0, 2759.0] 52827\n",
      "3.740262031555176 [0, 2759.0] 52828\n",
      "3.539700508117676 [1, 2759.0] 52829\n",
      "3.498067855834961 [0, 2759.0] 52830\n",
      "3.7752387523651123 [0, 2763.0] 52831\n",
      "3.620220899581909 [0, 2763.0] 52832\n",
      "3.653557300567627 [0, 2763.0] 52833\n",
      "3.447654962539673 [0, 2763.0] 52834\n",
      "3.5643606185913086 [0, 2763.0] 52835\n",
      "3.4623823165893555 [1, 2763.0] 52836\n",
      "3.406071662902832 [0, 2763.0] 52837\n",
      "5.643889427185059 [1, 2761.0] 52838\n",
      "3.550450325012207 [0, 2761.0] 52839\n",
      "3.5966105461120605 [0, 2762.0] 52840\n",
      "3.4498472213745117 [0, 2762.0] 52841\n",
      "3.8499701023101807 [1, 2760.0] 52842\n",
      "3.5402750968933105 [0, 2760.0] 52843\n",
      "5.817201614379883 [1, 2764.0] 52844\n",
      "3.757187604904175 [0, 2764.0] 52845\n",
      "3.595869541168213 [0, 2764.0] 52846\n",
      "3.560826063156128 [0, 2764.0] 52847\n",
      "3.717925786972046 [0, 2764.0] 52848\n",
      "3.561983108520508 [0, 2764.0] 52849\n",
      "3.4442460536956787 [0, 2764.0] 52850\n",
      "3.464893102645874 [0, 2764.0] 52851\n",
      "3.537370443344116 [0, 2764.0] 52852\n",
      "3.7244300842285156 [0, 1811.0] 52925\n",
      "3.607679605484009 [0, 1811.0] 52926\n",
      "3.5848119258880615 [0, 1811.0] 52927\n",
      "3.583789110183716 [0, 1811.0] 52928\n",
      "3.550217628479004 [1, 1811.0] 52929\n",
      "3.463901996612549 [0, 1811.0] 52930\n",
      "3.5529139041900635 [0, 1811.0] 52931\n",
      "3.446481943130493 [0, 1811.0] 52932\n",
      "3.492612361907959 [0, 1811.0] 52933\n",
      "4.2334771156311035 [0, 1813.0] 52934\n",
      "4.193224906921387 [0, 1813.0] 52935\n",
      "3.9664957523345947 [0, 1813.0] 52936\n",
      "3.9133901596069336 [0, 1813.0] 52937\n",
      "3.972177028656006 [0, 1813.0] 52938\n",
      "3.7637691497802734 [0, 1813.0] 52939\n",
      "3.6502139568328857 [0, 1813.0] 52940\n",
      "3.883371353149414 [0, 1810.0] 52942\n",
      "3.824396848678589 [0, 1810.0] 52943\n",
      "3.8065707683563232 [0, 1810.0] 52944\n",
      "3.737014055252075 [0, 1810.0] 52945\n",
      "3.65578031539917 [1, 1810.0] 52946\n",
      "3.509755849838257 [0, 1810.0] 52947\n",
      "3.653764247894287 [0, 1810.0] 52948\n",
      "3.624403953552246 [0, 1816.0] 52949\n",
      "3.5419864654541016 [0, 1816.0] 52950\n",
      "3.7394986152648926 [0, 1815.0] 52951\n",
      "3.5637617111206055 [0, 1815.0] 52952\n",
      "3.956869602203369 [0, 1815.0] 52953\n",
      "3.956869602203369 [0, 1815.0] 52954\n",
      "3.8309342861175537 [0, 1812.0] 52955\n",
      "3.806957483291626 [0, 1812.0] 52956\n",
      "3.663081169128418 [0, 1812.0] 52958\n",
      "5.249550819396973 [1, 1812.0] 52959\n",
      "3.550217628479004 [0, 1812.0] 52960\n",
      "3.4544103145599365 [0, 1812.0] 52961\n",
      "3.613173007965088 [0, 1812.0] 52962\n",
      "3.5098178386688232 [0, 1812.0] 52963\n",
      "3.653987407684326 [0, 1812.0] 52964\n",
      "3.495337724685669 [0, 1812.0] 52965\n",
      "3.550217628479004 [0, 1812.0] 52966\n",
      "3.5452585220336914 [0, 1812.0] 52967\n",
      "8.554065704345703 [0, 1809.0] 52968\n",
      "6.0474677085876465 [0, 1809.0] 52969\n",
      "3.8158981800079346 [0, 1809.0] 52970\n",
      "3.738478899002075 [0, 1809.0] 52971\n",
      "3.6714985370635986 [0, 1809.0] 52972\n",
      "3.6416733264923096 [0, 1809.0] 52973\n",
      "3.6663031578063965 [0, 1809.0] 52974\n",
      "3.610848903656006 [0, 1809.0] 52975\n",
      "3.7655279636383057 [0, 1809.0] 52976\n",
      "3.433082342147827 [0, 1809.0] 52977\n",
      "3.550217628479004 [0, 1809.0] 52978\n",
      "3.5523080825805664 [0, 1809.0] 52979\n",
      "3.550217628479004 [0, 1809.0] 52980\n",
      "3.6192052364349365 [0, 1809.0] 52981\n",
      "3.465280294418335 [0, 1809.0] 52982\n",
      "3.466449022293091 [0, 1809.0] 52983\n",
      "3.7176105976104736 [0, 1814.0] 52984\n",
      "3.956869602203369 [0, 1814.0] 52985\n",
      "3.956869602203369 [0, 1814.0] 52986\n",
      "3.518519639968872 [0, 1814.0] 52988\n",
      "3.459101676940918 [0, 1814.0] 52989\n",
      "3.6754846572875977 [0, 3861.0] 52990\n",
      "3.737020254135132 [0, 3861.0] 52991\n",
      "3.612663984298706 [0, 3861.0] 52992\n",
      "3.4456279277801514 [0, 3861.0] 52993\n",
      "4.911229133605957 [0, 3861.0] 52994\n",
      "4.9886555671691895 [0, 3861.0] 52995\n",
      "3.538252353668213 [0, 3861.0] 52996\n",
      "3.4979803562164307 [0, 3861.0] 52997\n",
      "3.5349600315093994 [0, 3861.0] 52998\n",
      "3.444916248321533 [0, 3861.0] 52999\n",
      "4.139878273010254 [1, 3864.0] 53000\n",
      "4.098187446594238 [1, 3864.0] 53001\n",
      "3.949781656265259 [0, 3864.0] 53002\n",
      "3.8852314949035645 [0, 3864.0] 53003\n",
      "3.855024814605713 [0, 3864.0] 53004\n",
      "3.5706210136413574 [0, 3864.0] 53005\n",
      "3.901864767074585 [1, 3863.0] 53006\n",
      "3.9723429679870605 [1, 3863.0] 53007\n",
      "3.9256865978240967 [1, 3863.0] 53008\n",
      "5.32163667678833 [1, 3863.0] 53009\n",
      "3.6662561893463135 [1, 3863.0] 53010\n",
      "3.8424127101898193 [0, 3863.0] 53011\n",
      "3.5432229042053223 [0, 3863.0] 53012\n",
      "3.7840356826782227 [0, 3863.0] 53013\n",
      "3.7406716346740723 [0, 3863.0] 53014\n",
      "3.550218105316162 [1, 3863.0] 53015\n",
      "3.5539944171905518 [0, 3863.0] 53016\n",
      "5.078935623168945 [0, 3862.0] 53017\n",
      "3.5225324630737305 [0, 3862.0] 53018\n",
      "3.499272584915161 [0, 3862.0] 53019\n",
      "3.494384288787842 [0, 3862.0] 53020\n",
      "4.871886730194092 [0, 3862.0] 53021\n",
      "3.5167055130004883 [1, 3862.0] 53022\n",
      "3.465089797973633 [0, 3862.0] 53023\n",
      "3.458951711654663 [0, 3862.0] 53024\n",
      "3.458951711654663 [0, 3862.0] 53025\n",
      "3.550218105316162 [1, 3862.0] 53026\n",
      "3.862654685974121 [0, 3865.0] 53027\n",
      "3.9448599815368652 [1, 3865.0] 53028\n",
      "3.9099698066711426 [1, 3865.0] 53029\n",
      "3.6999189853668213 [1, 3865.0] 53030\n",
      "3.5691332817077637 [0, 3865.0] 53031\n",
      "3.5419869422912598 [0, 3865.0] 53032\n",
      "3.540721893310547 [0, 3865.0] 53033\n",
      "3.7748186588287354 [0, 3865.0] 53034\n",
      "3.7481300830841064 [0, 3865.0] 53035\n",
      "3.4598703384399414 [0, 3865.0] 53036\n",
      "3.4924850463867188 [0, 3865.0] 53037\n",
      "3.4627974033355713 [0, 3865.0] 53038\n",
      "3.9565882682800293 [1, 633.0] 53388\n",
      "4.94455099105835 [0, 633.0] 53389\n",
      "3.550217628479004 [1, 633.0] 53390\n",
      "3.550217628479004 [1, 633.0] 53391\n",
      "4.953371524810791 [0, 633.0] 53392\n",
      "3.583303451538086 [0, 633.0] 53393\n",
      "3.6967763900756836 [0, 634.0] 53394\n",
      "3.8003501892089844 [0, 634.0] 53395\n",
      "4.974383354187012 [0, 634.0] 53396\n",
      "3.600083827972412 [0, 634.0] 53397\n",
      "3.6342861652374268 [0, 632.0] 53398\n",
      "3.5205159187316895 [0, 632.0] 53399\n",
      "5.157802581787109 [0, 635.0] 53400\n",
      "3.9082841873168945 [1, 635.0] 53401\n",
      "3.7490530014038086 [1, 635.0] 53402\n",
      "3.732325792312622 [1, 635.0] 53403\n",
      "3.6200499534606934 [0, 635.0] 53404\n",
      "3.4991846084594727 [1, 635.0] 53405\n",
      "3.550217628479004 [1, 635.0] 53406\n",
      "3.5659050941467285 [0, 635.0] 53407\n",
      "3.5636799335479736 [0, 635.0] 53408\n",
      "3.4623818397521973 [0, 635.0] 53409\n",
      "3.550217628479004 [1, 635.0] 53410\n",
      "3.695033073425293 [0, 635.0] 53411\n",
      "3.5191402435302734 [0, 635.0] 53412\n",
      "3.6231203079223633 [0, 635.0] 53413\n",
      "3.6207504272460938 [0, 635.0] 53414\n",
      "3.517549991607666 [0, 635.0] 53415\n",
      "4.139716625213623 [1, 2718.0] 53569\n",
      "3.7986154556274414 [0, 2718.0] 53570\n",
      "3.607016086578369 [0, 2718.0] 53571\n",
      "3.5209643840789795 [0, 2718.0] 53572\n",
      "3.4618515968322754 [0, 2718.0] 53573\n",
      "4.112493515014648 [1, 2717.0] 53574\n",
      "3.7969539165496826 [0, 2717.0] 53575\n",
      "4.042391777038574 [1, 2716.0] 53576\n",
      "3.7713871002197266 [0, 2716.0] 53577\n",
      "3.9675161838531494 [0, 2716.0] 53578\n",
      "3.7981274127960205 [0, 2716.0] 53579\n",
      "4.871069431304932 [0, 2716.0] 53580\n",
      "3.6379590034484863 [0, 2719.0] 53581\n",
      "3.6495509147644043 [0, 2719.0] 53582\n",
      "3.745764970779419 [0, 2719.0] 53583\n",
      "3.7907986640930176 [0, 2719.0] 53584\n",
      "3.923631429672241 [0, 2719.0] 53585\n",
      "3.5173614025115967 [0, 2719.0] 53586\n",
      "3.5323379039764404 [0, 2719.0] 53587\n",
      "3.478635549545288 [0, 2719.0] 53588\n",
      "3.4727566242218018 [0, 2719.0] 53589\n",
      "3.5399231910705566 [0, 2719.0] 53590\n",
      "3.566948890686035 [0, 2719.0] 53591\n",
      "4.813896179199219 [0, 2719.0] 53592\n",
      "3.7450380325317383 [1, 241.0] 54213\n",
      "3.611772298812866 [0, 241.0] 54214\n",
      "3.5585527420043945 [0, 241.0] 54215\n",
      "5.2074198722839355 [0, 241.0] 54216\n",
      "3.5001440048217773 [0, 241.0] 54217\n",
      "3.638050079345703 [0, 241.0] 54218\n",
      "5.1770100593566895 [1, 241.0] 54219\n",
      "8.032084465026855 [1, 243.0] 54220\n",
      "4.008678436279297 [0, 243.0] 54221\n",
      "3.773824453353882 [1, 243.0] 54222\n",
      "5.395097255706787 [0, 243.0] 54223\n",
      "3.542630910873413 [0, 243.0] 54224\n",
      "5.263915061950684 [0, 243.0] 54225\n",
      "3.5231199264526367 [0, 243.0] 54226\n",
      "3.790217161178589 [1, 242.0] 54227\n",
      "3.6131138801574707 [1, 242.0] 54228\n",
      "4.889601707458496 [1, 242.0] 54229\n",
      "3.458951711654663 [0, 242.0] 54230\n",
      "3.458951711654663 [0, 242.0] 54231\n",
      "3.550218105316162 [1, 242.0] 54232\n",
      "3.516056537628174 [0, 242.0] 54233\n",
      "6.0179123878479 [1, 244.0] 54234\n",
      "3.6847121715545654 [1, 244.0] 54235\n",
      "3.458951711654663 [1, 244.0] 54236\n",
      "5.030860424041748 [1, 244.0] 54237\n",
      "3.5158064365386963 [0, 244.0] 54238\n",
      "5.937338352203369 [1, 4079.0] 54341\n",
      "4.140344619750977 [1, 4079.0] 54342\n",
      "3.6870224475860596 [0, 4079.0] 54343\n",
      "3.721792697906494 [1, 4079.0] 54344\n",
      "3.711275815963745 [1, 4079.0] 54345\n",
      "3.6675784587860107 [0, 4079.0] 54346\n",
      "3.687268018722534 [0, 4079.0] 54347\n",
      "3.459768295288086 [0, 4079.0] 54348\n",
      "3.493910551071167 [0, 4079.0] 54349\n",
      "3.5941314697265625 [0, 4079.0] 54350\n",
      "3.5817391872406006 [0, 4079.0] 54351\n",
      "3.635554313659668 [0, 4079.0] 54352\n",
      "5.037234306335449 [0, 4079.0] 54353\n",
      "4.119754314422607 [1, 4082.0] 54354\n",
      "3.695791721343994 [0, 4082.0] 54355\n",
      "3.7220046520233154 [1, 4082.0] 54356\n",
      "3.700751543045044 [1, 4082.0] 54357\n",
      "3.5511562824249268 [0, 4082.0] 54358\n",
      "3.7482454776763916 [1, 4082.0] 54359\n",
      "3.4839401245117188 [0, 4082.0] 54360\n",
      "3.458951711654663 [0, 4082.0] 54361\n",
      "3.4922518730163574 [0, 4082.0] 54362\n",
      "3.5880239009857178 [0, 4082.0] 54363\n",
      "3.585397958755493 [0, 4082.0] 54364\n",
      "3.5929434299468994 [0, 4082.0] 54365\n",
      "3.513493299484253 [0, 4082.0] 54366\n",
      "3.439469814300537 [0, 4082.0] 54367\n",
      "5.063233852386475 [0, 4084.0] 54368\n",
      "4.022373676300049 [1, 4084.0] 54369\n",
      "3.667961597442627 [1, 4084.0] 54370\n",
      "3.6487791538238525 [0, 4084.0] 54371\n",
      "3.6124587059020996 [0, 4084.0] 54372\n",
      "5.140235424041748 [1, 4084.0] 54373\n",
      "3.5345325469970703 [1, 4084.0] 54374\n",
      "3.657895803451538 [0, 4084.0] 54375\n",
      "3.492753505706787 [0, 4084.0] 54376\n",
      "3.4788520336151123 [0, 4084.0] 54377\n",
      "3.496823787689209 [0, 4084.0] 54378\n",
      "3.4844398498535156 [0, 4084.0] 54379\n",
      "3.559171199798584 [0, 4084.0] 54380\n",
      "3.6510283946990967 [1, 4084.0] 54381\n",
      "3.558424711227417 [0, 4084.0] 54382\n",
      "3.5547890663146973 [0, 4084.0] 54383\n",
      "3.550218105316162 [1, 4084.0] 54384\n",
      "3.4755237102508545 [0, 4084.0] 54385\n",
      "4.0807623863220215 [1, 4081.0] 54386\n",
      "3.6470088958740234 [1, 4081.0] 54387\n",
      "3.475937843322754 [0, 4081.0] 54388\n",
      "3.459768295288086 [0, 4081.0] 54389\n",
      "3.460120677947998 [0, 4081.0] 54390\n",
      "3.4581000804901123 [0, 4081.0] 54391\n",
      "3.49465274810791 [1, 4081.0] 54392\n",
      "3.6224396228790283 [0, 4081.0] 54393\n",
      "3.4893486499786377 [0, 4081.0] 54394\n",
      "3.6519041061401367 [0, 4081.0] 54395\n",
      "3.5182101726531982 [0, 4081.0] 54396\n",
      "3.4507763385772705 [0, 4081.0] 54397\n",
      "3.4637465476989746 [0, 4081.0] 54398\n",
      "3.406071662902832 [0, 4081.0] 54399\n",
      "3.550218105316162 [0, 4081.0] 54400\n",
      "5.0781569480896 [0, 4083.0] 54401\n",
      "4.046237468719482 [1, 4083.0] 54402\n",
      "3.4802088737487793 [0, 4083.0] 54403\n",
      "3.5018091201782227 [0, 4083.0] 54404\n",
      "3.566739559173584 [0, 4083.0] 54405\n",
      "6.0080952644348145 [1, 4080.0] 54406\n",
      "4.221171855926514 [1, 4080.0] 54407\n",
      "3.7126240730285645 [0, 4080.0] 54408\n",
      "3.7223691940307617 [0, 4080.0] 54409\n",
      "3.7644875049591064 [0, 4080.0] 54410\n",
      "3.752497673034668 [1, 4080.0] 54411\n",
      "3.6180410385131836 [0, 4080.0] 54412\n",
      "3.700317144393921 [0, 4080.0] 54413\n",
      "3.6089417934417725 [0, 4080.0] 54414\n",
      "3.5003857612609863 [0, 4080.0] 54415\n",
      "5.057003974914551 [0, 4080.0] 54416\n",
      "4.061155319213867 [0, 1242.0] 54666\n",
      "3.9872753620147705 [0, 1242.0] 54667\n",
      "3.7126176357269287 [0, 1242.0] 54668\n",
      "3.4944252967834473 [0, 1242.0] 54669\n",
      "3.6527178287506104 [0, 1244.0] 54670\n",
      "3.9623286724090576 [0, 1244.0] 54671\n",
      "3.5171377658843994 [0, 1244.0] 54672\n",
      "3.5172808170318604 [0, 1244.0] 54673\n",
      "3.5338659286499023 [0, 1244.0] 54674\n",
      "3.464442491531372 [0, 1244.0] 54675\n",
      "3.692756414413452 [0, 1244.0] 54676\n",
      "3.8633971214294434 [0, 1244.0] 54677\n",
      "5.660344123840332 [1, 1243.0] 54678\n",
      "3.864981174468994 [0, 1243.0] 54679\n",
      "3.7675278186798096 [0, 1243.0] 54680\n",
      "5.3362956047058105 [1, 1243.0] 54681\n",
      "3.642610788345337 [0, 1243.0] 54682\n",
      "3.522930860519409 [0, 1243.0] 54683\n",
      "3.4745635986328125 [0, 1243.0] 54684\n",
      "3.436911106109619 [0, 1243.0] 54685\n",
      "3.644331455230713 [0, 1243.0] 54686\n",
      "3.8557705879211426 [0, 1243.0] 54687\n",
      "3.8046367168426514 [0, 1240.0] 54688\n",
      "3.492894172668457 [0, 1240.0] 54689\n",
      "5.717134475708008 [1, 1245.0] 54690\n",
      "3.882723808288574 [0, 1245.0] 54691\n",
      "5.32127571105957 [1, 1245.0] 54692\n",
      "3.6626436710357666 [0, 1245.0] 54693\n",
      "3.713280439376831 [0, 1245.0] 54694\n",
      "3.532217502593994 [0, 1245.0] 54695\n",
      "3.481123447418213 [0, 1245.0] 54696\n",
      "3.6595852375030518 [0, 1245.0] 54697\n",
      "3.874948263168335 [0, 1245.0] 54698\n",
      "3.957500457763672 [1, 1246.0] 54699\n",
      "3.919548273086548 [1, 1246.0] 54700\n",
      "3.795353651046753 [0, 1246.0] 54701\n",
      "3.8223519325256348 [0, 1246.0] 54702\n",
      "3.715115547180176 [0, 1246.0] 54703\n",
      "3.759608507156372 [0, 1246.0] 54704\n",
      "3.676969051361084 [0, 1246.0] 54705\n",
      "3.572828531265259 [0, 1246.0] 54706\n",
      "3.5938644409179688 [0, 1246.0] 54707\n",
      "5.319559097290039 [1, 1246.0] 54708\n",
      "3.630862236022949 [0, 1246.0] 54709\n",
      "3.6726269721984863 [0, 1246.0] 54710\n",
      "3.605215072631836 [0, 1246.0] 54711\n",
      "3.5222721099853516 [0, 1246.0] 54712\n",
      "3.7680892944335938 [0, 1247.0] 54713\n",
      "3.605613946914673 [0, 1247.0] 54714\n",
      "3.4871344566345215 [1, 1247.0] 54715\n",
      "3.435906171798706 [0, 1247.0] 54716\n",
      "3.56697678565979 [0, 1247.0] 54717\n",
      "3.6249842643737793 [0, 1247.0] 54718\n",
      "3.858060598373413 [0, 1247.0] 54719\n",
      "5.7256669998168945 [1, 1241.0] 54720\n",
      "4.113546848297119 [0, 1241.0] 54721\n",
      "3.6728978157043457 [0, 1241.0] 54722\n",
      "3.624648332595825 [1, 1937.0] 54723\n",
      "3.458951711654663 [1, 1937.0] 54724\n",
      "3.8341803550720215 [1, 1942.0] 54725\n",
      "3.829615831375122 [0, 1942.0] 54726\n",
      "3.7431485652923584 [0, 1942.0] 54727\n",
      "3.803331136703491 [1, 1942.0] 54728\n",
      "3.7252702713012695 [0, 1942.0] 54729\n",
      "3.7743937969207764 [1, 1942.0] 54730\n",
      "3.649394989013672 [0, 1942.0] 54731\n",
      "3.6568548679351807 [0, 1942.0] 54732\n",
      "3.517469882965088 [0, 1942.0] 54733\n",
      "3.5825977325439453 [0, 1942.0] 54734\n",
      "3.5768980979919434 [1, 1939.0] 54735\n",
      "3.458951711654663 [1, 1939.0] 54736\n",
      "3.5868113040924072 [0, 1941.0] 54737\n",
      "3.567075252532959 [1, 1940.0] 54738\n",
      "3.458951711654663 [1, 1940.0] 54739\n",
      "3.6719396114349365 [0, 1938.0] 54740\n",
      "3.5820138454437256 [0, 1938.0] 54741\n",
      "3.540742874145508 [0, 1938.0] 54742\n",
      "3.5739009380340576 [1, 1938.0] 54743\n",
      "3.458951711654663 [1, 1938.0] 54744\n",
      "6.187450885772705 [1, 1943.0] 54745\n",
      "3.622321367263794 [0, 1943.0] 54746\n",
      "3.464571237564087 [0, 1943.0] 54747\n",
      "3.5136008262634277 [0, 1943.0] 54748\n",
      "3.5187478065490723 [0, 1943.0] 54749\n",
      "3.5249874591827393 [0, 1943.0] 54750\n",
      "3.459768295288086 [0, 1943.0] 54751\n",
      "5.333125114440918 [1, 100.0] 55074\n",
      "4.089682102203369 [1, 100.0] 55075\n",
      "4.052953720092773 [1, 100.0] 55076\n",
      "3.8977272510528564 [0, 100.0] 55077\n",
      "3.786750078201294 [0, 100.0] 55078\n",
      "3.826953172683716 [0, 100.0] 55079\n",
      "3.5587849617004395 [0, 100.0] 55080\n",
      "3.550217628479004 [1, 100.0] 55081\n",
      "3.5559651851654053 [0, 100.0] 55082\n",
      "3.961228609085083 [1, 101.0] 55083\n",
      "3.8221278190612793 [1, 101.0] 55084\n",
      "3.9321959018707275 [1, 101.0] 55085\n",
      "3.8438704013824463 [0, 101.0] 55086\n",
      "3.640054225921631 [0, 101.0] 55087\n",
      "3.7389883995056152 [0, 101.0] 55088\n",
      "3.539607524871826 [0, 101.0] 55089\n",
      "3.715937376022339 [0, 101.0] 55090\n",
      "5.608185768127441 [0, 464.0] 55736\n",
      "4.0130534172058105 [0, 464.0] 55737\n",
      "3.913120985031128 [0, 464.0] 55738\n",
      "3.630993604660034 [0, 464.0] 55739\n",
      "3.5468592643737793 [0, 464.0] 55740\n",
      "3.562957763671875 [1, 464.0] 55741\n",
      "3.5655150413513184 [1, 464.0] 55742\n",
      "3.695911407470703 [0, 464.0] 55743\n",
      "3.6243457794189453 [1, 464.0] 55744\n",
      "3.458951711654663 [1, 464.0] 55745\n",
      "5.434741973876953 [1, 465.0] 55746\n",
      "3.787875175476074 [1, 465.0] 55747\n",
      "3.6160240173339844 [0, 465.0] 55748\n",
      "3.7602715492248535 [0, 466.0] 55749\n",
      "3.7277321815490723 [0, 466.0] 55750\n",
      "3.5981712341308594 [0, 466.0] 55751\n",
      "6.122684955596924 [1, 1842.0] 55752\n",
      "5.665301322937012 [1, 1842.0] 55753\n",
      "3.8796792030334473 [1, 1842.0] 55754\n",
      "3.952587366104126 [1, 1842.0] 55755\n",
      "3.9249303340911865 [1, 1842.0] 55756\n",
      "3.833070755004883 [0, 1842.0] 55757\n",
      "4.119731426239014 [0, 1842.0] 55758\n",
      "3.9270730018615723 [0, 1842.0] 55759\n",
      "3.737293243408203 [0, 1842.0] 55760\n",
      "3.720855236053467 [0, 1842.0] 55761\n",
      "3.7459192276000977 [0, 1842.0] 55762\n",
      "3.6652309894561768 [0, 1842.0] 55763\n",
      "3.5870957374572754 [0, 1842.0] 55764\n",
      "3.5208773612976074 [0, 1842.0] 55765\n",
      "3.4922611713409424 [0, 1842.0] 55766\n",
      "3.449869155883789 [0, 1842.0] 55767\n",
      "3.5815958976745605 [0, 1842.0] 55768\n",
      "3.6024439334869385 [0, 1842.0] 55769\n",
      "3.5997660160064697 [0, 1842.0] 55770\n",
      "3.5060102939605713 [0, 1842.0] 55771\n",
      "3.936096429824829 [0, 1845.0] 55772\n",
      "3.9049606323242188 [0, 1845.0] 55773\n",
      "3.802201509475708 [1, 1845.0] 55774\n",
      "3.731943130493164 [0, 1845.0] 55775\n",
      "5.247230052947998 [1, 1845.0] 55776\n",
      "3.4583046436309814 [0, 1845.0] 55777\n",
      "3.8103883266448975 [0, 1845.0] 55778\n",
      "3.6025145053863525 [0, 1845.0] 55779\n",
      "3.524672508239746 [0, 1845.0] 55780\n",
      "3.7016983032226562 [0, 1845.0] 55781\n",
      "3.6122522354125977 [0, 1845.0] 55782\n",
      "3.596404790878296 [0, 1845.0] 55783\n",
      "3.5400686264038086 [0, 1845.0] 55784\n",
      "3.4828832149505615 [0, 1845.0] 55785\n",
      "3.446873426437378 [0, 1845.0] 55786\n",
      "3.5214662551879883 [0, 1845.0] 55787\n",
      "5.154880523681641 [0, 1845.0] 55788\n",
      "3.550217628479004 [0, 1845.0] 55789\n",
      "4.076455116271973 [1, 1843.0] 55790\n",
      "4.035154819488525 [1, 1843.0] 55791\n",
      "3.9270434379577637 [0, 1843.0] 55792\n",
      "3.911304473876953 [1, 1843.0] 55793\n",
      "3.777714252471924 [0, 1843.0] 55794\n",
      "3.8043127059936523 [0, 1843.0] 55795\n",
      "3.731844663619995 [0, 1843.0] 55796\n",
      "3.6509435176849365 [0, 1843.0] 55797\n",
      "3.5226316452026367 [1, 1843.0] 55798\n",
      "3.590137004852295 [0, 1843.0] 55799\n",
      "3.6482362747192383 [0, 1843.0] 55800\n",
      "3.5453107357025146 [0, 1843.0] 55801\n",
      "3.467806816101074 [0, 1843.0] 55802\n",
      "3.557966470718384 [0, 1844.0] 55803\n",
      "3.638951539993286 [0, 1844.0] 55804\n",
      "3.590125560760498 [0, 1844.0] 55805\n",
      "3.5199239253997803 [0, 1844.0] 55806\n",
      "5.862183094024658 [1, 1525.0] 55873\n",
      "5.487697124481201 [1, 1525.0] 55874\n",
      "3.841379404067993 [0, 1525.0] 55875\n",
      "3.879267930984497 [1, 1525.0] 55876\n",
      "3.7923097610473633 [1, 1525.0] 55877\n",
      "3.8044025897979736 [1, 1525.0] 55878\n",
      "3.6507461071014404 [0, 1525.0] 55879\n",
      "3.6766865253448486 [0, 1525.0] 55880\n",
      "3.6419100761413574 [0, 1525.0] 55881\n",
      "3.692028284072876 [0, 1525.0] 55882\n",
      "3.721879243850708 [0, 1525.0] 55883\n",
      "3.5525059700012207 [0, 1525.0] 55884\n",
      "3.5679702758789062 [0, 1525.0] 55885\n",
      "3.5433390140533447 [0, 1525.0] 55886\n",
      "3.8570234775543213 [0, 1525.0] 55887\n",
      "3.4986743927001953 [0, 1525.0] 55888\n",
      "3.550217628479004 [0, 1525.0] 55889\n",
      "3.458951473236084 [0, 1525.0] 55890\n",
      "3.458951473236084 [0, 1525.0] 55891\n",
      "3.458951473236084 [0, 1525.0] 55892\n",
      "5.8696818351745605 [1, 1528.0] 55893\n",
      "5.492711544036865 [1, 1528.0] 55894\n",
      "3.8452491760253906 [0, 1528.0] 55895\n",
      "3.884221076965332 [1, 1528.0] 55896\n",
      "3.796464443206787 [1, 1528.0] 55897\n",
      "3.8027799129486084 [1, 1528.0] 55898\n",
      "3.6533756256103516 [0, 1528.0] 55899\n",
      "3.6799187660217285 [0, 1528.0] 55900\n",
      "3.644892692565918 [0, 1528.0] 55901\n",
      "3.6902916431427 [0, 1528.0] 55902\n",
      "3.724569082260132 [0, 1528.0] 55903\n",
      "3.55418062210083 [0, 1528.0] 55904\n",
      "3.5695180892944336 [0, 1528.0] 55905\n",
      "3.5445523262023926 [0, 1528.0] 55906\n",
      "3.859036684036255 [0, 1528.0] 55907\n",
      "3.4995615482330322 [0, 1528.0] 55908\n",
      "3.550217628479004 [0, 1528.0] 55909\n",
      "3.458951473236084 [0, 1528.0] 55910\n",
      "3.458951473236084 [0, 1528.0] 55911\n",
      "3.458951473236084 [0, 1528.0] 55912\n",
      "5.112063884735107 [1, 1527.0] 55913\n",
      "3.6950650215148926 [1, 1527.0] 55914\n",
      "3.4247193336486816 [0, 1527.0] 55915\n",
      "3.5641772747039795 [0, 1527.0] 55916\n",
      "3.550218105316162 [0, 1527.0] 55917\n",
      "3.770521402359009 [1, 1526.0] 55918\n",
      "5.026031970977783 [1, 1526.0] 55919\n",
      "3.5476791858673096 [0, 1526.0] 55920\n",
      "3.4559412002563477 [0, 1526.0] 55921\n",
      "3.5782604217529297 [0, 1526.0] 55922\n",
      "3.472430944442749 [0, 1526.0] 55923\n",
      "4.916559219360352 [0, 1526.0] 55924\n",
      "3.458951711654663 [0, 1526.0] 55925\n",
      "3.458951711654663 [0, 1526.0] 55926\n",
      "3.6406381130218506 [0, 1526.0] 55927\n",
      "3.458951711654663 [0, 1526.0] 55928\n",
      "3.550217628479004 [0, 1526.0] 55929\n",
      "3.5390329360961914 [0, 1526.0] 55930\n",
      "5.254785537719727 [0, 1526.0] 55931\n",
      "3.531212091445923 [0, 1529.0] 55932\n",
      "3.406071662902832 [0, 1529.0] 55933\n",
      "5.558957576751709 [1, 533.0] 55934\n",
      "3.5846939086914062 [1, 533.0] 55935\n",
      "3.669701337814331 [1, 533.0] 55936\n",
      "3.557879686355591 [1, 533.0] 55937\n",
      "3.458951711654663 [1, 533.0] 55938\n",
      "3.6806273460388184 [1, 535.0] 55939\n",
      "3.698977470397949 [1, 536.0] 55940\n",
      "3.882720947265625 [0, 534.0] 55941\n",
      "3.9459969997406006 [0, 534.0] 55942\n",
      "3.7036921977996826 [0, 534.0] 55943\n",
      "3.7536494731903076 [0, 534.0] 55944\n",
      "3.550218105316162 [1, 534.0] 55945\n",
      "3.4398670196533203 [0, 534.0] 55946\n",
      "3.670682430267334 [0, 537.0] 55947\n",
      "3.6534175872802734 [1, 537.0] 55948\n",
      "3.6083459854125977 [0, 537.0] 55949\n",
      "3.406071424484253 [0, 537.0] 55950\n",
      "5.290966033935547 [0, 1884.0] 56036\n",
      "5.361225128173828 [1, 1884.0] 56037\n",
      "3.9333741664886475 [1, 1884.0] 56038\n",
      "3.8273634910583496 [1, 1884.0] 56039\n",
      "3.767364263534546 [0, 1884.0] 56040\n",
      "3.7092788219451904 [0, 1884.0] 56041\n",
      "3.7601191997528076 [1, 1884.0] 56042\n",
      "3.6595985889434814 [0, 1884.0] 56043\n",
      "3.550361394882202 [1, 1884.0] 56044\n",
      "3.5694024562835693 [0, 1884.0] 56045\n",
      "3.6062827110290527 [0, 1884.0] 56046\n",
      "3.550549030303955 [0, 1884.0] 56047\n",
      "5.232102394104004 [0, 1884.0] 56048\n",
      "3.550218105316162 [1, 1884.0] 56049\n",
      "3.534998655319214 [0, 1884.0] 56050\n",
      "4.3249311447143555 [0, 1886.0] 56051\n",
      "3.8247056007385254 [0, 1886.0] 56052\n",
      "3.520758867263794 [0, 1886.0] 56053\n",
      "3.548362970352173 [0, 1886.0] 56054\n",
      "3.5625507831573486 [0, 1886.0] 56055\n",
      "3.5119168758392334 [0, 1886.0] 56056\n",
      "3.481598377227783 [1, 1886.0] 56057\n",
      "3.693688154220581 [0, 1886.0] 56058\n",
      "3.7332069873809814 [0, 1881.0] 56059\n",
      "3.406071424484253 [0, 1881.0] 56060\n",
      "3.6229195594787598 [0, 1881.0] 56061\n",
      "3.5492324829101562 [0, 1881.0] 56062\n",
      "3.688163995742798 [0, 1881.0] 56063\n",
      "5.618240833282471 [1, 1885.0] 56064\n",
      "4.065911293029785 [0, 1885.0] 56065\n",
      "3.683168649673462 [1, 1885.0] 56066\n",
      "3.835322380065918 [0, 1885.0] 56067\n",
      "3.7952640056610107 [1, 1885.0] 56068\n",
      "3.516597032546997 [0, 1885.0] 56069\n",
      "3.5884110927581787 [0, 1885.0] 56070\n",
      "3.564089298248291 [0, 1885.0] 56071\n",
      "3.456047296524048 [0, 1885.0] 56072\n",
      "3.5666003227233887 [0, 1885.0] 56073\n",
      "3.4590258598327637 [0, 1885.0] 56074\n",
      "3.5229454040527344 [0, 1885.0] 56075\n",
      "3.5519559383392334 [0, 1885.0] 56076\n",
      "3.6611437797546387 [0, 1882.0] 56077\n",
      "3.5507113933563232 [0, 1882.0] 56078\n",
      "3.6611437797546387 [0, 1883.0] 56079\n",
      "3.5507113933563232 [0, 1883.0] 56080\n",
      "3.595700263977051 [0, 3593.0] 56168\n",
      "3.5500009059906006 [0, 3593.0] 56169\n",
      "5.289360046386719 [0, 3593.0] 56170\n",
      "3.627509832382202 [0, 3595.0] 56171\n",
      "3.5194523334503174 [0, 3597.0] 56172\n",
      "3.9225103855133057 [1, 3594.0] 56173\n",
      "3.827213764190674 [0, 3594.0] 56174\n",
      "3.8670706748962402 [1, 3594.0] 56175\n",
      "3.8197875022888184 [1, 3594.0] 56176\n",
      "3.7089803218841553 [0, 3594.0] 56177\n",
      "3.730050563812256 [0, 3594.0] 56178\n",
      "3.577916145324707 [0, 3594.0] 56179\n",
      "3.4787204265594482 [1, 3594.0] 56180\n",
      "3.5229220390319824 [0, 3594.0] 56181\n",
      "3.687573194503784 [0, 3594.0] 56182\n",
      "3.5194525718688965 [0, 3594.0] 56183\n",
      "3.53084135055542 [0, 3594.0] 56184\n",
      "3.5194523334503174 [0, 3594.0] 56185\n",
      "3.885484457015991 [1, 3596.0] 56186\n",
      "3.7414937019348145 [0, 3596.0] 56187\n",
      "3.6099071502685547 [1, 3596.0] 56188\n",
      "3.499481439590454 [1, 3596.0] 56189\n",
      "4.047839164733887 [0, 3596.0] 56190\n",
      "3.407944440841675 [0, 3596.0] 56191\n",
      "4.004631996154785 [1, 1080.0] 56192\n",
      "3.657835006713867 [0, 1080.0] 56193\n",
      "3.4544103145599365 [1, 1080.0] 56194\n",
      "3.4398534297943115 [1, 1080.0] 56195\n",
      "3.590179920196533 [0, 1080.0] 56196\n",
      "3.459768295288086 [0, 1080.0] 56197\n",
      "3.6067135334014893 [0, 1080.0] 56198\n",
      "3.591975688934326 [1, 1080.0] 56199\n",
      "3.457789897918701 [0, 1080.0] 56200\n",
      "5.700382232666016 [0, 1082.0] 56201\n",
      "4.195183277130127 [0, 1082.0] 56202\n",
      "4.142979145050049 [0, 1082.0] 56203\n",
      "3.967865467071533 [0, 1082.0] 56204\n",
      "3.852546453475952 [0, 1082.0] 56205\n",
      "3.878213405609131 [0, 1082.0] 56206\n",
      "3.689730167388916 [0, 1082.0] 56207\n",
      "3.5644426345825195 [0, 1082.0] 56209\n",
      "3.608546733856201 [1, 1082.0] 56210\n",
      "3.5834736824035645 [0, 1082.0] 56211\n",
      "3.9129085540771484 [0, 1079.0] 56215\n",
      "3.8305857181549072 [0, 1079.0] 56216\n",
      "3.7350234985351562 [1, 1079.0] 56217\n",
      "5.143348217010498 [0, 4306.0] 56562\n",
      "3.5559232234954834 [1, 4306.0] 56563\n",
      "3.54245662689209 [0, 4306.0] 56564\n",
      "3.5108389854431152 [0, 4306.0] 56565\n",
      "3.5108389854431152 [0, 4306.0] 56566\n",
      "3.521395683288574 [0, 4306.0] 56567\n",
      "3.488145112991333 [0, 4306.0] 56568\n",
      "3.6389474868774414 [1, 4307.0] 56569\n",
      "3.69400691986084 [0, 4307.0] 56570\n",
      "3.656736373901367 [1, 4307.0] 56571\n",
      "3.6536166667938232 [1, 4307.0] 56572\n",
      "3.695183753967285 [1, 4307.0] 56573\n",
      "3.650958776473999 [0, 4307.0] 56574\n",
      "3.5416736602783203 [0, 4307.0] 56575\n",
      "3.5744991302490234 [1, 4307.0] 56576\n",
      "3.701092481613159 [1, 252.0] 56644\n",
      "3.738415002822876 [1, 252.0] 56645\n",
      "3.633457660675049 [1, 252.0] 56646\n",
      "3.532264471054077 [0, 252.0] 56647\n",
      "3.661167860031128 [0, 252.0] 56648\n",
      "3.533940315246582 [0, 252.0] 56649\n",
      "3.4592955112457275 [0, 252.0] 56650\n",
      "3.586414337158203 [0, 252.0] 56651\n",
      "3.4809420108795166 [1, 252.0] 56652\n",
      "3.511492967605591 [1, 252.0] 56653\n",
      "3.4602880477905273 [0, 252.0] 56654\n",
      "3.512223720550537 [0, 252.0] 56655\n",
      "3.550218105316162 [1, 252.0] 56656\n",
      "3.5393223762512207 [0, 252.0] 56657\n",
      "5.717904090881348 [1, 251.0] 56658\n",
      "3.8430018424987793 [1, 251.0] 56659\n",
      "3.622600555419922 [0, 251.0] 56660\n",
      "3.685622215270996 [0, 251.0] 56661\n",
      "3.5089354515075684 [0, 251.0] 56662\n",
      "3.54455828666687 [0, 251.0] 56663\n",
      "3.498507261276245 [0, 251.0] 56664\n",
      "3.599019765853882 [1, 251.0] 56665\n",
      "3.458951711654663 [1, 251.0] 56666\n",
      "3.550218105316162 [1, 251.0] 56667\n",
      "3.545170545578003 [0, 251.0] 56668\n",
      "3.7566096782684326 [1, 4077.0] 56711\n",
      "3.6638200283050537 [0, 4077.0] 56712\n",
      "3.463097095489502 [1, 4077.0] 56713\n",
      "4.92222261428833 [0, 4077.0] 56714\n",
      "3.5488009452819824 [1, 4077.0] 56715\n",
      "3.546792984008789 [0, 4077.0] 56716\n",
      "4.02630615234375 [0, 4076.0] 56717\n",
      "3.600947141647339 [1, 4078.0] 56718\n",
      "3.542806625366211 [0, 4078.0] 56719\n",
      "3.518357038497925 [0, 4078.0] 56720\n",
      "3.480802536010742 [0, 4078.0] 56721\n",
      "4.345751762390137 [0, 1258.0] 56747\n",
      "4.236180305480957 [1, 1258.0] 56748\n",
      "4.120237350463867 [1, 1258.0] 56749\n",
      "3.9137651920318604 [1, 1258.0] 56750\n",
      "4.244531631469727 [1, 1258.0] 56751\n",
      "3.54107928276062 [0, 1258.0] 56752\n",
      "3.51469087600708 [0, 1258.0] 56753\n",
      "4.951213359832764 [0, 1258.0] 56754\n",
      "3.458951711654663 [0, 1258.0] 56755\n",
      "3.458951711654663 [0, 1258.0] 56756\n",
      "5.967504024505615 [1, 204.0] 57067\n",
      "5.169003963470459 [1, 204.0] 57068\n",
      "3.823855400085449 [0, 204.0] 57069\n",
      "3.789611339569092 [0, 204.0] 57070\n",
      "3.708373785018921 [0, 204.0] 57071\n",
      "3.6894917488098145 [0, 204.0] 57072\n",
      "3.6488521099090576 [1, 204.0] 57073\n",
      "3.7365121841430664 [1, 204.0] 57074\n",
      "3.541898012161255 [0, 204.0] 57075\n",
      "3.625281572341919 [1, 204.0] 57076\n",
      "3.566833257675171 [0, 204.0] 57077\n",
      "3.4957194328308105 [0, 204.0] 57078\n",
      "3.6025149822235107 [0, 204.0] 57079\n",
      "3.50264048576355 [0, 204.0] 57080\n",
      "3.7257463932037354 [0, 204.0] 57081\n",
      "3.5114593505859375 [0, 204.0] 57082\n",
      "3.63440203666687 [0, 204.0] 57083\n",
      "3.644538402557373 [0, 204.0] 57084\n",
      "5.209649562835693 [0, 204.0] 57085\n",
      "3.9339206218719482 [1, 208.0] 57086\n",
      "3.829089403152466 [0, 208.0] 57087\n",
      "3.8890414237976074 [0, 208.0] 57088\n",
      "3.7674996852874756 [1, 208.0] 57089\n",
      "4.064561367034912 [0, 208.0] 57090\n",
      "3.7138824462890625 [0, 208.0] 57091\n",
      "3.7766642570495605 [1, 208.0] 57092\n",
      "3.7211103439331055 [0, 208.0] 57093\n",
      "3.5735015869140625 [0, 208.0] 57094\n",
      "3.571180820465088 [0, 208.0] 57095\n",
      "3.5496435165405273 [0, 208.0] 57096\n",
      "3.5248920917510986 [0, 208.0] 57097\n",
      "3.835782527923584 [1, 209.0] 57098\n",
      "3.811419725418091 [1, 209.0] 57099\n",
      "3.6895198822021484 [1, 209.0] 57100\n",
      "3.66513991355896 [0, 209.0] 57101\n",
      "3.5467000007629395 [0, 209.0] 57102\n",
      "3.5672268867492676 [0, 209.0] 57103\n",
      "3.6435446739196777 [1, 209.0] 57104\n",
      "3.5232114791870117 [0, 209.0] 57105\n",
      "3.7412452697753906 [0, 209.0] 57106\n",
      "3.5126352310180664 [0, 209.0] 57107\n",
      "3.649080753326416 [0, 209.0] 57108\n",
      "5.455117225646973 [1, 207.0] 57109\n",
      "3.5158233642578125 [0, 207.0] 57110\n",
      "5.122175216674805 [0, 207.0] 57111\n",
      "5.054818153381348 [0, 207.0] 57112\n",
      "3.497220516204834 [0, 207.0] 57113\n",
      "3.4588418006896973 [0, 207.0] 57114\n",
      "3.52078914642334 [0, 207.0] 57115\n",
      "4.981693267822266 [0, 207.0] 57116\n",
      "6.112044334411621 [1, 206.0] 57117\n",
      "3.9210612773895264 [0, 206.0] 57118\n",
      "3.8940935134887695 [0, 206.0] 57119\n",
      "3.7919468879699707 [0, 206.0] 57120\n",
      "3.8013782501220703 [0, 206.0] 57121\n",
      "3.6972460746765137 [0, 206.0] 57122\n",
      "3.7755582332611084 [0, 206.0] 57123\n",
      "3.7084145545959473 [0, 206.0] 57124\n",
      "3.5256967544555664 [0, 206.0] 57125\n",
      "3.8730013370513916 [1, 205.0] 57126\n",
      "3.4452428817749023 [0, 205.0] 57127\n",
      "3.5403499603271484 [0, 205.0] 57128\n",
      "3.5532941818237305 [0, 205.0] 57129\n",
      "3.550218105316162 [0, 205.0] 57130\n",
      "5.765265464782715 [1, 3687.0] 57328\n",
      "3.8625781536102295 [1, 3687.0] 57329\n",
      "3.7660374641418457 [0, 3687.0] 57330\n",
      "3.7975165843963623 [1, 3687.0] 57331\n",
      "3.7864017486572266 [1, 3687.0] 57332\n",
      "3.7103538513183594 [0, 3687.0] 57333\n",
      "3.533311605453491 [0, 3687.0] 57334\n",
      "3.4822282791137695 [1, 3687.0] 57335\n",
      "3.406071424484253 [0, 3687.0] 57336\n",
      "3.5066287517547607 [0, 3687.0] 57337\n",
      "3.684180974960327 [0, 3687.0] 57338\n",
      "3.67874813079834 [0, 3687.0] 57339\n",
      "3.814866065979004 [1, 3688.0] 57340\n",
      "3.432433843612671 [0, 3688.0] 57341\n",
      "3.4630820751190186 [0, 3688.0] 57342\n",
      "3.4266469478607178 [0, 3688.0] 57343\n",
      "3.5558693408966064 [0, 3688.0] 57344\n",
      "3.66085147857666 [0, 3690.0] 57345\n",
      "3.651681900024414 [1, 3690.0] 57346\n",
      "4.363578796386719 [1, 3690.0] 57347\n",
      "3.550217628479004 [0, 3690.0] 57348\n",
      "5.828472137451172 [1, 3689.0] 57349\n",
      "3.8530468940734863 [0, 3689.0] 57350\n",
      "3.9289205074310303 [1, 3689.0] 57351\n",
      "3.8061904907226562 [0, 3689.0] 57352\n",
      "3.8620548248291016 [1, 3689.0] 57353\n",
      "3.7146434783935547 [0, 3689.0] 57354\n",
      "3.726943016052246 [0, 3689.0] 57355\n",
      "3.7002055644989014 [1, 3689.0] 57356\n",
      "3.560058116912842 [1, 3689.0] 57357\n",
      "3.4686100482940674 [0, 3689.0] 57358\n",
      "3.52036190032959 [0, 3689.0] 57359\n",
      "3.516805410385132 [0, 3689.0] 57360\n",
      "3.466745138168335 [0, 3689.0] 57361\n",
      "3.432724952697754 [0, 3689.0] 57362\n",
      "4.935871601104736 [0, 3689.0] 57363\n",
      "3.5863659381866455 [0, 3689.0] 57364\n",
      "3.613377809524536 [0, 3689.0] 57365\n",
      "3.590071678161621 [0, 3689.0] 57366\n",
      "4.276163101196289 [1, 285.0] 57430\n",
      "3.6441314220428467 [0, 285.0] 57431\n",
      "3.804492712020874 [1, 285.0] 57432\n",
      "3.6510376930236816 [0, 285.0] 57433\n",
      "3.58500599861145 [0, 285.0] 57434\n",
      "3.485527753829956 [0, 285.0] 57435\n",
      "3.609027147293091 [0, 285.0] 57436\n",
      "3.5224342346191406 [0, 285.0] 57437\n",
      "3.519789218902588 [0, 285.0] 57438\n",
      "3.4899215698242188 [0, 285.0] 57439\n",
      "3.5343971252441406 [0, 285.0] 57440\n",
      "3.59428334236145 [0, 285.0] 57441\n",
      "3.459768295288086 [0, 285.0] 57442\n",
      "5.042431354522705 [0, 285.0] 57443\n",
      "4.3459367752075195 [1, 287.0] 57444\n",
      "3.671988010406494 [0, 287.0] 57445\n",
      "3.842550277709961 [1, 287.0] 57446\n",
      "3.6847870349884033 [0, 287.0] 57447\n",
      "3.6039316654205322 [0, 287.0] 57448\n",
      "3.4912188053131104 [0, 287.0] 57449\n",
      "3.6009368896484375 [0, 287.0] 57450\n",
      "3.534632682800293 [0, 287.0] 57451\n",
      "3.531813621520996 [0, 287.0] 57452\n",
      "3.4962408542633057 [0, 287.0] 57453\n",
      "3.546642541885376 [0, 287.0] 57454\n",
      "3.6168408393859863 [0, 287.0] 57455\n",
      "3.459768295288086 [0, 287.0] 57456\n",
      "5.055061340332031 [0, 287.0] 57457\n",
      "4.142913341522217 [1, 288.0] 57458\n",
      "4.062783241271973 [1, 288.0] 57459\n",
      "3.837477684020996 [1, 288.0] 57460\n",
      "3.818148136138916 [1, 288.0] 57461\n",
      "3.7155938148498535 [0, 288.0] 57462\n",
      "3.766472339630127 [1, 288.0] 57463\n",
      "5.261256694793701 [1, 288.0] 57464\n",
      "3.6357452869415283 [0, 288.0] 57465\n",
      "3.7509896755218506 [0, 288.0] 57466\n",
      "3.5093109607696533 [0, 288.0] 57467\n",
      "3.65258526802063 [0, 288.0] 57468\n",
      "3.6531126499176025 [0, 288.0] 57469\n",
      "3.5533313751220703 [0, 288.0] 57470\n",
      "3.550217628479004 [1, 288.0] 57471\n",
      "3.553821325302124 [0, 288.0] 57472\n",
      "3.7675914764404297 [0, 288.0] 57473\n",
      "4.150941848754883 [1, 286.0] 57474\n",
      "4.074019432067871 [1, 286.0] 57475\n",
      "3.8447980880737305 [1, 286.0] 57476\n",
      "3.8250160217285156 [1, 286.0] 57477\n",
      "3.7227325439453125 [0, 286.0] 57478\n",
      "3.772432565689087 [1, 286.0] 57479\n",
      "5.264483451843262 [1, 286.0] 57480\n",
      "3.640831470489502 [0, 286.0] 57481\n",
      "3.7551825046539307 [0, 286.0] 57482\n",
      "3.5103883743286133 [0, 286.0] 57483\n",
      "3.6565744876861572 [0, 286.0] 57484\n",
      "3.657578706741333 [0, 286.0] 57485\n",
      "3.555253267288208 [0, 286.0] 57486\n",
      "3.550217628479004 [1, 286.0] 57487\n",
      "3.5556156635284424 [0, 286.0] 57488\n",
      "3.7711901664733887 [0, 286.0] 57489\n",
      "3.4882612228393555 [0, 5901.0] 57490\n",
      "3.6082019805908203 [0, 5901.0] 57491\n",
      "3.488471746444702 [0, 5903.0] 57492\n",
      "5.7095770835876465 [1, 5902.0] 57493\n",
      "5.151469707489014 [0, 784.0] 57494\n",
      "3.7997913360595703 [1, 784.0] 57495\n",
      "3.7595760822296143 [1, 784.0] 57496\n",
      "3.7236626148223877 [1, 784.0] 57497\n",
      "3.564211130142212 [0, 784.0] 57498\n",
      "3.40995717048645 [1, 784.0] 57499\n",
      "3.5063462257385254 [0, 784.0] 57500\n",
      "3.500293731689453 [0, 784.0] 57501\n",
      "3.654137372970581 [0, 784.0] 57502\n",
      "3.729731559753418 [0, 784.0] 57503\n",
      "3.5040507316589355 [0, 784.0] 57504\n",
      "3.6231610774993896 [0, 784.0] 57505\n",
      "3.617525577545166 [0, 784.0] 57506\n",
      "5.201077938079834 [0, 784.0] 57507\n",
      "3.5719375610351562 [0, 784.0] 57508\n",
      "3.6224710941314697 [0, 784.0] 57509\n",
      "3.490311622619629 [0, 784.0] 57510\n",
      "3.7561585903167725 [0, 785.0] 57511\n",
      "3.697741746902466 [1, 785.0] 57512\n",
      "3.6750986576080322 [1, 785.0] 57513\n",
      "3.635493516921997 [1, 785.0] 57514\n",
      "3.4594626426696777 [1, 785.0] 57515\n",
      "6.156611919403076 [1, 787.0] 57516\n",
      "3.999922275543213 [0, 787.0] 57517\n",
      "3.6968977451324463 [0, 787.0] 57518\n",
      "3.74735951423645 [1, 787.0] 57519\n",
      "3.572822332382202 [0, 787.0] 57520\n",
      "3.459768295288086 [0, 787.0] 57521\n",
      "3.7550063133239746 [0, 786.0] 57522\n",
      "3.742732048034668 [0, 786.0] 57523\n",
      "3.7726776599884033 [1, 786.0] 57524\n",
      "3.668504476547241 [0, 786.0] 57525\n",
      "3.7093234062194824 [0, 786.0] 57526\n",
      "3.562560558319092 [0, 786.0] 57527\n",
      "3.6377735137939453 [0, 786.0] 57528\n",
      "3.5791852474212646 [0, 786.0] 57529\n",
      "3.525092363357544 [0, 786.0] 57530\n",
      "3.5559980869293213 [0, 786.0] 57531\n",
      "3.5509653091430664 [0, 786.0] 57532\n",
      "3.4544103145599365 [0, 786.0] 57533\n",
      "3.6779706478118896 [0, 452.0] 57652\n",
      "3.796538829803467 [1, 452.0] 57653\n",
      "3.7138075828552246 [0, 452.0] 57654\n",
      "3.7669975757598877 [1, 452.0] 57655\n",
      "3.6403026580810547 [0, 452.0] 57656\n",
      "3.7133307456970215 [0, 452.0] 57657\n",
      "3.534575939178467 [0, 452.0] 57658\n",
      "3.468764305114746 [0, 452.0] 57659\n",
      "3.576530933380127 [0, 452.0] 57660\n",
      "3.5511040687561035 [0, 452.0] 57661\n",
      "3.749447822570801 [1, 454.0] 57662\n",
      "3.4544103145599365 [0, 454.0] 57663\n",
      "3.532996416091919 [0, 454.0] 57664\n",
      "3.4721710681915283 [0, 454.0] 57665\n",
      "6.315399169921875 [1, 457.0] 57666\n",
      "3.7754788398742676 [1, 457.0] 57667\n",
      "3.74187970161438 [1, 457.0] 57668\n",
      "3.72756028175354 [0, 457.0] 57669\n",
      "5.247130393981934 [1, 457.0] 57670\n",
      "3.5203728675842285 [1, 457.0] 57671\n",
      "3.4721407890319824 [0, 457.0] 57672\n",
      "3.62111496925354 [0, 457.0] 57673\n",
      "3.5664474964141846 [0, 457.0] 57674\n",
      "3.6923813819885254 [0, 457.0] 57675\n",
      "3.5437865257263184 [0, 457.0] 57676\n",
      "3.6243462562561035 [0, 457.0] 57677\n",
      "3.5258703231811523 [1, 457.0] 57678\n",
      "3.458951473236084 [1, 457.0] 57679\n",
      "3.550217628479004 [1, 457.0] 57680\n",
      "3.5140326023101807 [0, 457.0] 57681\n",
      "3.4662704467773438 [0, 456.0] 57682\n",
      "3.5645008087158203 [0, 456.0] 57683\n",
      "3.4391074180603027 [0, 453.0] 57684\n",
      "3.579608917236328 [0, 453.0] 57685\n",
      "3.550218105316162 [0, 453.0] 57686\n",
      "3.438920259475708 [0, 455.0] 57687\n",
      "3.5735702514648438 [0, 455.0] 57688\n",
      "3.550218105316162 [0, 455.0] 57689\n",
      "4.150691509246826 [1, 1325.0] 57735\n",
      "3.5565857887268066 [0, 1325.0] 57736\n",
      "3.4998269081115723 [0, 1325.0] 57737\n",
      "4.104367256164551 [1, 1326.0] 57738\n",
      "3.481367588043213 [1, 1326.0] 57739\n",
      "3.553449869155884 [0, 1326.0] 57740\n",
      "3.5482633113861084 [1, 1326.0] 57741\n",
      "3.4620859622955322 [0, 1326.0] 57742\n",
      "3.585972309112549 [0, 1326.0] 57743\n",
      "3.498297691345215 [0, 1326.0] 57744\n",
      "3.81518292427063 [0, 1327.0] 57745\n",
      "3.778809070587158 [1, 1327.0] 57746\n",
      "3.458951711654663 [1, 1327.0] 57747\n",
      "3.600865364074707 [0, 1327.0] 57748\n",
      "3.4970436096191406 [0, 1327.0] 57749\n",
      "3.557778835296631 [0, 1327.0] 57750\n",
      "5.62597131729126 [1, 1468.0] 58072\n",
      "3.6906206607818604 [0, 1468.0] 58073\n",
      "5.092198848724365 [1, 1468.0] 58074\n",
      "3.555443525314331 [0, 1468.0] 58075\n",
      "3.5660431385040283 [0, 1468.0] 58076\n",
      "3.620880126953125 [0, 1468.0] 58077\n",
      "3.5179851055145264 [0, 1468.0] 58078\n",
      "3.672682046890259 [0, 1468.0] 58079\n",
      "3.5481812953948975 [0, 1468.0] 58080\n",
      "3.6935088634490967 [0, 1468.0] 58081\n",
      "3.7143633365631104 [0, 1468.0] 58082\n",
      "3.406071662902832 [1, 1468.0] 58083\n",
      "3.435906171798706 [0, 1468.0] 58084\n",
      "3.5770740509033203 [0, 1468.0] 58085\n",
      "3.617115020751953 [0, 1468.0] 58086\n",
      "3.6281919479370117 [0, 1468.0] 58087\n",
      "3.640404462814331 [0, 1468.0] 58088\n",
      "3.5761334896087646 [0, 1468.0] 58089\n",
      "3.550217628479004 [1, 1468.0] 58090\n",
      "3.535499095916748 [0, 1468.0] 58091\n",
      "3.733083963394165 [0, 1471.0] 58092\n",
      "3.5267696380615234 [1, 1471.0] 58093\n",
      "3.5551486015319824 [0, 1471.0] 58094\n",
      "3.4645423889160156 [0, 1471.0] 58095\n",
      "3.4631834030151367 [0, 1471.0] 58096\n",
      "3.628833055496216 [0, 1471.0] 58097\n",
      "3.680729627609253 [0, 1471.0] 58098\n",
      "3.5227315425872803 [0, 1471.0] 58099\n",
      "3.6332812309265137 [0, 1471.0] 58100\n",
      "3.568082332611084 [0, 1471.0] 58101\n",
      "3.646498441696167 [0, 1469.0] 58102\n",
      "3.6967339515686035 [1, 1469.0] 58103\n",
      "3.564157724380493 [1, 1469.0] 58104\n",
      "3.5381791591644287 [0, 1469.0] 58105\n",
      "5.26483154296875 [0, 1469.0] 58106\n",
      "3.5178723335266113 [0, 1469.0] 58107\n",
      "3.68574595451355 [0, 1470.0] 58108\n",
      "3.5971550941467285 [1, 1470.0] 58109\n",
      "5.276620864868164 [0, 1470.0] 58110\n",
      "3.523651599884033 [0, 1470.0] 58111\n",
      "5.501946449279785 [1, 1472.0] 58112\n",
      "5.2957587242126465 [1, 1472.0] 58113\n",
      "3.550217628479004 [1, 1472.0] 58114\n",
      "3.587395191192627 [0, 1472.0] 58115\n",
      "3.576428174972534 [0, 1472.0] 58116\n",
      "3.6993813514709473 [0, 2179.0] 58117\n",
      "3.6583025455474854 [1, 2179.0] 58118\n",
      "3.6555283069610596 [0, 2179.0] 58119\n",
      "3.5483474731445312 [0, 2179.0] 58120\n",
      "3.93510103225708 [0, 2179.0] 58121\n",
      "3.5243210792541504 [0, 2179.0] 58122\n",
      "3.452284097671509 [0, 2179.0] 58123\n",
      "3.4570095539093018 [0, 2179.0] 58124\n",
      "3.4600419998168945 [0, 2179.0] 58125\n",
      "3.7180533409118652 [0, 2181.0] 58126\n",
      "3.675610065460205 [0, 2181.0] 58127\n",
      "3.5599265098571777 [0, 2181.0] 58128\n",
      "3.93510103225708 [0, 2181.0] 58129\n",
      "3.525629758834839 [0, 2181.0] 58130\n",
      "3.4545204639434814 [0, 2181.0] 58131\n",
      "3.4570095539093018 [0, 2181.0] 58132\n",
      "3.622795581817627 [0, 2181.0] 58133\n",
      "3.460355758666992 [0, 2181.0] 58134\n",
      "5.521820545196533 [1, 2180.0] 58135\n",
      "5.394805431365967 [1, 2180.0] 58136\n",
      "3.7397875785827637 [0, 2180.0] 58137\n",
      "3.7914340496063232 [0, 2180.0] 58138\n",
      "3.7670066356658936 [0, 2180.0] 58139\n",
      "3.6250052452087402 [0, 2180.0] 58140\n",
      "3.6587321758270264 [1, 2180.0] 58141\n",
      "3.4903056621551514 [0, 2180.0] 58142\n",
      "3.5942792892456055 [0, 2180.0] 58143\n",
      "3.4544100761413574 [0, 2180.0] 58144\n",
      "3.457009792327881 [0, 2180.0] 58145\n",
      "3.5172789096832275 [0, 2180.0] 58146\n",
      "3.569105863571167 [0, 2180.0] 58147\n",
      "3.740427017211914 [0, 2180.0] 58148\n",
      "3.503978729248047 [0, 2180.0] 58149\n",
      "3.6253836154937744 [1, 2180.0] 58150\n",
      "5.639532566070557 [1, 2182.0] 58151\n",
      "5.491142749786377 [1, 2182.0] 58152\n",
      "5.061696529388428 [0, 2182.0] 58153\n",
      "5.059830188751221 [0, 2182.0] 58154\n",
      "3.8259170055389404 [0, 2182.0] 58155\n",
      "3.857235908508301 [0, 2182.0] 58156\n",
      "3.879723310470581 [0, 2182.0] 58157\n",
      "3.7889468669891357 [0, 2182.0] 58158\n",
      "3.7639472484588623 [0, 2182.0] 58159\n",
      "3.845411539077759 [0, 2182.0] 58160\n",
      "3.6766650676727295 [1, 2182.0] 58161\n",
      "3.6583149433135986 [0, 2182.0] 58162\n",
      "3.406071662902832 [0, 2182.0] 58163\n",
      "3.516359329223633 [0, 2182.0] 58164\n",
      "3.9677135944366455 [0, 435.0] 58165\n",
      "5.02920389175415 [1, 435.0] 58166\n",
      "3.574795961380005 [0, 435.0] 58167\n",
      "5.25520658493042 [0, 437.0] 58168\n",
      "3.623668670654297 [0, 437.0] 58169\n",
      "3.559311866760254 [0, 437.0] 58170\n",
      "3.540750026702881 [0, 437.0] 58171\n",
      "3.492999792098999 [0, 437.0] 58172\n",
      "3.555746555328369 [0, 437.0] 58173\n",
      "3.5893983840942383 [0, 437.0] 58174\n",
      "5.54627799987793 [1, 436.0] 58175\n",
      "3.9099347591400146 [0, 436.0] 58176\n",
      "3.814255952835083 [1, 436.0] 58177\n",
      "3.7240452766418457 [0, 436.0] 58178\n",
      "3.7432045936584473 [0, 436.0] 58179\n",
      "3.7085158824920654 [0, 436.0] 58180\n",
      "3.653928518295288 [0, 436.0] 58181\n",
      "3.406071424484253 [1, 436.0] 58182\n",
      "4.975631237030029 [0, 436.0] 58183\n",
      "3.625838041305542 [1, 436.0] 58184\n",
      "3.4673566818237305 [0, 436.0] 58185\n",
      "5.092846393585205 [0, 436.0] 58186\n",
      "3.514521598815918 [0, 436.0] 58187\n",
      "3.476398468017578 [0, 436.0] 58188\n",
      "3.8818111419677734 [0, 438.0] 58189\n",
      "3.7159688472747803 [0, 438.0] 58190\n",
      "3.6423263549804688 [0, 438.0] 58191\n",
      "3.507122755050659 [0, 438.0] 58192\n",
      "3.5234763622283936 [0, 438.0] 58193\n",
      "5.737508296966553 [1, 2165.0] 58269\n",
      "3.785402297973633 [0, 2165.0] 58270\n",
      "3.689814329147339 [0, 2165.0] 58271\n",
      "3.6294281482696533 [0, 2165.0] 58272\n",
      "3.5282909870147705 [0, 2165.0] 58273\n",
      "3.708582639694214 [0, 2165.0] 58274\n",
      "3.591996908187866 [0, 2165.0] 58275\n",
      "3.5755646228790283 [0, 2165.0] 58276\n",
      "3.503120183944702 [0, 2165.0] 58277\n",
      "3.706045150756836 [1, 2165.0] 58278\n",
      "3.458951711654663 [1, 2165.0] 58279\n",
      "5.5775556564331055 [1, 2166.0] 58280\n",
      "3.9852828979492188 [1, 2166.0] 58281\n",
      "3.65990948677063 [1, 2166.0] 58282\n",
      "3.7005856037139893 [1, 2166.0] 58283\n",
      "3.587977886199951 [0, 2166.0] 58284\n",
      "3.470036268234253 [1, 2166.0] 58285\n",
      "3.4456725120544434 [0, 2166.0] 58286\n",
      "3.6965138912200928 [1, 2166.0] 58287\n",
      "3.458951711654663 [1, 2166.0] 58288\n",
      "3.6045234203338623 [0, 2166.0] 58289\n",
      "4.155020236968994 [1, 2167.0] 58290\n",
      "3.8607242107391357 [1, 2167.0] 58291\n",
      "3.579665184020996 [0, 2167.0] 58292\n",
      "3.475045680999756 [0, 2167.0] 58293\n",
      "3.7652602195739746 [0, 5268.0] 58570\n",
      "3.744511365890503 [0, 5268.0] 58571\n",
      "3.543663263320923 [0, 5268.0] 58572\n",
      "3.503190755844116 [0, 5268.0] 58573\n",
      "3.4983291625976562 [0, 5268.0] 58574\n",
      "3.5203282833099365 [0, 5268.0] 58575\n",
      "3.542654037475586 [0, 5268.0] 58576\n",
      "3.488039493560791 [0, 5268.0] 58577\n",
      "3.5403037071228027 [0, 5268.0] 58578\n",
      "3.7061877250671387 [0, 5268.0] 58579\n",
      "3.505958318710327 [0, 5268.0] 58580\n",
      "3.6213037967681885 [0, 5268.0] 58581\n",
      "3.6531600952148438 [0, 5268.0] 58582\n",
      "5.205937385559082 [0, 5268.0] 58583\n",
      "3.550217628479004 [0, 5268.0] 58584\n",
      "3.51997709274292 [0, 5268.0] 58585\n",
      "3.467519760131836 [0, 5268.0] 58586\n",
      "3.763674259185791 [0, 5270.0] 58587\n",
      "3.7900657653808594 [0, 5270.0] 58588\n",
      "3.7617642879486084 [0, 5270.0] 58589\n",
      "5.277765274047852 [1, 5270.0] 58590\n",
      "3.718865394592285 [0, 5270.0] 58591\n",
      "3.5065650939941406 [0, 5270.0] 58592\n",
      "3.633258819580078 [0, 5270.0] 58593\n",
      "3.653209686279297 [0, 5270.0] 58594\n",
      "3.550218105316162 [1, 5270.0] 58595\n",
      "3.5192904472351074 [0, 5270.0] 58596\n",
      "3.435906171798706 [0, 5267.0] 58597\n",
      "3.5363705158233643 [0, 5267.0] 58598\n",
      "3.4793710708618164 [0, 5267.0] 58599\n",
      "3.460698366165161 [0, 5267.0] 58600\n",
      "3.483119010925293 [0, 5267.0] 58601\n",
      "3.5039546489715576 [0, 5267.0] 58602\n",
      "3.5972821712493896 [0, 5267.0] 58603\n",
      "3.5443575382232666 [0, 5267.0] 58604\n",
      "3.6756420135498047 [0, 5267.0] 58605\n",
      "3.55051851272583 [0, 5267.0] 58606\n",
      "3.835753917694092 [1, 5269.0] 58607\n",
      "3.550218105316162 [0, 5269.0] 58608\n",
      "3.4544100761413574 [0, 5269.0] 58609\n",
      "5.573986530303955 [0, 5266.0] 58610\n",
      "3.7361984252929688 [0, 5266.0] 58611\n",
      "3.6157751083374023 [0, 5266.0] 58612\n",
      "3.526174306869507 [0, 5266.0] 58613\n",
      "3.5182793140411377 [0, 5266.0] 58614\n",
      "3.4592278003692627 [0, 5266.0] 58615\n",
      "3.406071424484253 [0, 5266.0] 58616\n",
      "3.5309853553771973 [0, 5266.0] 58617\n",
      "3.5832881927490234 [0, 5266.0] 58618\n",
      "3.5298843383789062 [0, 5266.0] 58619\n",
      "3.5812299251556396 [0, 5266.0] 58620\n",
      "3.458951711654663 [0, 5266.0] 58621\n",
      "3.458951711654663 [0, 5266.0] 58622\n",
      "3.870786190032959 [0, 5271.0] 58623\n",
      "3.8406014442443848 [0, 5271.0] 58624\n",
      "3.7862353324890137 [0, 5271.0] 58625\n",
      "3.7276828289031982 [0, 5271.0] 58626\n",
      "3.656264066696167 [0, 5271.0] 58627\n",
      "3.5735442638397217 [0, 5271.0] 58628\n",
      "3.464364767074585 [0, 5271.0] 58629\n",
      "3.461515188217163 [0, 5271.0] 58630\n",
      "3.560267925262451 [0, 5271.0] 58631\n",
      "3.644094944000244 [0, 5271.0] 58632\n",
      "3.5111916065216064 [0, 5271.0] 58633\n",
      "3.4938907623291016 [0, 5271.0] 58634\n",
      "3.5999608039855957 [0, 5271.0] 58635\n",
      "3.653082847595215 [0, 5177.0] 59072\n",
      "3.537649393081665 [0, 5177.0] 59073\n",
      "3.5064496994018555 [0, 5177.0] 59074\n",
      "3.4394407272338867 [0, 5177.0] 59075\n",
      "3.576948881149292 [0, 5177.0] 59076\n",
      "3.435906171798706 [0, 5177.0] 59077\n",
      "5.023378372192383 [0, 5177.0] 59078\n",
      "3.4570095539093018 [0, 5177.0] 59079\n",
      "3.461576461791992 [0, 5177.0] 59080\n",
      "3.445446014404297 [0, 5177.0] 59081\n",
      "3.4530649185180664 [0, 5177.0] 59082\n",
      "3.4678378105163574 [0, 5177.0] 59083\n",
      "3.6624293327331543 [1, 5178.0] 59084\n",
      "5.026388645172119 [1, 5178.0] 59085\n",
      "3.458951711654663 [1, 5178.0] 59086\n",
      "4.940834045410156 [0, 5178.0] 59087\n",
      "4.259992599487305 [1, 4538.0] 59186\n",
      "3.526193380355835 [0, 4538.0] 59187\n",
      "4.100306987762451 [1, 4539.0] 59188\n",
      "3.9018542766571045 [0, 4539.0] 59189\n",
      "3.9860122203826904 [0, 4539.0] 59190\n",
      "3.884012460708618 [0, 4539.0] 59191\n",
      "3.9423558712005615 [0, 4539.0] 59192\n",
      "3.9072258472442627 [1, 4539.0] 59193\n",
      "3.835618734359741 [0, 4539.0] 59194\n",
      "3.762176990509033 [0, 4539.0] 59195\n",
      "3.81258487701416 [1, 4539.0] 59196\n",
      "3.6838042736053467 [0, 4539.0] 59197\n",
      "3.435906171798706 [0, 4539.0] 59198\n",
      "3.5344810485839844 [0, 4539.0] 59199\n",
      "3.545836925506592 [0, 4539.0] 59200\n",
      "3.5377871990203857 [0, 4539.0] 59201\n",
      "3.500369071960449 [0, 4539.0] 59202\n",
      "3.600324869155884 [0, 4539.0] 59203\n",
      "4.1821699142456055 [1, 4274.0] 59250\n",
      "3.9130280017852783 [0, 4274.0] 59251\n",
      "3.4961283206939697 [0, 4274.0] 59252\n",
      "4.211799621582031 [1, 4276.0] 59253\n",
      "3.6815693378448486 [0, 4276.0] 59254\n",
      "3.5406458377838135 [0, 4276.0] 59255\n",
      "4.954478740692139 [0, 4276.0] 59256\n",
      "4.161590099334717 [1, 4275.0] 59257\n",
      "3.664135456085205 [0, 4275.0] 59258\n",
      "3.9606499671936035 [1, 5438.0] 59521\n",
      "3.5486268997192383 [0, 5438.0] 59522\n",
      "3.6095430850982666 [0, 5438.0] 59523\n",
      "3.6125710010528564 [0, 5438.0] 59524\n",
      "5.204391002655029 [0, 5438.0] 59525\n",
      "3.8691725730895996 [1, 5442.0] 59526\n",
      "3.8651669025421143 [1, 5442.0] 59527\n",
      "3.6147427558898926 [1, 5442.0] 59528\n",
      "3.5301499366760254 [1, 5442.0] 59529\n",
      "3.459768295288086 [1, 5442.0] 59530\n",
      "3.486631155014038 [1, 5442.0] 59531\n",
      "3.5406057834625244 [1, 5442.0] 59532\n",
      "3.7053239345550537 [0, 5442.0] 59533\n",
      "3.4442460536956787 [0, 5442.0] 59534\n",
      "3.5885860919952393 [0, 5442.0] 59535\n",
      "5.087000846862793 [0, 5442.0] 59536\n",
      "3.60487699508667 [0, 5442.0] 59537\n",
      "3.602598190307617 [0, 5442.0] 59538\n",
      "3.521707534790039 [1, 5442.0] 59539\n",
      "3.625979423522949 [0, 5444.0] 59540\n",
      "3.5585741996765137 [1, 5444.0] 59541\n",
      "3.5354316234588623 [1, 5444.0] 59542\n",
      "3.451488494873047 [0, 5444.0] 59543\n",
      "3.4402408599853516 [0, 5444.0] 59544\n",
      "3.457853317260742 [0, 5444.0] 59545\n",
      "3.5530567169189453 [0, 5444.0] 59546\n",
      "3.5343403816223145 [0, 5444.0] 59547\n",
      "3.6557934284210205 [0, 5439.0] 59548\n",
      "3.452726364135742 [0, 5439.0] 59549\n",
      "3.4975147247314453 [0, 5439.0] 59550\n",
      "3.912022829055786 [1, 5443.0] 59551\n",
      "3.9104485511779785 [1, 5443.0] 59552\n",
      "3.5198495388031006 [1, 5443.0] 59553\n",
      "3.459768295288086 [1, 5443.0] 59554\n",
      "3.486631155014038 [1, 5443.0] 59555\n",
      "3.5085577964782715 [1, 5443.0] 59556\n",
      "3.6728291511535645 [0, 5443.0] 59557\n",
      "3.604250192642212 [1, 5443.0] 59558\n",
      "3.513855457305908 [0, 5443.0] 59559\n",
      "3.6001086235046387 [0, 5443.0] 59560\n",
      "3.5369389057159424 [0, 5443.0] 59561\n",
      "4.265379905700684 [1, 5441.0] 59562\n",
      "6.185168743133545 [1, 5440.0] 59563\n",
      "4.216516017913818 [1, 5440.0] 59564\n",
      "3.5161449909210205 [0, 5440.0] 59565\n",
      "3.5880181789398193 [0, 5440.0] 59566\n",
      "3.791792869567871 [0, 4033.0] 59888\n",
      "3.63883113861084 [0, 4033.0] 59889\n",
      "3.677020311355591 [1, 4033.0] 59890\n",
      "3.5878732204437256 [0, 4033.0] 59891\n",
      "3.4961085319519043 [0, 4033.0] 59892\n",
      "3.450286865234375 [0, 4033.0] 59893\n",
      "3.5829951763153076 [0, 4033.0] 59894\n",
      "3.406071662902832 [1, 4033.0] 59895\n",
      "3.616441011428833 [0, 4033.0] 59896\n",
      "3.607553243637085 [1, 4033.0] 59897\n",
      "5.166581153869629 [0, 4033.0] 59898\n",
      "3.504538059234619 [0, 4033.0] 59899\n",
      "3.4740350246429443 [0, 4033.0] 59900\n",
      "3.5144832134246826 [0, 4033.0] 59901\n",
      "3.5452890396118164 [0, 4033.0] 59902\n",
      "3.492007255554199 [0, 4033.0] 59903\n",
      "3.5346946716308594 [0, 4033.0] 59904\n",
      "3.7943553924560547 [1, 4034.0] 59905\n",
      "3.507767915725708 [1, 4034.0] 59906\n",
      "3.5253562927246094 [0, 4034.0] 59907\n",
      "3.5231411457061768 [0, 4034.0] 59908\n",
      "3.59267520904541 [0, 4034.0] 59909\n",
      "3.684898614883423 [0, 3979.0] 59964\n",
      "3.7664239406585693 [1, 3979.0] 59965\n",
      "3.6784725189208984 [0, 3979.0] 59966\n",
      "3.705447196960449 [1, 3979.0] 59967\n",
      "3.6116909980773926 [0, 3979.0] 59968\n",
      "3.561871290206909 [0, 3979.0] 59969\n",
      "3.5970871448516846 [0, 3979.0] 59970\n",
      "3.5109267234802246 [0, 3979.0] 59971\n",
      "3.7520813941955566 [0, 3979.0] 59972\n",
      "3.492852210998535 [0, 3979.0] 59973\n",
      "3.676795482635498 [0, 3979.0] 59974\n",
      "3.6144466400146484 [0, 3979.0] 59975\n",
      "3.567866325378418 [0, 3979.0] 59976\n",
      "3.6078810691833496 [1, 3979.0] 59977\n",
      "3.458951711654663 [1, 3979.0] 59978\n",
      "3.761397123336792 [0, 3981.0] 59979\n",
      "3.7019989490509033 [0, 3981.0] 59980\n",
      "3.7814669609069824 [1, 3981.0] 59981\n",
      "3.7186431884765625 [1, 3981.0] 59982\n",
      "3.623589277267456 [0, 3981.0] 59983\n",
      "3.605759382247925 [0, 3981.0] 59984\n",
      "3.51501202583313 [0, 3981.0] 59985\n",
      "3.4949324131011963 [0, 3981.0] 59986\n",
      "3.685678243637085 [0, 3981.0] 59987\n",
      "3.6234989166259766 [0, 3981.0] 59988\n",
      "3.568793296813965 [0, 3981.0] 59989\n",
      "3.6146225929260254 [1, 3981.0] 59990\n",
      "3.458951711654663 [1, 3981.0] 59991\n",
      "3.6398210525512695 [0, 3980.0] 59992\n",
      "3.550218105316162 [1, 3980.0] 59993\n",
      "3.4106502532958984 [0, 3980.0] 59994\n",
      "3.839378833770752 [0, 3977.0] 59995\n",
      "3.789593458175659 [0, 3977.0] 59996\n",
      "3.842029094696045 [1, 3977.0] 59997\n",
      "3.7297756671905518 [0, 3977.0] 59998\n",
      "3.700159788131714 [0, 3977.0] 59999\n",
      "3.7707011699676514 [1, 3977.0] 60000\n",
      "3.7102911472320557 [0, 3977.0] 60001\n",
      "3.738978862762451 [1, 3977.0] 60002\n",
      "3.74280047416687 [0, 3977.0] 60003\n",
      "3.6159918308258057 [0, 3977.0] 60004\n",
      "3.660024881362915 [0, 3977.0] 60005\n",
      "5.195829391479492 [1, 3977.0] 60006\n",
      "3.550217628479004 [1, 3977.0] 60007\n",
      "3.406071662902832 [0, 3977.0] 60008\n",
      "3.54335880279541 [0, 3977.0] 60009\n",
      "3.5031158924102783 [0, 3977.0] 60010\n",
      "3.469520092010498 [0, 3977.0] 60011\n",
      "4.838710308074951 [0, 3977.0] 60012\n",
      "3.550217628479004 [1, 3977.0] 60013\n",
      "3.4642632007598877 [0, 3977.0] 60014\n",
      "3.843383550643921 [0, 3982.0] 60015\n",
      "3.661735773086548 [0, 3982.0] 60016\n",
      "3.617776870727539 [0, 3982.0] 60017\n",
      "8.093936920166016 [0, 3982.0] 60018\n",
      "6.136620998382568 [1, 3982.0] 60019\n",
      "3.56300950050354 [0, 3982.0] 60020\n",
      "3.4536664485931396 [0, 3982.0] 60021\n",
      "3.5926499366760254 [0, 3982.0] 60022\n",
      "3.5501928329467773 [0, 3982.0] 60023\n",
      "3.674220561981201 [0, 3982.0] 60024\n",
      "5.641068935394287 [1, 3978.0] 60025\n",
      "3.5746729373931885 [0, 3978.0] 60026\n",
      "3.435906171798706 [0, 3978.0] 60027\n",
      "3.6250813007354736 [0, 3978.0] 60028\n",
      "3.542891502380371 [0, 3978.0] 60029\n",
      "3.665761709213257 [0, 3978.0] 60030\n",
      "5.340519428253174 [1, 2926.0] 60091\n",
      "4.034420013427734 [1, 2926.0] 60092\n",
      "3.9913270473480225 [1, 2926.0] 60093\n",
      "3.861262321472168 [0, 2926.0] 60094\n",
      "3.860337972640991 [0, 2926.0] 60095\n",
      "3.751161813735962 [0, 2926.0] 60096\n",
      "3.8509459495544434 [0, 2926.0] 60097\n",
      "3.730919122695923 [0, 2926.0] 60098\n",
      "3.510469436645508 [0, 2926.0] 60099\n",
      "3.7086541652679443 [0, 2926.0] 60100\n",
      "3.406071424484253 [0, 2926.0] 60101\n",
      "3.5676827430725098 [0, 2926.0] 60102\n",
      "3.5360145568847656 [0, 2926.0] 60103\n",
      "3.550218105316162 [1, 2926.0] 60104\n",
      "3.59157395362854 [0, 2926.0] 60105\n",
      "3.9032888412475586 [1, 5691.0] 60524\n",
      "3.911083459854126 [1, 5691.0] 60525\n",
      "3.6824638843536377 [0, 5691.0] 60526\n",
      "3.8103444576263428 [1, 5691.0] 60527\n",
      "3.67587947845459 [1, 5691.0] 60528\n",
      "5.057653427124023 [0, 5691.0] 60529\n",
      "3.5295000076293945 [0, 5691.0] 60530\n"
     ]
    }
   ],
   "source": [
    "LR_res = model.predict(tes)\n",
    "for i in range(0, len(LR_res)):\n",
    "    print(LR_res[i], testing_set[i][0:2], dp_test[i])"
   ]
  },
  {
   "cell_type": "markdown",
   "metadata": {
    "pycharm": {
     "name": "#%% md\n"
    }
   },
   "source": [
    "### LambdaMART"
   ]
  },
  {
   "cell_type": "code",
   "execution_count": 45,
   "metadata": {},
   "outputs": [],
   "source": [
    "number_of_trees = 20\n",
    "lr = 0.01"
   ]
  },
  {
   "cell_type": "code",
   "execution_count": 46,
   "metadata": {
    "collapsed": true,
    "jupyter": {
     "outputs_hidden": true
    }
   },
   "outputs": [
    {
     "name": "stdout",
     "output_type": "stream",
     "text": [
      "Tree 0\n",
      "Epoch:0, Average NDCG : 0.9997015503505989\n",
      "Tree 1\n",
      "Epoch:1, Average NDCG : 0.9997015503505989\n",
      "Tree 2\n",
      "Epoch:2, Average NDCG : 0.9997015503505989\n",
      "Tree 3\n",
      "Epoch:3, Average NDCG : 0.9997015503505989\n",
      "Tree 4\n",
      "Epoch:4, Average NDCG : 0.9997015503505989\n",
      "Tree 5\n",
      "Epoch:5, Average NDCG : 0.9997015503505989\n",
      "Tree 6\n",
      "Epoch:6, Average NDCG : 0.9997567829762541\n",
      "Tree 7\n",
      "Epoch:7, Average NDCG : 0.9997567829762541\n",
      "Tree 8\n",
      "Epoch:8, Average NDCG : 0.9997567829762541\n",
      "Tree 9\n",
      "Epoch:9, Average NDCG : 0.9997567829762541\n",
      "Tree 10\n",
      "Epoch:10, Average NDCG : 0.9997567829762541\n",
      "Tree 11\n",
      "Epoch:11, Average NDCG : 0.9997567829762541\n",
      "Tree 12\n",
      "Epoch:12, Average NDCG : 0.9997567829762541\n",
      "Tree 13\n",
      "Epoch:13, Average NDCG : 0.9997567829762541\n",
      "Tree 14\n",
      "Epoch:14, Average NDCG : 0.9997567829762541\n",
      "Tree 15\n",
      "Epoch:15, Average NDCG : 0.9997567829762541\n",
      "Tree 16\n",
      "Epoch:16, Average NDCG : 0.9997567829762541\n",
      "Tree 17\n",
      "Epoch:17, Average NDCG : 0.9997567829762541\n",
      "Tree 18\n",
      "Epoch:18, Average NDCG : 0.9997567829762541\n",
      "Tree 19\n",
      "Epoch:19, Average NDCG : 0.9997567829762541\n"
     ]
    }
   ],
   "source": [
    "model = LM.LambdaMART(trs, number_of_trees, lr)\n",
    "model.fit()"
   ]
  },
  {
   "cell_type": "code",
   "execution_count": 49,
   "metadata": {},
   "outputs": [
    {
     "name": "stdout",
     "output_type": "stream",
     "text": [
      "[nan, 0.5585075862632192, 0.19519002499605084, 0.4144299250118475, 0.7653606369886217, 0.8318724637288826, 0.7039180890341347, 0.46927872602275644, 0.0, 0.0, nan, 0.6131471927654584, 0.6366824387328317, 0.8318724637288826, 0.6131471927654584, 0.7039180890341347, nan, 0.8048099750039491, nan, 1.0, 1.0, 0.9197207891481876, nan, 1.0, nan, nan, 1.0, nan, 1.0, 0.75369761125927, 0.5855700749881525, 0.8772153153380493, 0.6309297535714575, 0.5307212739772434, 0.0, nan, 1.0, nan, 1.0, 0.0, 0.6309297535714575, nan, 1.0, 1.0, 0.6309297535714575, nan, 0.43067655807339306, nan, nan, 0.5, nan, nan, nan, 1.0, 1.0, 1.0, 1.0, 0.7328286204777911, nan, nan, 0.6096199500078984, 1.0, 1.0, 1.0, nan, 0.38685280723454163, 0.8772153153380493, 0.6366824387328317, 1.0, 1.0, 0.8318724637288826, 0.8048099750039491, 0.46927872602275644, 1.0, 0.5307212739772434, nan, nan, 0.6131471927654584, nan, 0.5706417189553201, 0.7039180890341347, 0.6309297535714575, 1.0, 1.0, 0.7653606369886217, 1.0, nan, 1.0, 0.6934264036172708, 0.5, 0.8318724637288826, 0.5307212739772434, 0.36331756126716835, 0.6934264036172708, nan, 1.0, 0.5706417189553201, 0.4144299250118475, nan, 0.8048099750039491, 1.0, 0.6934264036172708, 0.38685280723454163, nan, 1.0, 1.0, 1.0, 0.43067655807339306, 0.5, 0.5585075862632192, 0.43067655807339306, nan, 0.0, nan, nan, nan, nan, nan, 0.5855700749881525, 0.7039180890341347, 0.5855700749881525, 0.0, 0.5, 0.0, 0.6096199500078984, 0.75369761125927, 0.8048099750039491, 0.7653606369886217, nan, 1.0, 0.8318724637288826, 0.6366824387328317, 0.2960819109658652, 0.8318724637288826, 0.6309297535714575, 1.0, 1.0, 0.8318724637288826, 1.0, 0.9197207891481876, 0.24630238874073, 1.0, 1.0, 0.8318724637288826, 1.0, nan, nan, 1.0, 0.19519002499605084, 1.0, 0.6131471927654584, 0.43067655807339306, 0.6934264036172708, 0.43067655807339306, 0.75369761125927, nan, nan, nan, 1.0, 1.0, 0.6509209298071326, 0.5855700749881525, 0.0, 0.38685280723454163, 0.5, 0.7653606369886217, 1.0, nan, 0.5855700749881525, 0.23463936301137822, 1.0, nan, 0.3903800499921017, nan, 0.46927872602275644, 1.0, 1.0, nan, 0.3065735963827292, nan, 0.6309297535714575, nan, nan, nan, 1.0, 1.0, 0.23463936301137822, 0.6309297535714575, 1.0, 1.0, 0.6309297535714575, 0.75369761125927, 0.0, nan, 0.3903800499921017, 1.0, 0.8772153153380493, 0.0, 0.6131471927654584, 0.75369761125927, 1.0, 1.0, 0.44149241373678083, 0.5, 1.0, 0.8048099750039491, 0.8318724637288826]\n"
     ]
    }
   ],
   "source": [
    "k = 4\n",
    "ndcg = model.validate(tes, k)\n",
    "print(ndcg)"
   ]
  },
  {
   "cell_type": "code",
   "execution_count": 56,
   "metadata": {
    "pycharm": {
     "name": "#%%\n"
    }
   },
   "outputs": [],
   "source": [
    "LM_res = model.predict(tes)"
   ]
  },
  {
   "cell_type": "markdown",
   "metadata": {
    "pycharm": {
     "name": "#%% md\n"
    }
   },
   "source": [
    "## Predict Evaluation\n",
    "---\n",
    "- 前三位标注是1的比率"
   ]
  },
  {
   "cell_type": "code",
   "execution_count": 48,
   "metadata": {},
   "outputs": [],
   "source": [
    "def get_entity(dpaqn_id):\n",
    "    cur = db.cursor()\n",
    "    sql='SELECT entity_name FROM dde_paper_abstract_QA_ner WHERE dpaqn_id = ' + str(dpaqn_id)\n",
    "    cur.execute(sql)\n",
    "    result = cur.fetchall()[0]\n",
    "    return result[0]"
   ]
  },
  {
   "cell_type": "code",
   "execution_count": 49,
   "metadata": {},
   "outputs": [],
   "source": [
    "def top3inlist(l):\n",
    "    try:\n",
    "        _, top3_index =  torch.topk(torch.Tensor(l), 3)\n",
    "        return top3_index.numpy().tolist()\n",
    "    except:\n",
    "        if len(l) == 1:\n",
    "            return [0]\n",
    "        else:\n",
    "            return [0,1]"
   ]
  },
  {
   "cell_type": "code",
   "execution_count": 50,
   "metadata": {},
   "outputs": [],
   "source": [
    "def eval_res(model_result, testing_set, dp_test):\n",
    "    # print(dp_test[0])\n",
    "    pe_re = {}\n",
    "    pe_id = {}\n",
    "    for i in range(0, len(model_result)):\n",
    "        if testing_set[i][1] not in pe_re.keys():\n",
    "            pe_re[testing_set[i][1]] = []\n",
    "            pe_id[testing_set[i][1]] = []\n",
    "            pe_re[testing_set[i][1]].append(model_result[i])\n",
    "            pe_id[testing_set[i][1]].append((testing_set[i][0], dp_test[i]))\n",
    "        else:\n",
    "            pe_re[testing_set[i][1]].append(model_result[i])\n",
    "            pe_id[testing_set[i][1]].append((testing_set[i][0], dp_test[i]))\n",
    "            \n",
    "    the_final_result_pre_positive = {}\n",
    "    the_final_result_pre_negative = {}\n",
    "    for queryid in pe_re.keys():\n",
    "        tmp = top3inlist(pe_re[queryid])\n",
    "        the_final_result_pre_positive[queryid] = []\n",
    "        the_final_result_pre_negative[queryid] = []\n",
    "        for i in range(0, len(pe_id[queryid])):\n",
    "            if i in tmp:\n",
    "                the_final_result_pre_positive[queryid].append(pe_id[queryid][i])\n",
    "            else:\n",
    "                the_final_result_pre_negative[queryid].append(pe_id[queryid][i])\n",
    "                \n",
    "    return the_final_result_pre_positive, the_final_result_pre_negative"
   ]
  },
  {
   "cell_type": "markdown",
   "metadata": {},
   "source": [
    "- 实际：标注数据，预测：predict之后的top3\n",
    "    - TP(True Positive) 真阳性：预测为正，实际也为正\n",
    "    - FP(False Positive) 假阳性：预测为正，实际为负\n",
    "    - FN(False Negative) 假阴性：预测为负、实际为正\n",
    "    - TN(True Negative) 真阴性：预测为负、实际也为负\n",
    "    - P(Precision) 精确率 P = TP/(TP+FP)\n",
    "    - R(Recall) 召回率 R = TP/(TP+FN)\n",
    "    - F(f1-score) F-值 F = 2PR/(P+R)"
   ]
  },
  {
   "cell_type": "code",
   "execution_count": 51,
   "metadata": {},
   "outputs": [],
   "source": [
    "def factor(the_final_result_pre_positive, the_final_result_pre_negative):\n",
    "    ftp = 0\n",
    "    ffp = 0\n",
    "    ffn = 0\n",
    "    ftn = 0\n",
    "    for k1 in the_final_result_pre_positive.keys():\n",
    "        tmp = the_final_result_pre_positive[k1]\n",
    "        # print(tmp)\n",
    "        for r in tmp:\n",
    "            if r[0]==1:\n",
    "                ftp+=1\n",
    "            else:\n",
    "                ffp+=1\n",
    "    for k2 in the_final_result_pre_negative.keys():\n",
    "        tmp = the_final_result_pre_negative[k2]\n",
    "        for r in tmp:\n",
    "            if r[0]==1:\n",
    "                ffn+=1\n",
    "            else:\n",
    "                ftn+=1\n",
    "    precision = ftp/(ftp+ffp)\n",
    "    recall = ftp/(ftp+ffn)\n",
    "    f1_score = 2*precision*recall/(precision+recall)\n",
    "    return precision, recall, f1_score"
   ]
  },
  {
   "cell_type": "code",
   "execution_count": 37,
   "metadata": {},
   "outputs": [
    {
     "ename": "NameError",
     "evalue": "name 'prepos' is not defined",
     "output_type": "error",
     "traceback": [
      "\u001B[0;31m---------------------------------------------------------------------------\u001B[0m",
      "\u001B[0;31mNameError\u001B[0m                                 Traceback (most recent call last)",
      "\u001B[0;32m<ipython-input-37-8f1a7ae949fc>\u001B[0m in \u001B[0;36m<module>\u001B[0;34m\u001B[0m\n\u001B[0;32m----> 1\u001B[0;31m \u001B[0mP\u001B[0m\u001B[0;34m,\u001B[0m \u001B[0mR\u001B[0m\u001B[0;34m,\u001B[0m \u001B[0mF1\u001B[0m \u001B[0;34m=\u001B[0m \u001B[0mfactor\u001B[0m\u001B[0;34m(\u001B[0m\u001B[0mprepos\u001B[0m\u001B[0;34m,\u001B[0m \u001B[0mpreneg\u001B[0m\u001B[0;34m)\u001B[0m\u001B[0;34m\u001B[0m\u001B[0;34m\u001B[0m\u001B[0m\n\u001B[0m\u001B[1;32m      2\u001B[0m \u001B[0mP\u001B[0m\u001B[0;34m,\u001B[0m \u001B[0mR\u001B[0m\u001B[0;34m,\u001B[0m \u001B[0mF1\u001B[0m\u001B[0;34m\u001B[0m\u001B[0;34m\u001B[0m\u001B[0m\n",
      "\u001B[0;31mNameError\u001B[0m: name 'prepos' is not defined"
     ]
    }
   ],
   "source": [
    "P, R, F1 = factor(prepos, preneg)\n",
    "P, R, F1"
   ]
  },
  {
   "cell_type": "code",
   "execution_count": 38,
   "metadata": {},
   "outputs": [
    {
     "ename": "NameError",
     "evalue": "name 'prepos' is not defined",
     "output_type": "error",
     "traceback": [
      "\u001B[0;31m---------------------------------------------------------------------------\u001B[0m",
      "\u001B[0;31mNameError\u001B[0m                                 Traceback (most recent call last)",
      "\u001B[0;32m<ipython-input-38-de2a3e41592d>\u001B[0m in \u001B[0;36m<module>\u001B[0;34m\u001B[0m\n\u001B[0;32m----> 1\u001B[0;31m \u001B[0mprepos\u001B[0m\u001B[0;34m[\u001B[0m\u001B[0;36m4700\u001B[0m\u001B[0;34m]\u001B[0m\u001B[0;34m\u001B[0m\u001B[0;34m\u001B[0m\u001B[0m\n\u001B[0m",
      "\u001B[0;31mNameError\u001B[0m: name 'prepos' is not defined"
     ]
    }
   ],
   "source": [
    "prepos[4700]"
   ]
  },
  {
   "cell_type": "markdown",
   "metadata": {},
   "source": [
    "## Case Study"
   ]
  },
  {
   "cell_type": "code",
   "execution_count": 49,
   "metadata": {
    "collapsed": true,
    "jupyter": {
     "outputs_hidden": true
    }
   },
   "outputs": [
    {
     "name": "stdout",
     "output_type": "stream",
     "text": [
      "384073323@problem Complication 0\n",
      "384073323@problem Compositions 0\n",
      "384073323@problem Carbonized 0\n",
      "384073323@method Organic matter 1\n",
      "384073323@method Carbonization 1\n",
      "384073323@method Carbonate rock 1\n",
      "384073323@method_dif Organic matter 1\n",
      "384073323@method_dif Carbonate rock 1\n",
      "384073323@method_dif Characteristic 0\n",
      "384073323@result Organic matter 1\n",
      "384073323@result Carbonization 1\n",
      "384073323@result Carbonate rock 1\n",
      "361238769@aim Paragenesis 1\n",
      "361238769@aim Metalized 0\n",
      "361238769@aim Metalation 0\n",
      "361238769@methor_base Sphalerite 1\n",
      "361238769@methor_base Compositing 0\n",
      "361238769@methor_base Compositions 0\n",
      "361238769@method_dif Concentrator 0\n",
      "361238769@method_dif Concentric 0\n",
      "361238769@method_dif RockNess 0\n",
      "361238769@result_outperform Trace element 1\n",
      "361238769@result_outperform Incorporeality 0\n",
      "361238769@result_outperform Conditioning 0\n",
      "361238769@experiment Thermodynamics 1\n",
      "361238769@experiment Integrator 0\n",
      "361238769@experiment Resultative 0\n",
      "361238769@model_base Sediment 1\n",
      "361238769@model_base Sedimentation 0\n",
      "361238769@model_base Deformity 0\n",
      "361238769@model Genetics 0\n",
      "361238769@model Comprehension 0\n",
      "361238769@model Modelling 0\n",
      "498527721@aim Geomorphology 0\n",
      "498527721@aim Frequentative 0\n",
      "498527721@aim Higher Elevation 1\n",
      "498527721@problem Marina Terrace 1\n",
      "498527721@problem Marine terrace 1\n",
      "498527721@problem Geomorphology 0\n",
      "498527721@method Geographic information system 1\n",
      "498527721@method Information system 1\n",
      "498527721@method Spatial distribution 1\n",
      "498527721@result_outperform Observability 0\n",
      "498527721@result_outperform The Extremes 0\n",
      "498527721@result_outperform Observable 0\n",
      "498527721@result Suwannee River 1\n",
      "498527721@result Spatial distribution 1\n",
      "498527721@result Spatialization 0\n",
      "245960401@aim Origination 0\n",
      "245960401@aim Originalism 0\n",
      "245960401@aim Originality 0\n",
      "245960401@problem Carbonization 0\n",
      "245960401@problem Carbonation 0\n",
      "245960401@problem Authorization 0\n",
      "245960401@method Origination 0\n",
      "245960401@method Originalism 0\n",
      "245960401@method Originality 0\n",
      "245960401@experiment Oxide 1\n",
      "245960401@experiment Belting 0\n",
      "245960401@result Oxide 1\n",
      "71423594@aim Morgan Creek 1\n",
      "71423594@aim Abstraction 0\n",
      "71423594@aim Creek 1\n",
      "71423594@method Sedimentology 0\n",
      "71423594@methor_base Morgan Creek 1\n",
      "71423594@methor_base Creek 1\n",
      "388166932@one_sentence_summary Stoer 0\n",
      "388166932@the_method_is_based_on Stoer 0\n",
      "62509103@aim Transgressive 0\n",
      "62509103@aim Coal 1\n",
      "62509103@methor_base The Recognitions 0\n",
      "62509103@methor_base Sequence 0\n",
      "62509103@result Accommodation 0\n",
      "62509103@result Creationism 0\n",
      "62509103@result Marination 0\n",
      "398749025@aim Carbonate rock 1\n",
      "398749025@aim Sedimentation 1\n",
      "398749025@aim Carbonization 0\n",
      "398749025@problem Carbonate rock 1\n",
      "398749025@problem Sedimentation 1\n",
      "398749025@problem Carbonization 0\n",
      "398749025@method Calcimicrobe 1\n",
      "398749025@method Fabrication 0\n",
      "398749025@method The Imports 0\n",
      "398749025@methor_base Calcimicrobe 1\n",
      "398749025@methor_base Fabrication 0\n",
      "398749025@methor_base Fabrice 0\n",
      "398749025@result_outperform Calcimicrobe 1\n",
      "398749025@result_outperform Accountability 0\n",
      "398749025@result_outperform Carbonization 0\n",
      "398749025@experiment Thin section 1\n",
      "398749025@experiment Sectionalism 0\n",
      "398749025@experiment The Glen 0\n",
      "207477511@aim Abstraction 0\n",
      "207477511@problem Cambisol 1\n",
      "207477511@problem Cretaceous 1\n",
      "207477511@problem Profiled 0\n",
      "207477511@result Determinism 0\n",
      "207477511@result Determinative 0\n",
      "207477511@result Colorfulness 0\n",
      "223748189@aim Abstraction 0\n",
      "223748189@aim Russia 1\n",
      "223748189@aim Presentism 0\n",
      "223748189@problem Singularity 0\n",
      "223748189@problem Subdivision 0\n",
      "223748189@problem Possibilities 0\n",
      "223748189@method Oil field 1\n",
      "223748189@method WERE 0\n",
      "223748189@methor_base Correlative 0\n",
      "223748189@methor_base Correlation 0\n",
      "223748189@experiment Devonian 1\n",
      "223748189@experiment Formate 0\n",
      "223748189@result Spatial variability 1\n",
      "223748189@result Spatialization 0\n",
      "223748189@result Conditioning 0\n",
      "150863227@one_sentence_summary Informating 0\n",
      "150863227@one_sentence_summary Principlism 0\n",
      "150863227@one_sentence_summary Differently 0\n",
      "150863227@problem Carbonization 0\n",
      "150863227@problem Carbonation 0\n",
      "150863227@problem Abstraction 0\n",
      "150863227@method Carbonization 0\n",
      "150863227@method Carbonized 0\n",
      "150863227@method Carbonation 0\n",
      "150863227@the_method_is_based_on Modelling 0\n",
      "150863227@the_method_is_based_on MODELLER 0\n",
      "150863227@the_deferences_comparing_to_previous_methods Micrite 0\n",
      "150863227@the_deferences_comparing_to_previous_methods Values 0\n",
      "150863227@the_deferences_comparing_to_previous_methods R 0\n",
      "150863227@performance_improvements Carbonate rock 1\n",
      "150863227@performance_improvements Characteristic 0\n",
      "150863227@performance_improvements Carbonation 0\n",
      "150863227@experiment Scanning electron microscope 0\n",
      "150863227@experiment Electron microscope 0\n",
      "150863227@experiment Distributivity 0\n",
      "150863227@results Possessive 0\n",
      "150863227@results Comparability 0\n",
      "150863227@results Comparator 0\n",
      "317223799@aim Majorization 0\n",
      "317223799@aim The Majority 0\n",
      "317223799@aim Processivity 0\n",
      "317223799@problem Carbonization 0\n",
      "317223799@problem Carbonation 0\n",
      "317223799@problem Carbonized 0\n",
      "317223799@methor_base Carbonate rock 1\n",
      "317223799@methor_base Precipitation 1\n",
      "317223799@methor_base Carbonization 0\n",
      "317223799@method_dif Three Rock 0\n",
      "317223799@method_dif Fractured 0\n",
      "317223799@method_dif The Other 0\n",
      "317223799@result_outperform Carbonization 0\n",
      "317223799@result_outperform Decomposition 1\n",
      "317223799@result_outperform Processivity 0\n",
      "57362157@one_sentence_summary Aeolians 1\n",
      "57362157@one_sentence_summary The Imports 0\n",
      "57362157@one_sentence_summary The Format 0\n",
      "57362157@problem Requirement 0\n",
      "57362157@problem Calcium 0\n",
      "57362157@problem The Format 0\n",
      "57362157@experiment Values 0\n",
      "57362157@experiment Calculated 0\n",
      "57362157@results Carbon dust 0\n",
      "57362157@results Carbonization 0\n",
      "57362157@results Carbonation 0\n",
      "220660890@one_sentence_summary Experiment 0\n",
      "220660890@one_sentence_summary Transporter 0\n",
      "220660890@one_sentence_summary Comparability 0\n",
      "220660890@method Flume 1\n",
      "220660890@method Experiment 0\n",
      "220660890@experiment Flume 1\n",
      "220660890@experiment Experiment 0\n",
      "220660890@experiment We Ran 0\n",
      "220660890@results Conditioning 0\n",
      "220660890@results Interpretability 0\n",
      "220660890@results Interpretant 0\n",
      "22121761@aim Abstraction 0\n",
      "22121761@aim Abstract Theory 0\n",
      "22121761@aim The Northerners 1\n",
      "22121761@problem Stable isotope ratio 1\n",
      "22121761@problem The Interpreters 0\n",
      "22121761@problem The Interpreter 0\n",
      "22121761@experiment Isotope 1\n",
      "22121761@experiment The Matrix 1\n",
      "22121761@experiment RockNess 0\n",
      "22121761@result Carbonate platform 1\n",
      "22121761@result Water Circle 1\n",
      "22121761@result Circulator 0\n",
      "333980426@aim Carbonate platform 1\n",
      "333980426@aim Carbonization 0\n",
      "333980426@aim The Middles 0\n",
      "333980426@method_dif Carbonization 0\n",
      "333980426@method_dif Paleomagnetism 1\n",
      "333980426@method_dif Informating 0\n",
      "333980426@result_outperform Carbonate rock 1\n",
      "333980426@result_outperform Magnetization 1\n",
      "333980426@result_outperform Carbonization 0\n",
      "333980426@experiment Stratigraphy 1\n",
      "333980426@experiment Dolomitization 0\n",
      "333980426@experiment Distributivity 0\n",
      "333980426@result Sea level 0\n",
      "333980426@result Levelator 0\n",
      "333980426@result Levelling 0\n",
      "333980426@dataset Carbonate platform 1\n",
      "333980426@dataset Carbonization 0\n",
      "333980426@dataset The Middles 0\n",
      "110073089@one_sentence_summary Computability 0\n",
      "110073089@one_sentence_summary Predictability 0\n",
      "110073089@one_sentence_summary Computation 0\n",
      "110073089@problem Interpretability 0\n",
      "110073089@problem Observability 0\n",
      "110073089@problem Interpretant 0\n",
      "110073089@performance_improvements Predictive power 1\n",
      "110073089@performance_improvements Predictability 0\n",
      "110073089@performance_improvements Data consistency 1\n",
      "110073089@experiment Data 0\n",
      "110073089@experiment Tested 0\n",
      "110073089@results Predictive power 1\n",
      "110073089@results Predictability 0\n",
      "110073089@results Data consistency 1\n",
      "110073089@the_deferences_comparing_to_previous_models Carbonization 0\n",
      "110073089@the_deferences_comparing_to_previous_models Naturalization 0\n",
      "110073089@the_deferences_comparing_to_previous_models Carbonate rock 1\n",
      "110073089@the_model_is_based_on Criticism 0\n",
      "110073089@the_model_is_based_on Criticality 0\n",
      "110073089@the_model_is_based_on Modelling 0\n",
      "110073089@model Physical model 1\n",
      "110073089@model Modelling 0\n",
      "110073089@model MODELLER 0\n",
      "161014584@aim Water 1\n",
      "161014584@aim Water 1\n",
      "161014584@problem Mobilization 0\n",
      "161014584@problem Carbonization 0\n",
      "161014584@problem Carbonation 0\n",
      "161014584@method Water 1\n",
      "161014584@method Water 1\n",
      "161014584@methor_base Patternation 0\n",
      "161014584@method_dif Water 1\n",
      "161014584@method_dif Water 1\n",
      "161014584@experiment Preservative 0\n",
      "161014584@experiment Preservation 0\n",
      "161014584@experiment Patternation 0\n",
      "161014584@result Sedimentary structures 1\n",
      "161014584@result Sedimentation 0\n",
      "161014584@result Patternation 0\n",
      "6375300@aim Carbonate rock 1\n",
      "6375300@aim Carbonization 0\n",
      "6375300@aim Carbonation 0\n",
      "6375300@problem Siliciclastic 1\n",
      "6375300@problem Carbonization 0\n",
      "6375300@problem Carbonation 0\n",
      "43229374@aim Experimental data 0\n",
      "43229374@aim Attenuation 0\n",
      "43229374@aim Experimentalism 0\n",
      "43229374@method Porous medium 1\n",
      "43229374@method Acoustics 1\n",
      "43229374@method Media 0\n",
      "43229374@method_dif Patched 0\n",
      "43229374@method_dif Shaping 0\n",
      "43229374@method_dif Patching 0\n",
      "155723214@aim Sequence stratigraphy 1\n",
      "155723214@aim Conceptual model 1\n",
      "155723214@aim Conceptualization 0\n",
      "155723214@result_outperform Carbonate rock 1\n",
      "155723214@result_outperform Carbonization 0\n",
      "155723214@result_outperform Data curation 0\n",
      "155723214@experiment Carbonization 0\n",
      "155723214@experiment Carbonation 0\n",
      "155723214@experiment Publishing 0\n",
      "155723214@model_base MODELLER 0\n",
      "155723214@model_base Modelling 0\n",
      "155723214@model_base Systemics 0\n",
      "130947657@aim Vadose zone 1\n",
      "130947657@aim Heat transfer 1\n",
      "130947657@aim Transferability 0\n",
      "130947657@problem Vadose zone 1\n",
      "130947657@problem Heat transfer 1\n",
      "130947657@problem Transferability 0\n",
      "130947657@method Time domain 1\n",
      "130947657@method Reflectometry 1\n",
      "130947657@method Methodism 0\n",
      "130947657@experiment Water content 1\n",
      "130947657@experiment The Study 0\n",
      "130947657@experiment Theatre studies 0\n",
      "130947657@result Permanently 0\n",
      "130947657@result Perman 0\n",
      "48410722@aim Water retention 1\n",
      "48410722@aim Canada 1\n",
      "48410722@aim Riprap 1\n",
      "48410722@method Riprap 1\n",
      "48410722@methor_base Riprap 1\n",
      "48410722@experiment Indexicality 0\n",
      "48410722@experiment Indexation 0\n",
      "48410722@experiment Indexer 0\n",
      "48410722@result Resist 0\n",
      "48410722@result Riprap 1\n",
      "48410722@result Causative 0\n",
      "159068247@one_sentence_summary Carbonate rock 1\n",
      "159068247@one_sentence_summary Carbonization 0\n",
      "159068247@one_sentence_summary Abstract Theory 0\n",
      "159068247@the_deferences_comparing_to_previous_methods Brining 0\n",
      "159068247@the_deferences_comparing_to_previous_methods Naturalness 0\n",
      "159068247@the_deferences_comparing_to_previous_methods Naturalization 0\n",
      "159068247@experiment Experiment 0\n",
      "159068247@experiment Performics 0\n",
      "159068247@experiment Performativity 0\n",
      "159068247@results Reaction rate 1\n",
      "159068247@results Observability 0\n",
      "159068247@results Interactivity 0\n",
      "159068247@framework Modelling 0\n",
      "159068247@framework MODELLER 0\n",
      "159068247@model Modelling 0\n",
      "159068247@model MODELLER 0\n",
      "295437275@one_sentence_summary Abstraction 0\n",
      "295437275@one_sentence_summary Formate 0\n",
      "295437275@one_sentence_summary Abstract Theory 0\n",
      "295437275@problem Quitting 0\n",
      "295437275@the_deferences_comparing_to_previous_methods Oss 0\n",
      "295437275@performance_improvements Carbonization 0\n",
      "295437275@performance_improvements Contentment 0\n",
      "295437275@performance_improvements Carbonation 0\n",
      "295437275@results Cement 1\n",
      "295437275@results Fractionation 0\n",
      "295437275@results Fractionalization 0\n",
      "99870250@one_sentence_summary Sequestrant 1\n",
      "99870250@one_sentence_summary Distributivity 0\n",
      "99870250@one_sentence_summary Distributism 0\n",
      "99870250@problem Carbon sink 0\n",
      "99870250@problem Carbonization 0\n",
      "99870250@problem Globalization 0\n",
      "99870250@method Carbonate 0\n",
      "99870250@method Weathering 0\n",
      "99870250@method Regression 1\n",
      "353282569@aim Type locality 0\n",
      "353282569@aim Locality 0\n",
      "353282569@aim Localism 0\n",
      "353282569@result_outperform Luminescence 1\n",
      "353282569@result_outperform Precipitation 0\n",
      "353282569@result_outperform Conditioning 0\n",
      "22798667@result_outperform Precambrian 1\n",
      "22798667@result_outperform Weatherization 0\n",
      "22798667@result_outperform Carbonization 0\n",
      "22798667@result Drainage basin 1\n",
      "22798667@result Compositing 0\n",
      "22798667@result Compositions 0\n",
      "333655864@problem Proterozoic 1\n",
      "333655864@problem Marginalism 0\n",
      "333655864@problem The Margin 0\n",
      "333655864@experiment Geochronology 0\n",
      "333655864@result Orogeny 1\n",
      "333655864@result Lates 0\n",
      "333655864@result Lates 0\n",
      "110929461@result Dolomitization 0\n",
      "110929461@result Cathodoluminescence 1\n",
      "110929461@result The Earlies 0\n",
      "17236855@aim Carbonate platform 1\n",
      "17236855@aim Core sample 1\n",
      "17236855@aim Abstract Theory 0\n",
      "17236855@problem Carbonization 0\n",
      "17236855@problem Fractionalization 0\n",
      "17236855@problem Insignificance 1\n",
      "17236855@result Patternation 0\n",
      "17236855@result Carbonization 0\n",
      "17236855@result Carbonation 0\n",
      "17236855@model_dif Observer pattern 1\n",
      "17236855@model_dif The Observator 0\n",
      "17236855@model_dif The Observers 0\n",
      "17236855@model_base Carbonate platform 1\n",
      "17236855@model_base Carbonization 0\n",
      "17236855@model_base Carbonation 0\n",
      "17236855@model Siliciclastic 1\n",
      "17236855@model Majorization 0\n",
      "17236855@model Modelling 0\n",
      "303993405@one_sentence_summary Carbonate minerals 1\n",
      "303993405@one_sentence_summary Carbonization 0\n",
      "303993405@one_sentence_summary Carbonation 0\n",
      "303993405@problem Cement 1\n",
      "303993405@problem Imagic 0\n",
      "303993405@problem Methodism 0\n",
      "303993405@the_method_is_based_on Electronics 0\n",
      "303993405@the_method_is_based_on Electron 1\n",
      "303993405@the_method_is_based_on Cathodoluminescence 1\n",
      "303993405@results Carbonate minerals 1\n",
      "303993405@results Reflectivity 0\n",
      "303993405@results Carbonization 0\n",
      "25318229@one_sentence_summary Desertification 1\n",
      "25318229@one_sentence_summary Mechanization 0\n",
      "25318229@one_sentence_summary Human Action 0\n",
      "25318229@problem Desertification 1\n",
      "25318229@problem Mechanization 0\n",
      "25318229@problem Human Action 0\n",
      "25318229@the_deferences_comparing_to_previous_methods Desertification 1\n",
      "25318229@the_deferences_comparing_to_previous_methods Carbonate rock 1\n",
      "25318229@the_deferences_comparing_to_previous_methods Mountaineering 0\n",
      "25318229@performance_improvements Desertification 1\n",
      "25318229@performance_improvements Carbonate rock 1\n",
      "25318229@performance_improvements Mountaineering 0\n",
      "495328780@aim Sequence 0\n",
      "495328780@aim Presentism 0\n",
      "495328780@method Sequence 0\n",
      "495328780@experiment Radiocarbon dating 1\n",
      "70802951@aim Core sample 0\n",
      "70802951@aim Carbonization 0\n",
      "70802951@aim Abstract Theory 0\n",
      "70802951@method Kaolinite 1\n",
      "70802951@method Calcite 1\n",
      "70802951@method Kaolinite 1\n",
      "70802951@result_outperform Seismic anisotropy 1\n",
      "70802951@result_outperform Environmentalism 0\n",
      "70802951@result_outperform Engineering 0\n",
      "70802951@result Orientability 0\n",
      "70802951@result Orienteering 0\n",
      "70802951@result Dependability 0\n",
      "41138688@one_sentence_summary Simultaneity 0\n",
      "41138688@one_sentence_summary Carbonization 0\n",
      "41138688@one_sentence_summary Conditioning 0\n",
      "41138688@problem Seawater 1\n",
      "41138688@problem Sectionals 0\n",
      "41138688@problem Sectionalism 0\n",
      "41138688@the_method_is_based_on Doushantuo Formation 1\n",
      "41138688@the_method_is_based_on Carbonate rock 1\n",
      "41138688@the_method_is_based_on Carbonization 0\n",
      "41138688@the_deferences_comparing_to_previous_methods Differently 0\n",
      "41138688@the_deferences_comparing_to_previous_methods Oxide 0\n",
      "41138688@performance_improvements Evolute 0\n",
      "41138688@performance_improvements Evolution 0\n",
      "41138688@performance_improvements Time 0\n",
      "41138688@results Evolute 0\n",
      "41138688@results Evolution 0\n",
      "41138688@results Time 0\n",
      "112751743@aim Doulting 1\n",
      "112751743@aim Abstraction 0\n",
      "112751743@aim Ageing 0\n",
      "112751743@problem Abstraction 0\n",
      "112751743@problem Mineralogy 1\n",
      "112751743@problem Differently 0\n",
      "112751743@result Pollutant 0\n",
      "112751743@result Compositing 0\n",
      "112751743@result Compositions 0\n",
      "125650926@aim Sedimentary rock 1\n",
      "125650926@aim Field Studies 1\n",
      "125650926@aim Performativity 0\n",
      "125650926@problem Subsurface 1\n",
      "125650926@problem Resultative 0\n",
      "125650926@problem Normality 0\n",
      "125650926@method Stiffness 1\n",
      "125650926@method Calculated 0\n",
      "125650926@method Young's modulus 0\n",
      "125650926@methor_base Young's 0\n",
      "125650926@methor_base Young's modulus 0\n",
      "125650926@methor_base Fractured 0\n",
      "125650926@result Clastic rock 1\n",
      "125650926@result Carbonate rock 1\n",
      "125650926@result RockNess 0\n",
      "184032686@aim Catastrophism 0\n",
      "184032686@aim Instability 0\n",
      "184032686@aim Catastrophization 0\n",
      "184032686@problem Catastrophism 0\n",
      "184032686@problem Instability 0\n",
      "184032686@problem Catastrophization 0\n",
      "184032686@method_dif Carbon dioxide 1\n",
      "184032686@method_dif Carbon dioxide 1\n",
      "184032686@method_dif Carbonization 0\n",
      "184032686@result Carbon dioxide 1\n",
      "184032686@result Carbon dioxide 1\n",
      "184032686@result The Escaped 0\n",
      "39696256@aim Genesi 0\n",
      "39696256@aim The Genesis 1\n",
      "39696256@aim NEWS 0\n",
      "39696256@problem The Originals 0\n",
      "39696256@problem Originalism 0\n",
      "39696256@problem Originality 0\n",
      "39696256@method Isotope analysis 1\n",
      "39696256@method The Genesis 0\n",
      "39696256@method The Difference 0\n",
      "39696256@result Conformity 0\n",
      "39696256@result Mobilities 0\n",
      "39696256@result Mobilization 0\n",
      "183495649@aim Water quality 1\n",
      "183495649@aim Identifiability 0\n",
      "183495649@aim Processivity 0\n",
      "183495649@method Surface water 1\n",
      "183495649@method Groundwater 1\n",
      "183495649@method Majorization 0\n",
      "183495649@result Groundwater 1\n",
      "183495649@result Aquifer 1\n",
      "183495649@result Rapidity 0\n",
      "435467046@one_sentence_summary Carbonization 0\n",
      "435467046@one_sentence_summary Carbonation 0\n",
      "435467046@one_sentence_summary Abstract Theory 0\n",
      "435467046@problem Carbonate rock 1\n",
      "435467046@problem Carbonization 0\n",
      "435467046@problem Carbonation 0\n",
      "435467046@method Resultative 0\n",
      "435467046@method Performativity 0\n",
      "435467046@method Productivity 0\n",
      "435467046@performance_improvements Hazard 1\n",
      "435467046@performance_improvements Pose 0\n",
      "435467046@performance_improvements Understand 0\n",
      "435467046@experiment Room temperature 0\n",
      "435467046@experiment Comparability 0\n",
      "435467046@experiment Conditioning 0\n",
      "435467046@results Portlandite 0\n",
      "435467046@results Behavioralism 0\n",
      "435467046@results Mechanization 0\n",
      "422930239@aim The Originals 0\n",
      "422930239@aim Originalism 0\n",
      "422930239@aim Originality 0\n",
      "422930239@method Water 1\n",
      "422930239@method Fresh Water 1\n",
      "422930239@method In situ 0\n",
      "371829998@one_sentence_summary Trawling 1\n",
      "371829998@one_sentence_summary Bottomness 0\n",
      "371829998@problem Methanation 0\n",
      "371829998@problem Carbonization 0\n",
      "371829998@problem Carbonation 0\n",
      "349732568@aim Hysteresis 1\n",
      "349732568@aim Regression 0\n",
      "349732568@aim Spaced 0\n",
      "349732568@problem Hysteresis 1\n",
      "349732568@problem Convention 0\n",
      "349732568@problem The Variable 0\n",
      "349732568@methor_base Hysteresis 1\n",
      "349732568@methor_base Data 0\n",
      "452152717@aim Abstraction 0\n",
      "452152717@aim Thermales 0\n",
      "452152717@aim Abstract Theory 0\n",
      "452152717@problem Dolomitization 0\n",
      "452152717@problem Conditioning 0\n",
      "452152717@problem The Thermals 0\n",
      "452152717@result_outperform Resultative 0\n",
      "452152717@result_outperform Resultant 0\n",
      "452152717@result_outperform Reasonism 0\n",
      "452152717@experiment Diagram 0\n",
      "452152717@experiment Various 0\n",
      "452152717@experiment Assesse 0\n",
      "452152717@result Chalcedony 1\n",
      "452152717@result Dolomitization 0\n",
      "452152717@result Conditioning 0\n",
      "452152717@model_base PH 1\n",
      "452152717@model Chemical equilibrium 1\n",
      "452152717@model MODELLER 0\n",
      "452152717@model Modelling 0\n",
      "329503856@aim Interbedding 0\n",
      "329503856@aim Determinative 0\n",
      "329503856@aim The Originals 0\n",
      "329503856@methor_base Diffraction 1\n",
      "329503856@methor_base Patternation 0\n",
      "329503856@methor_base Modelling 0\n",
      "327345293@one_sentence_summary Compositions 0\n",
      "327345293@one_sentence_summary Carbonization 0\n",
      "327345293@one_sentence_summary Productivity 0\n",
      "327345293@problem Carbonization 0\n",
      "327345293@problem Compositions 0\n",
      "327345293@problem Productivity 0\n",
      "327345293@performance_improvements Numbering 0\n",
      "327345293@performance_improvements Pore 1\n",
      "327345293@performance_improvements Afters 0\n",
      "327345293@experiment Carbonization 0\n",
      "327345293@experiment Repeatability 0\n",
      "327345293@experiment Carbonate rock 1\n",
      "327345293@the_model_is_based_on Direct numerical simulation 0\n",
      "327345293@the_model_is_based_on Navier–Stokes equations 1\n",
      "327345293@the_model_is_based_on Directivity 0\n",
      "327345293@model Two-phase flow 1\n",
      "327345293@model Transporter 0\n",
      "327345293@model Modelling 0\n",
      "237644599@one_sentence_summary Carbonate rock 1\n",
      "237644599@one_sentence_summary Visualization 0\n",
      "237644599@one_sentence_summary Identifiability 0\n",
      "478483347@the_deferences_comparing_to_previous_methods Compositing 0\n",
      "478483347@the_deferences_comparing_to_previous_methods The Stables 0\n",
      "478483347@the_deferences_comparing_to_previous_methods Compositions 0\n"
     ]
    }
   ],
   "source": [
    "for queryid in prepos.keys():\n",
    "    elist = prepos[queryid]\n",
    "    c = 0\n",
    "    for e in elist:\n",
    "        print(idq[int(queryid)], get_entity(e[1]), e[0])"
   ]
  },
  {
   "cell_type": "markdown",
   "metadata": {},
   "source": [
    "## Testing on Benchmark"
   ]
  },
  {
   "cell_type": "markdown",
   "metadata": {},
   "source": [
    "**LambdaRank**"
   ]
  },
  {
   "cell_type": "code",
   "execution_count": 51,
   "metadata": {},
   "outputs": [],
   "source": [
    "import models.LambdaRank as LR\n",
    "import models.LambdaMART as LM\n",
    "import models.RankNet as RN"
   ]
  },
  {
   "cell_type": "code",
   "execution_count": 52,
   "metadata": {},
   "outputs": [],
   "source": [
    "import numpy as np\n",
    "trs = np.load('train.npy')\n",
    "tes = np.load('test.npy')\n",
    "bms = np.load('benchmark.npy')"
   ]
  },
  {
   "cell_type": "markdown",
   "metadata": {},
   "source": [
    "- dstibute"
   ]
  },
  {
   "cell_type": "code",
   "execution_count": 39,
   "metadata": {},
   "outputs": [
    {
     "data": {
      "image/png": "[encoded data removed]",
      "text/plain": [
       "<Figure size 720x432 with 3 Axes>"
      ]
     },
     "metadata": {
      "needs_background": "light"
     },
     "output_type": "display_data"
    }
   ],
   "source": [
    "#导入模块\n",
    "import numpy as np\n",
    "import pandas as pd\n",
    "import matplotlib.pyplot as plt\n",
    "%matplotlib inline\n",
    "\n",
    "np.random.shuffle(trs[:,2])\n",
    "#构造一组随机数据\n",
    "s = pd.DataFrame(trs[:,2],columns = ['value'])\n",
    "\n",
    "#画散点图和直方图\n",
    "fig = plt.figure(figsize = (10,6))\n",
    "ax1 = fig.add_subplot(2,1,1)  # 创建子图1\n",
    "ax1.scatter(s.index, s.values)\n",
    "plt.grid()\n",
    "\n",
    "ax2 = fig.add_subplot(2,1,2)  # 创建子图2\n",
    "s.hist(bins=30,alpha = 0.5,ax = ax2)\n",
    "s.plot(kind = 'kde', secondary_y=True,ax = ax2)\n",
    "plt.grid()"
   ]
  },
  {
   "cell_type": "code",
   "execution_count": 53,
   "metadata": {},
   "outputs": [],
   "source": [
    "n_feature = trs.shape[1] - 2\n",
    "h1_units = 512\n",
    "h2_units = 256\n",
    "epoch = 200\n",
    "learning_rate = 0.00001\n",
    "k = 3"
   ]
  },
  {
   "cell_type": "code",
   "execution_count": 54,
   "metadata": {
    "pycharm": {
     "name": "#%%\n"
    }
   },
   "outputs": [
    {
     "ename": "TypeError",
     "evalue": "expected str, bytes or os.PathLike object, not numpy.ndarray",
     "output_type": "error",
     "traceback": [
      "\u001B[0;31m---------------------------------------------------------------------------\u001B[0m",
      "\u001B[0;31mTypeError\u001B[0m                                 Traceback (most recent call last)",
      "\u001B[0;32m<ipython-input-54-c1fb13e75768>\u001B[0m in \u001B[0;36m<module>\u001B[0;34m\u001B[0m\n\u001B[0;32m----> 1\u001B[0;31m \u001B[0mlrmodel\u001B[0m \u001B[0;34m=\u001B[0m \u001B[0mLR\u001B[0m\u001B[0;34m.\u001B[0m\u001B[0mLambdaRank\u001B[0m\u001B[0;34m(\u001B[0m\u001B[0mtrs\u001B[0m\u001B[0;34m,\u001B[0m \u001B[0mn_feature\u001B[0m\u001B[0;34m,\u001B[0m \u001B[0mh1_units\u001B[0m\u001B[0;34m,\u001B[0m \u001B[0mh2_units\u001B[0m\u001B[0;34m,\u001B[0m \u001B[0mepoch\u001B[0m\u001B[0;34m,\u001B[0m \u001B[0mlearning_rate\u001B[0m\u001B[0;34m)\u001B[0m\u001B[0;34m\u001B[0m\u001B[0;34m\u001B[0m\u001B[0m\n\u001B[0m\u001B[1;32m      2\u001B[0m \u001B[0mlrmodel\u001B[0m\u001B[0;34m.\u001B[0m\u001B[0mfit\u001B[0m\u001B[0;34m(\u001B[0m\u001B[0mk\u001B[0m\u001B[0;34m)\u001B[0m\u001B[0;34m\u001B[0m\u001B[0;34m\u001B[0m\u001B[0m\n\u001B[1;32m      3\u001B[0m \u001B[0mndcg\u001B[0m \u001B[0;34m=\u001B[0m \u001B[0mlrmodel\u001B[0m\u001B[0;34m.\u001B[0m\u001B[0mvalidate\u001B[0m\u001B[0;34m(\u001B[0m\u001B[0mbms\u001B[0m\u001B[0;34m,\u001B[0m \u001B[0mk\u001B[0m\u001B[0;34m)\u001B[0m\u001B[0;34m\u001B[0m\u001B[0;34m\u001B[0m\u001B[0m\n\u001B[1;32m      4\u001B[0m \u001B[0;31m# print(ndcg)\u001B[0m\u001B[0;34m\u001B[0m\u001B[0;34m\u001B[0m\u001B[0;34m\u001B[0m\u001B[0m\n\u001B[1;32m      5\u001B[0m \u001B[0mbm_lr_res\u001B[0m \u001B[0;34m=\u001B[0m \u001B[0mlrmodel\u001B[0m\u001B[0;34m.\u001B[0m\u001B[0mpredict\u001B[0m\u001B[0;34m(\u001B[0m\u001B[0mbms\u001B[0m\u001B[0;34m)\u001B[0m\u001B[0;34m\u001B[0m\u001B[0;34m\u001B[0m\u001B[0m\n",
      "\u001B[0;32m~/project/gitlab/learning2rank_ner/models/LambdaRank.py\u001B[0m in \u001B[0;36m__init__\u001B[0;34m(self, training_data, n_feature, h1_units, h2_units, epoch, lr, number_of_trees, plot)\u001B[0m\n\u001B[1;32m      7\u001B[0m \u001B[0;34m\u001B[0m\u001B[0m\n\u001B[1;32m      8\u001B[0m     \u001B[0;32mdef\u001B[0m \u001B[0m__init__\u001B[0m\u001B[0;34m(\u001B[0m\u001B[0mself\u001B[0m\u001B[0;34m,\u001B[0m \u001B[0mtraining_data\u001B[0m\u001B[0;34m,\u001B[0m \u001B[0mn_feature\u001B[0m\u001B[0;34m,\u001B[0m \u001B[0mh1_units\u001B[0m\u001B[0;34m,\u001B[0m \u001B[0mh2_units\u001B[0m\u001B[0;34m,\u001B[0m \u001B[0mepoch\u001B[0m\u001B[0;34m,\u001B[0m \u001B[0mlr\u001B[0m\u001B[0;34m=\u001B[0m\u001B[0;36m0.001\u001B[0m\u001B[0;34m,\u001B[0m \u001B[0mnumber_of_trees\u001B[0m\u001B[0;34m=\u001B[0m\u001B[0;36m10\u001B[0m\u001B[0;34m,\u001B[0m \u001B[0mplot\u001B[0m\u001B[0;34m=\u001B[0m\u001B[0;32mTrue\u001B[0m\u001B[0;34m)\u001B[0m\u001B[0;34m:\u001B[0m\u001B[0;34m\u001B[0m\u001B[0;34m\u001B[0m\u001B[0m\n\u001B[0;32m----> 9\u001B[0;31m         \u001B[0mself\u001B[0m\u001B[0;34m.\u001B[0m\u001B[0mtraining_data\u001B[0m \u001B[0;34m=\u001B[0m \u001B[0mnp\u001B[0m\u001B[0;34m.\u001B[0m\u001B[0mload\u001B[0m\u001B[0;34m(\u001B[0m\u001B[0mtraining_data\u001B[0m\u001B[0;34m)\u001B[0m\u001B[0;34m\u001B[0m\u001B[0;34m\u001B[0m\u001B[0m\n\u001B[0m\u001B[1;32m     10\u001B[0m         \u001B[0mself\u001B[0m\u001B[0;34m.\u001B[0m\u001B[0mn_feature\u001B[0m \u001B[0;34m=\u001B[0m \u001B[0mn_feature\u001B[0m\u001B[0;34m\u001B[0m\u001B[0;34m\u001B[0m\u001B[0m\n\u001B[1;32m     11\u001B[0m         \u001B[0mself\u001B[0m\u001B[0;34m.\u001B[0m\u001B[0mh1_units\u001B[0m \u001B[0;34m=\u001B[0m \u001B[0mh1_units\u001B[0m\u001B[0;34m\u001B[0m\u001B[0;34m\u001B[0m\u001B[0m\n",
      "\u001B[0;32m~/anaconda3/lib/python3.7/site-packages/numpy/lib/npyio.py\u001B[0m in \u001B[0;36mload\u001B[0;34m(file, mmap_mode, allow_pickle, fix_imports, encoding)\u001B[0m\n\u001B[1;32m    414\u001B[0m             \u001B[0mown_fid\u001B[0m \u001B[0;34m=\u001B[0m \u001B[0;32mFalse\u001B[0m\u001B[0;34m\u001B[0m\u001B[0;34m\u001B[0m\u001B[0m\n\u001B[1;32m    415\u001B[0m         \u001B[0;32melse\u001B[0m\u001B[0;34m:\u001B[0m\u001B[0;34m\u001B[0m\u001B[0;34m\u001B[0m\u001B[0m\n\u001B[0;32m--> 416\u001B[0;31m             \u001B[0mfid\u001B[0m \u001B[0;34m=\u001B[0m \u001B[0mstack\u001B[0m\u001B[0;34m.\u001B[0m\u001B[0menter_context\u001B[0m\u001B[0;34m(\u001B[0m\u001B[0mopen\u001B[0m\u001B[0;34m(\u001B[0m\u001B[0mos_fspath\u001B[0m\u001B[0;34m(\u001B[0m\u001B[0mfile\u001B[0m\u001B[0;34m)\u001B[0m\u001B[0;34m,\u001B[0m \u001B[0;34m\"rb\"\u001B[0m\u001B[0;34m)\u001B[0m\u001B[0;34m)\u001B[0m\u001B[0;34m\u001B[0m\u001B[0;34m\u001B[0m\u001B[0m\n\u001B[0m\u001B[1;32m    417\u001B[0m             \u001B[0mown_fid\u001B[0m \u001B[0;34m=\u001B[0m \u001B[0;32mTrue\u001B[0m\u001B[0;34m\u001B[0m\u001B[0;34m\u001B[0m\u001B[0m\n\u001B[1;32m    418\u001B[0m \u001B[0;34m\u001B[0m\u001B[0m\n",
      "\u001B[0;31mTypeError\u001B[0m: expected str, bytes or os.PathLike object, not numpy.ndarray"
     ]
    }
   ],
   "source": [
    "lrmodel = LR.LambdaRank(trs, n_feature, h1_units, h2_units, epoch, learning_rate)\n",
    "lrmodel.fit(k)\n",
    "ndcg = lrmodel.validate(bms, k)\n",
    "# print(ndcg)\n",
    "bm_lr_res = lrmodel.predict(bms)"
   ]
  },
  {
   "cell_type": "markdown",
   "metadata": {
    "pycharm": {
     "name": "#%% md\n"
    }
   },
   "source": [
    "- evaluate factor"
   ]
  },
  {
   "cell_type": "code",
   "execution_count": 52,
   "metadata": {},
   "outputs": [
    {
     "data": {
      "text/plain": [
       "(2619, 2619)"
      ]
     },
     "execution_count": 52,
     "metadata": {},
     "output_type": "execute_result"
    }
   ],
   "source": [
    "len(benchmark_set), len(dp_bench)\n",
    "# len(testing_set), len(dp_test)"
   ]
  },
  {
   "cell_type": "code",
   "execution_count": 53,
   "metadata": {},
   "outputs": [
    {
     "data": {
      "text/plain": [
       "(0.46279949558638084, 0.5198300283286119, 0.48965977318212145)"
      ]
     },
     "execution_count": 53,
     "metadata": {},
     "output_type": "execute_result"
    }
   ],
   "source": [
    "lr_prepos, lr_preneg = eval_res(bm_lr_res, benchmark_set, dp_bench)\n",
    "factor(lr_prepos, lr_preneg)"
   ]
  },
  {
   "cell_type": "markdown",
   "source": [
    "**LambdaMART**"
   ],
   "metadata": {
    "collapsed": false
   }
  },
  {
   "cell_type": "code",
   "execution_count": null,
   "outputs": [],
   "source": [
    "number_of_trees = 20\n",
    "lr = 0.0001\n",
    "k = 3"
   ],
   "metadata": {
    "collapsed": false,
    "pycharm": {
     "name": "#%%\n"
    }
   }
  },
  {
   "cell_type": "code",
   "execution_count": null,
   "outputs": [],
   "source": [
    "lmmodel = LM.LambdaMART(trs, number_of_trees, lr)\n",
    "lmmodel.fit(k)\n",
    "ndcg = lmmodel.validate(bms, k)\n",
    "# print(ndcg)\n",
    "bm_lm_res = lmmodel.predict(bms)"
   ],
   "metadata": {
    "collapsed": false,
    "pycharm": {
     "name": "#%%\n"
    }
   }
  },
  {
   "cell_type": "code",
   "execution_count": null,
   "outputs": [],
   "source": [
    "lm_prepos, lm_preneg = eval_res(bm_lm_res, benchmark_set, dp_bench)\n",
    "factor(lm_prepos, lm_preneg)"
   ],
   "metadata": {
    "collapsed": false,
    "pycharm": {
     "name": "#%%\n"
    }
   }
  },
  {
   "cell_type": "code",
   "execution_count": null,
   "outputs": [],
   "source": [
    "from torch.utils.data import DataLoder"
   ],
   "metadata": {
    "collapsed": false,
    "pycharm": {
     "name": "#%%\n"
    }
   }
  },
  {
   "cell_type": "code",
   "execution_count": null,
   "outputs": [],
   "source": [
    "a = [('1',1),('2',2),('5',5),('4',4)]\n",
    "sorted(a,key=lambda x:x[1])[::-1]"
   ],
   "metadata": {
    "collapsed": false,
    "pycharm": {
     "name": "#%%\n"
    }
   }
  },
  {
   "cell_type": "code",
   "execution_count": null,
   "outputs": [],
   "source": [
    "a = np.array([[1,2],[3,4]])"
   ],
   "metadata": {
    "collapsed": false,
    "pycharm": {
     "name": "#%%\n"
    }
   }
  },
  {
   "cell_type": "code",
   "execution_count": null,
   "outputs": [],
   "source": [
    "a"
   ],
   "metadata": {
    "collapsed": false,
    "pycharm": {
     "name": "#%%\n"
    }
   }
  },
  {
   "cell_type": "code",
   "execution_count": null,
   "outputs": [],
   "source": [
    "sorted(a.tolist(),key = lambda x:x[1])[::-1][:2]"
   ],
   "metadata": {
    "collapsed": false,
    "pycharm": {
     "name": "#%%\n"
    }
   }
  },
  {
   "cell_type": "code",
   "execution_count": null,
   "outputs": [],
   "source": [
    "b"
   ],
   "metadata": {
    "collapsed": false,
    "pycharm": {
     "name": "#%%\n"
    }
   }
  },
  {
   "cell_type": "code",
   "execution_count": null,
   "outputs": [],
   "source": [
    "import torch\n",
    "a = torch.randn(5, 1)\n",
    "b = torch.randn(5, 1)\n",
    "print(a);print(b)"
   ],
   "metadata": {
    "collapsed": false,
    "pycharm": {
     "name": "#%%\n"
    }
   }
  },
  {
   "cell_type": "code",
   "execution_count": null,
   "outputs": [],
   "source": [
    "torch.cat((a,b),1)"
   ],
   "metadata": {
    "collapsed": false,
    "pycharm": {
     "name": "#%%\n"
    }
   }
  },
  {
   "cell_type": "markdown",
   "metadata": {},
   "source": []
  },
  {
   "cell_type": "code",
   "execution_count": 35,
   "metadata": {},
   "outputs": [],
   "source": [
    "number_of_trees = 20\n",
    "lr = 0.0001\n",
    "k = 3"
   ]
  },
  {
   "cell_type": "code",
   "execution_count": 36,
   "metadata": {},
   "outputs": [
    {
     "name": "stdout",
     "output_type": "stream",
     "text": [
      "Tree 0\n",
      "Epoch:0, Average NDCG@3 : 0.9992032619252583\n",
      "Tree 1\n",
      "Epoch:1, Average NDCG@3 : 0.9992032619252583\n",
      "Tree 2\n",
      "Epoch:2, Average NDCG@3 : 0.9992032619252583\n",
      "Tree 3\n",
      "Epoch:3, Average NDCG@3 : 0.9992032619252583\n",
      "Tree 4\n",
      "Epoch:4, Average NDCG@3 : 0.9992032619252583\n",
      "Tree 5\n",
      "Epoch:5, Average NDCG@3 : 0.9992032619252583\n",
      "Tree 6\n",
      "Epoch:6, Average NDCG@3 : 0.9992032619252583\n",
      "Tree 7\n",
      "Epoch:7, Average NDCG@3 : 0.9992032619252583\n",
      "Tree 8\n",
      "Epoch:8, Average NDCG@3 : 0.9992032619252583\n",
      "Tree 9\n",
      "Epoch:9, Average NDCG@3 : 0.9992032619252583\n",
      "Tree 10\n",
      "Epoch:10, Average NDCG@3 : 0.9992032619252583\n",
      "Tree 11\n",
      "Epoch:11, Average NDCG@3 : 0.9992032619252583\n",
      "Tree 12\n",
      "Epoch:12, Average NDCG@3 : 0.9992032619252583\n",
      "Tree 13\n",
      "Epoch:13, Average NDCG@3 : 0.9992032619252583\n",
      "Tree 14\n",
      "Epoch:14, Average NDCG@3 : 0.9992032619252583\n",
      "Tree 15\n",
      "Epoch:15, Average NDCG@3 : 0.9992032619252583\n",
      "Tree 16\n",
      "Epoch:16, Average NDCG@3 : 0.9992032619252583\n",
      "Tree 17\n",
      "Epoch:17, Average NDCG@3 : 0.9992032619252583\n",
      "Tree 18\n",
      "Epoch:18, Average NDCG@3 : 0.9992032619252583\n",
      "Tree 19\n",
      "Epoch:19, Average NDCG@3 : 0.9992032619252583\n"
     ]
    }
   ],
   "source": [
    "lmmodel = LM.LambdaMART(trs, number_of_trees, lr)\n",
    "lmmodel.fit(k)\n",
    "ndcg = lmmodel.validate(bms, k)\n",
    "# print(ndcg)\n",
    "bm_lm_res = lmmodel.predict(bms)"
   ]
  },
  {
   "cell_type": "code",
   "execution_count": 56,
   "metadata": {},
   "outputs": [
    {
     "data": {
      "text/plain": [
       "(0.4728877679697352, 0.5311614730878187, 0.5003335557038026)"
      ]
     },
     "execution_count": 56,
     "metadata": {},
     "output_type": "execute_result"
    }
   ],
   "source": [
    "lm_prepos, lm_preneg = eval_res(bm_lm_res, benchmark_set, dp_bench)\n",
    "factor(lm_prepos, lm_preneg)"
   ]
  },
  {
   "cell_type": "code",
   "execution_count": 56,
   "metadata": {},
   "outputs": [
    {
     "ename": "ImportError",
     "evalue": "cannot import name 'DataLoder' from 'torch.utils.data' (/home/HanZhou/anaconda3/lib/python3.7/site-packages/torch/utils/data/__init__.py)",
     "output_type": "error",
     "traceback": [
      "\u001B[0;31m---------------------------------------------------------------------------\u001B[0m",
      "\u001B[0;31mImportError\u001B[0m                               Traceback (most recent call last)",
      "\u001B[0;32m<ipython-input-56-8e0be2c3dbce>\u001B[0m in \u001B[0;36m<module>\u001B[0;34m\u001B[0m\n\u001B[0;32m----> 1\u001B[0;31m \u001B[0;32mfrom\u001B[0m \u001B[0mtorch\u001B[0m\u001B[0;34m.\u001B[0m\u001B[0mutils\u001B[0m\u001B[0;34m.\u001B[0m\u001B[0mdata\u001B[0m \u001B[0;32mimport\u001B[0m \u001B[0mDataLoder\u001B[0m\u001B[0;34m\u001B[0m\u001B[0;34m\u001B[0m\u001B[0m\n\u001B[0m",
      "\u001B[0;31mImportError\u001B[0m: cannot import name 'DataLoder' from 'torch.utils.data' (/home/HanZhou/anaconda3/lib/python3.7/site-packages/torch/utils/data/__init__.py)"
     ]
    }
   ],
   "source": [
    "from torch.utils.data import DataLoder"
   ]
  },
  {
   "cell_type": "code",
   "execution_count": 66,
   "metadata": {},
   "outputs": [
    {
     "data": {
      "text/plain": [
       "[('5', 5), ('4', 4), ('2', 2), ('1', 1)]"
      ]
     },
     "execution_count": 66,
     "metadata": {},
     "output_type": "execute_result"
    }
   ],
   "source": [
    "a = [('1',1),('2',2),('5',5),('4',4)]\n",
    "sorted(a,key=lambda x:x[1])[::-1]"
   ]
  },
  {
   "cell_type": "code",
   "execution_count": 67,
   "metadata": {},
   "outputs": [],
   "source": [
    "a = np.array([[1,2],[3,4]])"
   ]
  },
  {
   "cell_type": "code",
   "execution_count": 68,
   "metadata": {},
   "outputs": [
    {
     "data": {
      "text/plain": [
       "array([[1, 2],\n",
       "       [3, 4]])"
      ]
     },
     "execution_count": 68,
     "metadata": {},
     "output_type": "execute_result"
    }
   ],
   "source": [
    "a"
   ]
  },
  {
   "cell_type": "code",
   "execution_count": 76,
   "metadata": {},
   "outputs": [
    {
     "data": {
      "text/plain": [
       "[[3, 4], [1, 2]]"
      ]
     },
     "execution_count": 76,
     "metadata": {},
     "output_type": "execute_result"
    }
   ],
   "source": [
    "sorted(a.tolist(),key = lambda x:x[1])[::-1][:2]"
   ]
  },
  {
   "cell_type": "code",
   "execution_count": 70,
   "metadata": {},
   "outputs": [
    {
     "data": {
      "text/plain": [
       "[array([1, 2]), array([3, 4])]"
      ]
     },
     "execution_count": 70,
     "metadata": {},
     "output_type": "execute_result"
    }
   ],
   "source": [
    "b"
   ]
  },
  {
   "cell_type": "code",
   "execution_count": 85,
   "metadata": {},
   "outputs": [
    {
     "name": "stdout",
     "output_type": "stream",
     "text": [
      "tensor([[ 0.2773],\n",
      "        [ 0.3530],\n",
      "        [-0.0631],\n",
      "        [-0.3148],\n",
      "        [ 0.7475]])\n",
      "tensor([[ 0.9412],\n",
      "        [ 1.1126],\n",
      "        [-0.4356],\n",
      "        [-0.3488],\n",
      "        [ 0.8223]])\n"
     ]
    }
   ],
   "source": [
    "import torch\n",
    "a = torch.randn(5, 1)\n",
    "b = torch.randn(5, 1)\n",
    "print(a);print(b)"
   ]
  },
  {
   "cell_type": "code",
   "execution_count": 86,
   "metadata": {},
   "outputs": [
    {
     "data": {
      "text/plain": [
       "tensor([[ 0.2773,  0.9412],\n",
       "        [ 0.3530,  1.1126],\n",
       "        [-0.0631, -0.4356],\n",
       "        [-0.3148, -0.3488],\n",
       "        [ 0.7475,  0.8223]])"
      ]
     },
     "execution_count": 86,
     "metadata": {},
     "output_type": "execute_result"
    }
   ],
   "source": [
    "torch.cat((a,b),1)"
   ]
  },
  {
   "cell_type": "code",
   "execution_count": null,
   "metadata": {},
   "outputs": [],
   "source": []
  }
 ],
 "metadata": {
  "kernelspec": {
   "display_name": "Python 3",
   "language": "python",
   "name": "python3"
  },
  "language_info": {
   "codemirror_mode": {
    "name": "ipython",
    "version": 3
   },
   "file_extension": ".py",
   "mimetype": "text/x-python",
   "name": "python",
   "nbconvert_exporter": "python",
   "pygments_lexer": "ipython3",
   "version": "3.7.4"
  }
 },
 "nbformat": 4,
 "nbformat_minor": 4
}